{
  "nbformat": 4,
  "nbformat_minor": 0,
  "metadata": {
    "colab": {
      "name": "Melanoma Detection.ipynb",
      "provenance": [],
      "collapsed_sections": [],
      "authorship_tag": "ABX9TyMs0jtWgpWDmY53JXf2Wzk1",
      "include_colab_link": true
    },
    "kernelspec": {
      "display_name": "Python 3",
      "name": "python3"
    },
    "language_info": {
      "name": "python"
    },
    "widgets": {
      "application/vnd.jupyter.widget-state+json": {
        "5b3ab4d55faa47b893b53073da655681": {
          "model_module": "@jupyter-widgets/controls",
          "model_name": "HBoxModel",
          "state": {
            "_view_name": "HBoxView",
            "_dom_classes": [],
            "_model_name": "HBoxModel",
            "_view_module": "@jupyter-widgets/controls",
            "_model_module_version": "1.5.0",
            "_view_count": null,
            "_view_module_version": "1.5.0",
            "box_style": "",
            "layout": "IPY_MODEL_50e8a460014443a28eb29a33a36da839",
            "_model_module": "@jupyter-widgets/controls",
            "children": [
              "IPY_MODEL_da4afd3dd0ce4401acdeb952551f83e5",
              "IPY_MODEL_0ad5ae7ff3134b26bfefebe351c3e80f"
            ]
          }
        },
        "50e8a460014443a28eb29a33a36da839": {
          "model_module": "@jupyter-widgets/base",
          "model_name": "LayoutModel",
          "state": {
            "_view_name": "LayoutView",
            "grid_template_rows": null,
            "right": null,
            "justify_content": null,
            "_view_module": "@jupyter-widgets/base",
            "overflow": null,
            "_model_module_version": "1.2.0",
            "_view_count": null,
            "flex_flow": null,
            "width": null,
            "min_width": null,
            "border": null,
            "align_items": null,
            "bottom": null,
            "_model_module": "@jupyter-widgets/base",
            "top": null,
            "grid_column": null,
            "overflow_y": null,
            "overflow_x": null,
            "grid_auto_flow": null,
            "grid_area": null,
            "grid_template_columns": null,
            "flex": null,
            "_model_name": "LayoutModel",
            "justify_items": null,
            "grid_row": null,
            "max_height": null,
            "align_content": null,
            "visibility": null,
            "align_self": null,
            "height": null,
            "min_height": null,
            "padding": null,
            "grid_auto_rows": null,
            "grid_gap": null,
            "max_width": null,
            "order": null,
            "_view_module_version": "1.2.0",
            "grid_template_areas": null,
            "object_position": null,
            "object_fit": null,
            "grid_auto_columns": null,
            "margin": null,
            "display": null,
            "left": null
          }
        },
        "da4afd3dd0ce4401acdeb952551f83e5": {
          "model_module": "@jupyter-widgets/controls",
          "model_name": "FloatProgressModel",
          "state": {
            "_view_name": "ProgressView",
            "style": "IPY_MODEL_8521f53a0abf479f837ccb001475a649",
            "_dom_classes": [],
            "description": "100%",
            "_model_name": "FloatProgressModel",
            "bar_style": "success",
            "max": 102530333,
            "_view_module": "@jupyter-widgets/controls",
            "_model_module_version": "1.5.0",
            "value": 102530333,
            "_view_count": null,
            "_view_module_version": "1.5.0",
            "orientation": "horizontal",
            "min": 0,
            "description_tooltip": null,
            "_model_module": "@jupyter-widgets/controls",
            "layout": "IPY_MODEL_8b7aea9bc84e428cb281fda84e59e3bd"
          }
        },
        "0ad5ae7ff3134b26bfefebe351c3e80f": {
          "model_module": "@jupyter-widgets/controls",
          "model_name": "HTMLModel",
          "state": {
            "_view_name": "HTMLView",
            "style": "IPY_MODEL_a760ac0e60ec45d0a9d8f9ffd981f73e",
            "_dom_classes": [],
            "description": "",
            "_model_name": "HTMLModel",
            "placeholder": "​",
            "_view_module": "@jupyter-widgets/controls",
            "_model_module_version": "1.5.0",
            "value": " 97.8M/97.8M [00:02&lt;00:00, 48.3MB/s]",
            "_view_count": null,
            "_view_module_version": "1.5.0",
            "description_tooltip": null,
            "_model_module": "@jupyter-widgets/controls",
            "layout": "IPY_MODEL_eed0aeabf60f44b7922bcf7b582f0ff0"
          }
        },
        "8521f53a0abf479f837ccb001475a649": {
          "model_module": "@jupyter-widgets/controls",
          "model_name": "ProgressStyleModel",
          "state": {
            "_view_name": "StyleView",
            "_model_name": "ProgressStyleModel",
            "description_width": "initial",
            "_view_module": "@jupyter-widgets/base",
            "_model_module_version": "1.5.0",
            "_view_count": null,
            "_view_module_version": "1.2.0",
            "bar_color": null,
            "_model_module": "@jupyter-widgets/controls"
          }
        },
        "8b7aea9bc84e428cb281fda84e59e3bd": {
          "model_module": "@jupyter-widgets/base",
          "model_name": "LayoutModel",
          "state": {
            "_view_name": "LayoutView",
            "grid_template_rows": null,
            "right": null,
            "justify_content": null,
            "_view_module": "@jupyter-widgets/base",
            "overflow": null,
            "_model_module_version": "1.2.0",
            "_view_count": null,
            "flex_flow": null,
            "width": null,
            "min_width": null,
            "border": null,
            "align_items": null,
            "bottom": null,
            "_model_module": "@jupyter-widgets/base",
            "top": null,
            "grid_column": null,
            "overflow_y": null,
            "overflow_x": null,
            "grid_auto_flow": null,
            "grid_area": null,
            "grid_template_columns": null,
            "flex": null,
            "_model_name": "LayoutModel",
            "justify_items": null,
            "grid_row": null,
            "max_height": null,
            "align_content": null,
            "visibility": null,
            "align_self": null,
            "height": null,
            "min_height": null,
            "padding": null,
            "grid_auto_rows": null,
            "grid_gap": null,
            "max_width": null,
            "order": null,
            "_view_module_version": "1.2.0",
            "grid_template_areas": null,
            "object_position": null,
            "object_fit": null,
            "grid_auto_columns": null,
            "margin": null,
            "display": null,
            "left": null
          }
        },
        "a760ac0e60ec45d0a9d8f9ffd981f73e": {
          "model_module": "@jupyter-widgets/controls",
          "model_name": "DescriptionStyleModel",
          "state": {
            "_view_name": "StyleView",
            "_model_name": "DescriptionStyleModel",
            "description_width": "",
            "_view_module": "@jupyter-widgets/base",
            "_model_module_version": "1.5.0",
            "_view_count": null,
            "_view_module_version": "1.2.0",
            "_model_module": "@jupyter-widgets/controls"
          }
        },
        "eed0aeabf60f44b7922bcf7b582f0ff0": {
          "model_module": "@jupyter-widgets/base",
          "model_name": "LayoutModel",
          "state": {
            "_view_name": "LayoutView",
            "grid_template_rows": null,
            "right": null,
            "justify_content": null,
            "_view_module": "@jupyter-widgets/base",
            "overflow": null,
            "_model_module_version": "1.2.0",
            "_view_count": null,
            "flex_flow": null,
            "width": null,
            "min_width": null,
            "border": null,
            "align_items": null,
            "bottom": null,
            "_model_module": "@jupyter-widgets/base",
            "top": null,
            "grid_column": null,
            "overflow_y": null,
            "overflow_x": null,
            "grid_auto_flow": null,
            "grid_area": null,
            "grid_template_columns": null,
            "flex": null,
            "_model_name": "LayoutModel",
            "justify_items": null,
            "grid_row": null,
            "max_height": null,
            "align_content": null,
            "visibility": null,
            "align_self": null,
            "height": null,
            "min_height": null,
            "padding": null,
            "grid_auto_rows": null,
            "grid_gap": null,
            "max_width": null,
            "order": null,
            "_view_module_version": "1.2.0",
            "grid_template_areas": null,
            "object_position": null,
            "object_fit": null,
            "grid_auto_columns": null,
            "margin": null,
            "display": null,
            "left": null
          }
        },
        "a6883bac8353427c8ebecd9c86f80320": {
          "model_module": "@jupyter-widgets/controls",
          "model_name": "HBoxModel",
          "state": {
            "_view_name": "HBoxView",
            "_dom_classes": [],
            "_model_name": "HBoxModel",
            "_view_module": "@jupyter-widgets/controls",
            "_model_module_version": "1.5.0",
            "_view_count": null,
            "_view_module_version": "1.5.0",
            "box_style": "",
            "layout": "IPY_MODEL_cacbe2cefd674be6b0cd2ed37a09b65d",
            "_model_module": "@jupyter-widgets/controls",
            "children": [
              "IPY_MODEL_748392e8db444351acad3e2fe8b4119f",
              "IPY_MODEL_5822c0d58aa242c5a9f7422e2a5c97fc"
            ]
          }
        },
        "cacbe2cefd674be6b0cd2ed37a09b65d": {
          "model_module": "@jupyter-widgets/base",
          "model_name": "LayoutModel",
          "state": {
            "_view_name": "LayoutView",
            "grid_template_rows": null,
            "right": null,
            "justify_content": null,
            "_view_module": "@jupyter-widgets/base",
            "overflow": null,
            "_model_module_version": "1.2.0",
            "_view_count": null,
            "flex_flow": null,
            "width": null,
            "min_width": null,
            "border": null,
            "align_items": null,
            "bottom": null,
            "_model_module": "@jupyter-widgets/base",
            "top": null,
            "grid_column": null,
            "overflow_y": null,
            "overflow_x": null,
            "grid_auto_flow": null,
            "grid_area": null,
            "grid_template_columns": null,
            "flex": null,
            "_model_name": "LayoutModel",
            "justify_items": null,
            "grid_row": null,
            "max_height": null,
            "align_content": null,
            "visibility": null,
            "align_self": null,
            "height": null,
            "min_height": null,
            "padding": null,
            "grid_auto_rows": null,
            "grid_gap": null,
            "max_width": null,
            "order": null,
            "_view_module_version": "1.2.0",
            "grid_template_areas": null,
            "object_position": null,
            "object_fit": null,
            "grid_auto_columns": null,
            "margin": null,
            "display": null,
            "left": null
          }
        },
        "748392e8db444351acad3e2fe8b4119f": {
          "model_module": "@jupyter-widgets/controls",
          "model_name": "FloatProgressModel",
          "state": {
            "_view_name": "ProgressView",
            "style": "IPY_MODEL_b9e016668a18496b9dcd91b5cf9aa423",
            "_dom_classes": [],
            "description": "100%",
            "_model_name": "FloatProgressModel",
            "bar_style": "success",
            "max": 102530333,
            "_view_module": "@jupyter-widgets/controls",
            "_model_module_version": "1.5.0",
            "value": 102530333,
            "_view_count": null,
            "_view_module_version": "1.5.0",
            "orientation": "horizontal",
            "min": 0,
            "description_tooltip": null,
            "_model_module": "@jupyter-widgets/controls",
            "layout": "IPY_MODEL_7af935d9b4a44744bc637ca3c0e939f4"
          }
        },
        "5822c0d58aa242c5a9f7422e2a5c97fc": {
          "model_module": "@jupyter-widgets/controls",
          "model_name": "HTMLModel",
          "state": {
            "_view_name": "HTMLView",
            "style": "IPY_MODEL_7e6f716e43294303b3aaffc6befdded5",
            "_dom_classes": [],
            "description": "",
            "_model_name": "HTMLModel",
            "placeholder": "​",
            "_view_module": "@jupyter-widgets/controls",
            "_model_module_version": "1.5.0",
            "value": " 97.8M/97.8M [00:06&lt;00:00, 15.9MB/s]",
            "_view_count": null,
            "_view_module_version": "1.5.0",
            "description_tooltip": null,
            "_model_module": "@jupyter-widgets/controls",
            "layout": "IPY_MODEL_48cb3954d33749c78c5bc41da4925ed0"
          }
        },
        "b9e016668a18496b9dcd91b5cf9aa423": {
          "model_module": "@jupyter-widgets/controls",
          "model_name": "ProgressStyleModel",
          "state": {
            "_view_name": "StyleView",
            "_model_name": "ProgressStyleModel",
            "description_width": "initial",
            "_view_module": "@jupyter-widgets/base",
            "_model_module_version": "1.5.0",
            "_view_count": null,
            "_view_module_version": "1.2.0",
            "bar_color": null,
            "_model_module": "@jupyter-widgets/controls"
          }
        },
        "7af935d9b4a44744bc637ca3c0e939f4": {
          "model_module": "@jupyter-widgets/base",
          "model_name": "LayoutModel",
          "state": {
            "_view_name": "LayoutView",
            "grid_template_rows": null,
            "right": null,
            "justify_content": null,
            "_view_module": "@jupyter-widgets/base",
            "overflow": null,
            "_model_module_version": "1.2.0",
            "_view_count": null,
            "flex_flow": null,
            "width": null,
            "min_width": null,
            "border": null,
            "align_items": null,
            "bottom": null,
            "_model_module": "@jupyter-widgets/base",
            "top": null,
            "grid_column": null,
            "overflow_y": null,
            "overflow_x": null,
            "grid_auto_flow": null,
            "grid_area": null,
            "grid_template_columns": null,
            "flex": null,
            "_model_name": "LayoutModel",
            "justify_items": null,
            "grid_row": null,
            "max_height": null,
            "align_content": null,
            "visibility": null,
            "align_self": null,
            "height": null,
            "min_height": null,
            "padding": null,
            "grid_auto_rows": null,
            "grid_gap": null,
            "max_width": null,
            "order": null,
            "_view_module_version": "1.2.0",
            "grid_template_areas": null,
            "object_position": null,
            "object_fit": null,
            "grid_auto_columns": null,
            "margin": null,
            "display": null,
            "left": null
          }
        },
        "7e6f716e43294303b3aaffc6befdded5": {
          "model_module": "@jupyter-widgets/controls",
          "model_name": "DescriptionStyleModel",
          "state": {
            "_view_name": "StyleView",
            "_model_name": "DescriptionStyleModel",
            "description_width": "",
            "_view_module": "@jupyter-widgets/base",
            "_model_module_version": "1.5.0",
            "_view_count": null,
            "_view_module_version": "1.2.0",
            "_model_module": "@jupyter-widgets/controls"
          }
        },
        "48cb3954d33749c78c5bc41da4925ed0": {
          "model_module": "@jupyter-widgets/base",
          "model_name": "LayoutModel",
          "state": {
            "_view_name": "LayoutView",
            "grid_template_rows": null,
            "right": null,
            "justify_content": null,
            "_view_module": "@jupyter-widgets/base",
            "overflow": null,
            "_model_module_version": "1.2.0",
            "_view_count": null,
            "flex_flow": null,
            "width": null,
            "min_width": null,
            "border": null,
            "align_items": null,
            "bottom": null,
            "_model_module": "@jupyter-widgets/base",
            "top": null,
            "grid_column": null,
            "overflow_y": null,
            "overflow_x": null,
            "grid_auto_flow": null,
            "grid_area": null,
            "grid_template_columns": null,
            "flex": null,
            "_model_name": "LayoutModel",
            "justify_items": null,
            "grid_row": null,
            "max_height": null,
            "align_content": null,
            "visibility": null,
            "align_self": null,
            "height": null,
            "min_height": null,
            "padding": null,
            "grid_auto_rows": null,
            "grid_gap": null,
            "max_width": null,
            "order": null,
            "_view_module_version": "1.2.0",
            "grid_template_areas": null,
            "object_position": null,
            "object_fit": null,
            "grid_auto_columns": null,
            "margin": null,
            "display": null,
            "left": null
          }
        },
        "9210df02121d46a4b3eff31b80f6fd3b": {
          "model_module": "@jupyter-widgets/controls",
          "model_name": "FileUploadModel",
          "state": {
            "_view_name": "FileUploadView",
            "_counter": 0,
            "style": "IPY_MODEL_b934173bcce84d7ab18205436572ebff",
            "_dom_classes": [],
            "description": "Upload",
            "multiple": false,
            "_model_name": "FileUploadModel",
            "data": [],
            "button_style": "",
            "_view_module": "@jupyter-widgets/controls",
            "_model_module_version": "1.5.0",
            "accept": "",
            "_view_count": null,
            "disabled": false,
            "_view_module_version": "1.5.0",
            "error": "",
            "description_tooltip": null,
            "metadata": [],
            "_model_module": "@jupyter-widgets/controls",
            "layout": "IPY_MODEL_a94e010f3b0947e3b7af8de5f5285beb",
            "icon": "upload"
          }
        },
        "b934173bcce84d7ab18205436572ebff": {
          "model_module": "@jupyter-widgets/controls",
          "model_name": "ButtonStyleModel",
          "state": {
            "_view_name": "StyleView",
            "_model_name": "ButtonStyleModel",
            "_view_module": "@jupyter-widgets/base",
            "_model_module_version": "1.5.0",
            "_view_count": null,
            "button_color": "lightblue",
            "font_weight": "",
            "_view_module_version": "1.2.0",
            "_model_module": "@jupyter-widgets/controls"
          }
        },
        "a94e010f3b0947e3b7af8de5f5285beb": {
          "model_module": "@jupyter-widgets/base",
          "model_name": "LayoutModel",
          "state": {
            "_view_name": "LayoutView",
            "grid_template_rows": null,
            "right": null,
            "justify_content": null,
            "_view_module": "@jupyter-widgets/base",
            "overflow": null,
            "_model_module_version": "1.2.0",
            "_view_count": null,
            "flex_flow": null,
            "width": "%10",
            "min_width": null,
            "border": null,
            "align_items": null,
            "bottom": null,
            "_model_module": "@jupyter-widgets/base",
            "top": null,
            "grid_column": null,
            "overflow_y": null,
            "overflow_x": null,
            "grid_auto_flow": null,
            "grid_area": null,
            "grid_template_columns": null,
            "flex": null,
            "_model_name": "LayoutModel",
            "justify_items": null,
            "grid_row": null,
            "max_height": null,
            "align_content": null,
            "visibility": null,
            "align_self": null,
            "height": "40px",
            "min_height": null,
            "padding": null,
            "grid_auto_rows": null,
            "grid_gap": null,
            "max_width": null,
            "order": null,
            "_view_module_version": "1.2.0",
            "grid_template_areas": null,
            "object_position": null,
            "object_fit": null,
            "grid_auto_columns": null,
            "margin": null,
            "display": null,
            "left": null
          }
        },
        "12f15ed27c584bfa83c88ac6ae7c588c": {
          "model_module": "@jupyter-widgets/output",
          "model_name": "OutputModel",
          "state": {
            "_view_name": "OutputView",
            "msg_id": "",
            "_dom_classes": [],
            "_model_name": "OutputModel",
            "outputs": [
              {
                "output_type": "display_data",
                "metadata": {
                  "tags": []
                },
                "image/png": "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\n",
                "text/plain": "<PIL.Image.Image image mode=RGB size=128x85 at 0x7F87D9273810>"
              }
            ],
            "_view_module": "@jupyter-widgets/output",
            "_model_module_version": "1.0.0",
            "_view_count": null,
            "_view_module_version": "1.0.0",
            "layout": "IPY_MODEL_286fa1b271da44ec853bb52b2101bf05",
            "_model_module": "@jupyter-widgets/output"
          }
        },
        "286fa1b271da44ec853bb52b2101bf05": {
          "model_module": "@jupyter-widgets/base",
          "model_name": "LayoutModel",
          "state": {
            "_view_name": "LayoutView",
            "grid_template_rows": null,
            "right": null,
            "justify_content": null,
            "_view_module": "@jupyter-widgets/base",
            "overflow": null,
            "_model_module_version": "1.2.0",
            "_view_count": null,
            "flex_flow": null,
            "width": null,
            "min_width": null,
            "border": null,
            "align_items": null,
            "bottom": null,
            "_model_module": "@jupyter-widgets/base",
            "top": null,
            "grid_column": null,
            "overflow_y": null,
            "overflow_x": null,
            "grid_auto_flow": null,
            "grid_area": null,
            "grid_template_columns": null,
            "flex": null,
            "_model_name": "LayoutModel",
            "justify_items": null,
            "grid_row": null,
            "max_height": null,
            "align_content": null,
            "visibility": null,
            "align_self": null,
            "height": null,
            "min_height": null,
            "padding": null,
            "grid_auto_rows": null,
            "grid_gap": null,
            "max_width": null,
            "order": null,
            "_view_module_version": "1.2.0",
            "grid_template_areas": null,
            "object_position": null,
            "object_fit": null,
            "grid_auto_columns": null,
            "margin": null,
            "display": null,
            "left": null
          }
        },
        "5647c7907d5d449ea6e6a8e420a7abef": {
          "model_module": "@jupyter-widgets/controls",
          "model_name": "LabelModel",
          "state": {
            "_view_name": "LabelView",
            "style": "IPY_MODEL_9dc136763ebb40d09e4b90f48fd8652a",
            "_dom_classes": [],
            "description": "",
            "_model_name": "LabelModel",
            "placeholder": "​",
            "_view_module": "@jupyter-widgets/controls",
            "_model_module_version": "1.5.0",
            "value": "Prediction: 0; Probability: 0.9290",
            "_view_count": null,
            "_view_module_version": "1.5.0",
            "description_tooltip": null,
            "_model_module": "@jupyter-widgets/controls",
            "layout": "IPY_MODEL_d56aa5b0389b4dccbd6b43f4a087d74f"
          }
        },
        "9dc136763ebb40d09e4b90f48fd8652a": {
          "model_module": "@jupyter-widgets/controls",
          "model_name": "DescriptionStyleModel",
          "state": {
            "_view_name": "StyleView",
            "_model_name": "DescriptionStyleModel",
            "description_width": "",
            "_view_module": "@jupyter-widgets/base",
            "_model_module_version": "1.5.0",
            "_view_count": null,
            "_view_module_version": "1.2.0",
            "_model_module": "@jupyter-widgets/controls"
          }
        },
        "d56aa5b0389b4dccbd6b43f4a087d74f": {
          "model_module": "@jupyter-widgets/base",
          "model_name": "LayoutModel",
          "state": {
            "_view_name": "LayoutView",
            "grid_template_rows": null,
            "right": null,
            "justify_content": null,
            "_view_module": "@jupyter-widgets/base",
            "overflow": null,
            "_model_module_version": "1.2.0",
            "_view_count": null,
            "flex_flow": null,
            "width": null,
            "min_width": null,
            "border": null,
            "align_items": null,
            "bottom": null,
            "_model_module": "@jupyter-widgets/base",
            "top": null,
            "grid_column": null,
            "overflow_y": null,
            "overflow_x": null,
            "grid_auto_flow": null,
            "grid_area": null,
            "grid_template_columns": null,
            "flex": null,
            "_model_name": "LayoutModel",
            "justify_items": null,
            "grid_row": null,
            "max_height": null,
            "align_content": null,
            "visibility": null,
            "align_self": null,
            "height": null,
            "min_height": null,
            "padding": null,
            "grid_auto_rows": null,
            "grid_gap": null,
            "max_width": null,
            "order": null,
            "_view_module_version": "1.2.0",
            "grid_template_areas": null,
            "object_position": null,
            "object_fit": null,
            "grid_auto_columns": null,
            "margin": null,
            "display": null,
            "left": null
          }
        },
        "83c379c37d8d4a5298ea39415c27df3c": {
          "model_module": "@jupyter-widgets/controls",
          "model_name": "ButtonModel",
          "state": {
            "_view_name": "ButtonView",
            "style": "IPY_MODEL_062222becd6d4f54a9e0bffa4e2be2d8",
            "_dom_classes": [],
            "description": "Classify",
            "_model_name": "ButtonModel",
            "button_style": "",
            "_view_module": "@jupyter-widgets/controls",
            "_model_module_version": "1.5.0",
            "tooltip": "",
            "_view_count": null,
            "disabled": false,
            "_view_module_version": "1.5.0",
            "layout": "IPY_MODEL_122a9576ed2b4d08ae8e68ff8a426973",
            "_model_module": "@jupyter-widgets/controls",
            "icon": ""
          }
        },
        "062222becd6d4f54a9e0bffa4e2be2d8": {
          "model_module": "@jupyter-widgets/controls",
          "model_name": "ButtonStyleModel",
          "state": {
            "_view_name": "StyleView",
            "_model_name": "ButtonStyleModel",
            "_view_module": "@jupyter-widgets/base",
            "_model_module_version": "1.5.0",
            "_view_count": null,
            "button_color": "lightgreen",
            "font_weight": "",
            "_view_module_version": "1.2.0",
            "_model_module": "@jupyter-widgets/controls"
          }
        },
        "122a9576ed2b4d08ae8e68ff8a426973": {
          "model_module": "@jupyter-widgets/base",
          "model_name": "LayoutModel",
          "state": {
            "_view_name": "LayoutView",
            "grid_template_rows": null,
            "right": null,
            "justify_content": null,
            "_view_module": "@jupyter-widgets/base",
            "overflow": null,
            "_model_module_version": "1.2.0",
            "_view_count": null,
            "flex_flow": null,
            "width": "%10",
            "min_width": null,
            "border": null,
            "align_items": null,
            "bottom": null,
            "_model_module": "@jupyter-widgets/base",
            "top": null,
            "grid_column": null,
            "overflow_y": null,
            "overflow_x": null,
            "grid_auto_flow": null,
            "grid_area": null,
            "grid_template_columns": null,
            "flex": null,
            "_model_name": "LayoutModel",
            "justify_items": null,
            "grid_row": null,
            "max_height": null,
            "align_content": null,
            "visibility": null,
            "align_self": null,
            "height": "40px",
            "min_height": null,
            "padding": null,
            "grid_auto_rows": null,
            "grid_gap": null,
            "max_width": null,
            "order": null,
            "_view_module_version": "1.2.0",
            "grid_template_areas": null,
            "object_position": null,
            "object_fit": null,
            "grid_auto_columns": null,
            "margin": null,
            "display": null,
            "left": null
          }
        },
        "f77910caec7c4d51818466c2e279f2bf": {
          "model_module": "@jupyter-widgets/controls",
          "model_name": "VBoxModel",
          "state": {
            "_view_name": "VBoxView",
            "_dom_classes": [],
            "_model_name": "VBoxModel",
            "_view_module": "@jupyter-widgets/controls",
            "_model_module_version": "1.5.0",
            "_view_count": null,
            "_view_module_version": "1.5.0",
            "box_style": "",
            "layout": "IPY_MODEL_b506ef9311aa4dc58f30da12e8c1b3ee",
            "_model_module": "@jupyter-widgets/controls",
            "children": [
              "IPY_MODEL_c51bf5ac4988415f963928d7b11365be",
              "IPY_MODEL_3340d51279c84276aaad0287fefde407",
              "IPY_MODEL_83c379c37d8d4a5298ea39415c27df3c",
              "IPY_MODEL_12f15ed27c584bfa83c88ac6ae7c588c",
              "IPY_MODEL_5647c7907d5d449ea6e6a8e420a7abef"
            ]
          }
        },
        "b506ef9311aa4dc58f30da12e8c1b3ee": {
          "model_module": "@jupyter-widgets/base",
          "model_name": "LayoutModel",
          "state": {
            "_view_name": "LayoutView",
            "grid_template_rows": null,
            "right": null,
            "justify_content": null,
            "_view_module": "@jupyter-widgets/base",
            "overflow": null,
            "_model_module_version": "1.2.0",
            "_view_count": null,
            "flex_flow": null,
            "width": null,
            "min_width": null,
            "border": null,
            "align_items": null,
            "bottom": null,
            "_model_module": "@jupyter-widgets/base",
            "top": null,
            "grid_column": null,
            "overflow_y": null,
            "overflow_x": null,
            "grid_auto_flow": null,
            "grid_area": null,
            "grid_template_columns": null,
            "flex": null,
            "_model_name": "LayoutModel",
            "justify_items": null,
            "grid_row": null,
            "max_height": null,
            "align_content": null,
            "visibility": null,
            "align_self": null,
            "height": null,
            "min_height": null,
            "padding": null,
            "grid_auto_rows": null,
            "grid_gap": null,
            "max_width": null,
            "order": null,
            "_view_module_version": "1.2.0",
            "grid_template_areas": null,
            "object_position": null,
            "object_fit": null,
            "grid_auto_columns": null,
            "margin": null,
            "display": null,
            "left": null
          }
        },
        "c51bf5ac4988415f963928d7b11365be": {
          "model_module": "@jupyter-widgets/controls",
          "model_name": "LabelModel",
          "state": {
            "_view_name": "LabelView",
            "style": "IPY_MODEL_b7198b26d4f343fa969aee9fa59f00e1",
            "_dom_classes": [],
            "description": "",
            "_model_name": "LabelModel",
            "placeholder": "​",
            "_view_module": "@jupyter-widgets/controls",
            "_model_module_version": "1.5.0",
            "value": "Select your image",
            "_view_count": null,
            "_view_module_version": "1.5.0",
            "description_tooltip": null,
            "_model_module": "@jupyter-widgets/controls",
            "layout": "IPY_MODEL_7730d7900ad649e89ae404ced7f80f36"
          }
        },
        "3340d51279c84276aaad0287fefde407": {
          "model_module": "@jupyter-widgets/controls",
          "model_name": "FileUploadModel",
          "state": {
            "_view_name": "FileUploadView",
            "_counter": 2,
            "style": "IPY_MODEL_37c3949ad00b46aca6d9c92b28b1030c",
            "_dom_classes": [],
            "description": "Upload",
            "multiple": false,
            "_model_name": "FileUploadModel",
            "data": [
              null
            ],
            "button_style": "",
            "_view_module": "@jupyter-widgets/controls",
            "_model_module_version": "1.5.0",
            "accept": "",
            "_view_count": null,
            "disabled": false,
            "_view_module_version": "1.5.0",
            "error": "",
            "description_tooltip": null,
            "metadata": [
              {
                "name": "ISIC_9899824.jpg",
                "type": "image/jpeg",
                "size": 1350794,
                "lastModified": 1590607624000
              }
            ],
            "_model_module": "@jupyter-widgets/controls",
            "layout": "IPY_MODEL_dafbe763854a4c568b288738493cf0a1",
            "icon": "upload"
          }
        },
        "b7198b26d4f343fa969aee9fa59f00e1": {
          "model_module": "@jupyter-widgets/controls",
          "model_name": "DescriptionStyleModel",
          "state": {
            "_view_name": "StyleView",
            "_model_name": "DescriptionStyleModel",
            "description_width": "",
            "_view_module": "@jupyter-widgets/base",
            "_model_module_version": "1.5.0",
            "_view_count": null,
            "_view_module_version": "1.2.0",
            "_model_module": "@jupyter-widgets/controls"
          }
        },
        "7730d7900ad649e89ae404ced7f80f36": {
          "model_module": "@jupyter-widgets/base",
          "model_name": "LayoutModel",
          "state": {
            "_view_name": "LayoutView",
            "grid_template_rows": null,
            "right": null,
            "justify_content": null,
            "_view_module": "@jupyter-widgets/base",
            "overflow": null,
            "_model_module_version": "1.2.0",
            "_view_count": null,
            "flex_flow": null,
            "width": null,
            "min_width": null,
            "border": null,
            "align_items": null,
            "bottom": null,
            "_model_module": "@jupyter-widgets/base",
            "top": null,
            "grid_column": null,
            "overflow_y": null,
            "overflow_x": null,
            "grid_auto_flow": null,
            "grid_area": null,
            "grid_template_columns": null,
            "flex": null,
            "_model_name": "LayoutModel",
            "justify_items": null,
            "grid_row": null,
            "max_height": null,
            "align_content": null,
            "visibility": null,
            "align_self": null,
            "height": null,
            "min_height": null,
            "padding": null,
            "grid_auto_rows": null,
            "grid_gap": null,
            "max_width": null,
            "order": null,
            "_view_module_version": "1.2.0",
            "grid_template_areas": null,
            "object_position": null,
            "object_fit": null,
            "grid_auto_columns": null,
            "margin": null,
            "display": null,
            "left": null
          }
        },
        "37c3949ad00b46aca6d9c92b28b1030c": {
          "model_module": "@jupyter-widgets/controls",
          "model_name": "ButtonStyleModel",
          "state": {
            "_view_name": "StyleView",
            "_model_name": "ButtonStyleModel",
            "_view_module": "@jupyter-widgets/base",
            "_model_module_version": "1.5.0",
            "_view_count": null,
            "button_color": "lightblue",
            "font_weight": "",
            "_view_module_version": "1.2.0",
            "_model_module": "@jupyter-widgets/controls"
          }
        },
        "dafbe763854a4c568b288738493cf0a1": {
          "model_module": "@jupyter-widgets/base",
          "model_name": "LayoutModel",
          "state": {
            "_view_name": "LayoutView",
            "grid_template_rows": null,
            "right": null,
            "justify_content": null,
            "_view_module": "@jupyter-widgets/base",
            "overflow": null,
            "_model_module_version": "1.2.0",
            "_view_count": null,
            "flex_flow": null,
            "width": "%10",
            "min_width": null,
            "border": null,
            "align_items": null,
            "bottom": null,
            "_model_module": "@jupyter-widgets/base",
            "top": null,
            "grid_column": null,
            "overflow_y": null,
            "overflow_x": null,
            "grid_auto_flow": null,
            "grid_area": null,
            "grid_template_columns": null,
            "flex": null,
            "_model_name": "LayoutModel",
            "justify_items": null,
            "grid_row": null,
            "max_height": null,
            "align_content": null,
            "visibility": null,
            "align_self": null,
            "height": "40px",
            "min_height": null,
            "padding": null,
            "grid_auto_rows": null,
            "grid_gap": null,
            "max_width": null,
            "order": null,
            "_view_module_version": "1.2.0",
            "grid_template_areas": null,
            "object_position": null,
            "object_fit": null,
            "grid_auto_columns": null,
            "margin": null,
            "display": null,
            "left": null
          }
        }
      }
    }
  },
  "cells": [
    {
      "cell_type": "markdown",
      "metadata": {
        "id": "view-in-github",
        "colab_type": "text"
      },
      "source": [
        "<a href=\"https://colab.research.google.com/github/anyaiyer/melanoma-detection/blob/main/Melanoma_Detection.ipynb\" target=\"_parent\"><img src=\"https://colab.research.google.com/assets/colab-badge.svg\" alt=\"Open In Colab\"/></a>"
      ]
    },
    {
      "cell_type": "markdown",
      "metadata": {
        "id": "_Bao3qUykx45"
      },
      "source": [
        "## Imports"
      ]
    },
    {
      "cell_type": "markdown",
      "metadata": {
        "id": "yOfo9da5sZqA"
      },
      "source": [
        "[Fastai](https://www.fast.ai/) was used in creating this melanoma detection model.\n",
        "Fastai is a deep learning libary that provides efficient ways to create neural networks and perform other machine learning tasks. \n",
        "You can read the fastai book [here](https://github.com/fastai/fastbook) (on Github), where you can explore this open source library."
      ]
    },
    {
      "cell_type": "code",
      "metadata": {
        "id": "GVkS_Bdn8BHB"
      },
      "source": [
        "!pip install -Uqq fastbook\n",
        "import fastbook\n",
        "fastbook.setup_book()"
      ],
      "execution_count": 2,
      "outputs": []
    },
    {
      "cell_type": "code",
      "metadata": {
        "id": "-g4bAwGq8BJi"
      },
      "source": [
        "from fastai.vision.all import *\n",
        "from fastbook import *\n",
        "\n",
        "matplotlib.rc('image', cmap='Greys')"
      ],
      "execution_count": 3,
      "outputs": []
    },
    {
      "cell_type": "code",
      "metadata": {
        "id": "QET13bZkSk4d"
      },
      "source": [
        "import warnings\n",
        "warnings.filterwarnings(\"ignore\", category=UserWarning, module=\"torch.nn.functional\")"
      ],
      "execution_count": 4,
      "outputs": []
    },
    {
      "cell_type": "code",
      "metadata": {
        "id": "3LRFTMz_Se_G"
      },
      "source": [
        "from fastai import *"
      ],
      "execution_count": 5,
      "outputs": []
    },
    {
      "cell_type": "code",
      "metadata": {
        "colab": {
          "base_uri": "https://localhost:8080/"
        },
        "id": "O_ongYIg8BL4",
        "outputId": "9be6d7c9-5e4c-4f0b-c964-1fb72fad1dde"
      },
      "source": [
        "from google.colab import drive\n",
        "drive.mount('/content/gdrive')"
      ],
      "execution_count": 6,
      "outputs": [
        {
          "output_type": "stream",
          "text": [
            "Drive already mounted at /content/gdrive; to attempt to forcibly remount, call drive.mount(\"/content/gdrive\", force_remount=True).\n"
          ],
          "name": "stdout"
        }
      ]
    },
    {
      "cell_type": "code",
      "metadata": {
        "id": "I2DIDsaT8BOY"
      },
      "source": [
        "root_dir = \"/content/gdrive/My Drive/Colab Notebooks/cancer_detection/\""
      ],
      "execution_count": 7,
      "outputs": []
    },
    {
      "cell_type": "code",
      "metadata": {
        "id": "esbYy6ft8BQs"
      },
      "source": [
        "import pandas as pd"
      ],
      "execution_count": 8,
      "outputs": []
    },
    {
      "cell_type": "code",
      "metadata": {
        "colab": {
          "base_uri": "https://localhost:8080/",
          "height": 204
        },
        "id": "AlA71TYK8Kne",
        "outputId": "d90042d7-9f38-4754-be9a-a5b7c39f0103"
      },
      "source": [
        "label_info = pd.read_csv(f\"{root_dir}/train.csv\")\n",
        "label_info.head()"
      ],
      "execution_count": 9,
      "outputs": [
        {
          "output_type": "execute_result",
          "data": {
            "text/html": [
              "<div>\n",
              "<style scoped>\n",
              "    .dataframe tbody tr th:only-of-type {\n",
              "        vertical-align: middle;\n",
              "    }\n",
              "\n",
              "    .dataframe tbody tr th {\n",
              "        vertical-align: top;\n",
              "    }\n",
              "\n",
              "    .dataframe thead th {\n",
              "        text-align: right;\n",
              "    }\n",
              "</style>\n",
              "<table border=\"1\" class=\"dataframe\">\n",
              "  <thead>\n",
              "    <tr style=\"text-align: right;\">\n",
              "      <th></th>\n",
              "      <th>image_name</th>\n",
              "      <th>patient_id</th>\n",
              "      <th>sex</th>\n",
              "      <th>age_approx</th>\n",
              "      <th>anatom_site_general_challenge</th>\n",
              "      <th>diagnosis</th>\n",
              "      <th>benign_malignant</th>\n",
              "      <th>target</th>\n",
              "    </tr>\n",
              "  </thead>\n",
              "  <tbody>\n",
              "    <tr>\n",
              "      <th>0</th>\n",
              "      <td>ISIC_2637011</td>\n",
              "      <td>IP_7279968</td>\n",
              "      <td>male</td>\n",
              "      <td>45.0</td>\n",
              "      <td>head/neck</td>\n",
              "      <td>unknown</td>\n",
              "      <td>benign</td>\n",
              "      <td>0</td>\n",
              "    </tr>\n",
              "    <tr>\n",
              "      <th>1</th>\n",
              "      <td>ISIC_0015719</td>\n",
              "      <td>IP_3075186</td>\n",
              "      <td>female</td>\n",
              "      <td>45.0</td>\n",
              "      <td>upper extremity</td>\n",
              "      <td>unknown</td>\n",
              "      <td>benign</td>\n",
              "      <td>0</td>\n",
              "    </tr>\n",
              "    <tr>\n",
              "      <th>2</th>\n",
              "      <td>ISIC_0052212</td>\n",
              "      <td>IP_2842074</td>\n",
              "      <td>female</td>\n",
              "      <td>50.0</td>\n",
              "      <td>lower extremity</td>\n",
              "      <td>nevus</td>\n",
              "      <td>benign</td>\n",
              "      <td>0</td>\n",
              "    </tr>\n",
              "    <tr>\n",
              "      <th>3</th>\n",
              "      <td>ISIC_0068279</td>\n",
              "      <td>IP_6890425</td>\n",
              "      <td>female</td>\n",
              "      <td>45.0</td>\n",
              "      <td>head/neck</td>\n",
              "      <td>unknown</td>\n",
              "      <td>benign</td>\n",
              "      <td>0</td>\n",
              "    </tr>\n",
              "    <tr>\n",
              "      <th>4</th>\n",
              "      <td>ISIC_0074268</td>\n",
              "      <td>IP_8723313</td>\n",
              "      <td>female</td>\n",
              "      <td>55.0</td>\n",
              "      <td>upper extremity</td>\n",
              "      <td>unknown</td>\n",
              "      <td>benign</td>\n",
              "      <td>0</td>\n",
              "    </tr>\n",
              "  </tbody>\n",
              "</table>\n",
              "</div>"
            ],
            "text/plain": [
              "     image_name  patient_id     sex  age_approx anatom_site_general_challenge  \\\n",
              "0  ISIC_2637011  IP_7279968    male        45.0                     head/neck   \n",
              "1  ISIC_0015719  IP_3075186  female        45.0               upper extremity   \n",
              "2  ISIC_0052212  IP_2842074  female        50.0               lower extremity   \n",
              "3  ISIC_0068279  IP_6890425  female        45.0                     head/neck   \n",
              "4  ISIC_0074268  IP_8723313  female        55.0               upper extremity   \n",
              "\n",
              "  diagnosis benign_malignant  target  \n",
              "0   unknown           benign       0  \n",
              "1   unknown           benign       0  \n",
              "2     nevus           benign       0  \n",
              "3   unknown           benign       0  \n",
              "4   unknown           benign       0  "
            ]
          },
          "metadata": {
            "tags": []
          },
          "execution_count": 9
        }
      ]
    },
    {
      "cell_type": "code",
      "metadata": {
        "colab": {
          "base_uri": "https://localhost:8080/"
        },
        "id": "uSmckuBjnzmB",
        "outputId": "bc22277f-d4c2-4a65-b3eb-3603e9bfc9f0"
      },
      "source": [
        "label_info['target'].value_counts() # dataset is very unbalanced"
      ],
      "execution_count": 10,
      "outputs": [
        {
          "output_type": "execute_result",
          "data": {
            "text/plain": [
              "0    32542\n",
              "1      584\n",
              "Name: target, dtype: int64"
            ]
          },
          "metadata": {
            "tags": []
          },
          "execution_count": 10
        }
      ]
    },
    {
      "cell_type": "markdown",
      "metadata": {
        "id": "0JlGWkmzk4sn"
      },
      "source": [
        "## Data Preprocessing"
      ]
    },
    {
      "cell_type": "code",
      "metadata": {
        "id": "yz1B5hrL8L6t"
      },
      "source": [
        "def label_func(fname): # function grabs the label from the image name\n",
        "    label =  label_info.loc[label_info['image_name'] == fname.name[:-4]]['target'].item()\n",
        "    return label"
      ],
      "execution_count": 11,
      "outputs": []
    },
    {
      "cell_type": "markdown",
      "metadata": {
        "id": "-aIs89oRdj2p"
      },
      "source": [
        "The DataBlock API is used to create the DataLoaders class. The DataLoaders class stores DataLoaders objects and is used to create a training and validation set. \n",
        "\n",
        "In the DataBlock, we can specify the independent variable (ImageBlock or the images used for classifcation) and the dependent variable (Category Block or the labels). \n",
        "- get_items gets the independent variable, in this case the image files\n",
        "- get_y gets the labels (taken from the label_func  function we wrote above)\n",
        "- splitter: splits the data into a training and validation set\n",
        "- we can do data augmentation with the aug_transforms method where we can specify certain actions that will be performed to the image\n",
        "\n",
        "What is data augmentation? \n",
        "\n",
        "Data augmentation is a way to prevent overfitting and can also expand the dataset by performing different actions to the image. Some actions include rotating the image, zooming in/out, changing the lighting, warping the image, and performing vertical flips. "
      ]
    },
    {
      "cell_type": "code",
      "metadata": {
        "id": "l7oCiBWT8Rdx"
      },
      "source": [
        "dblock = DataBlock(blocks    = (ImageBlock, CategoryBlock), # independent & dependent variables\n",
        "                   get_items = get_image_files, # gets the images\n",
        "                   get_y     = label_func, # gets the labels\n",
        "                   splitter  = RandomSplitter(valid_pct=0.1,seed=42), # 20% used for the validation set\n",
        "                   batch_tfms=aug_transforms(mult=1.0, # data augmentation\n",
        "                                             do_flip=True, \n",
        "                                             flip_vert=True,\n",
        "                                             max_rotate=10.0,\n",
        "                                             min_zoom=1.0,\n",
        "                                             max_zoom=1.1,\n",
        "                                             max_lighting=0.2, \n",
        "                                             max_warp=0.0,\n",
        "                                             p_affine=0.0,\n",
        "                                             p_lighting=0.0,\n",
        "                                             xtra_tfms=None,\n",
        "                                             size=None, \n",
        "                                             mode='bilinear',\n",
        "                                             pad_mode='reflection',\n",
        "                                             align_corners=True,\n",
        "                                             batch=False, min_scale=1.0), \n",
        "                   item_tfms = Resize(224)) # resizing the image"
      ],
      "execution_count": 12,
      "outputs": []
    },
    {
      "cell_type": "code",
      "metadata": {
        "id": "R8QGYDuKj2ld"
      },
      "source": [
        "path = Path(\"/content/gdrive/My Drive/Colab Notebooks/cancer_detection/train6\") # file spath for the image"
      ],
      "execution_count": 13,
      "outputs": []
    },
    {
      "cell_type": "markdown",
      "metadata": {
        "id": "PLnpm3Gmf7Oo"
      },
      "source": [
        "Tell fastai where the data is and where the images can be found."
      ]
    },
    {
      "cell_type": "code",
      "metadata": {
        "id": "0SF-Y16g8c0q"
      },
      "source": [
        "dls = dblock.dataloaders(path)  \n",
        "dls.bs = 32 # batch size"
      ],
      "execution_count": 14,
      "outputs": []
    },
    {
      "cell_type": "code",
      "metadata": {
        "id": "CZa2I3PAV2WG",
        "colab": {
          "base_uri": "https://localhost:8080/"
        },
        "outputId": "86902c26-c083-40b3-d949-41bc55f5bc4c"
      },
      "source": [
        "malig = 0\n",
        "beg = 0\n",
        "for fname in os.listdir(f\"{root_dir}/train6\"): # tells us how many malginant/benign images are in our file\n",
        "  label =  label_info.loc[label_info['image_name'] == fname[:-4]]['target'].item()\n",
        "  if label == 1: \n",
        "    malig = malig + 1\n",
        "  else:\n",
        "    beg =  beg + 1\n",
        "  \n",
        "print(f\"malig = {malig} beg = {beg}\")"
      ],
      "execution_count": 15,
      "outputs": [
        {
          "output_type": "stream",
          "text": [
            "malig = 533 beg = 648\n"
          ],
          "name": "stdout"
        }
      ]
    },
    {
      "cell_type": "code",
      "metadata": {
        "colab": {
          "base_uri": "https://localhost:8080/",
          "height": 373
        },
        "id": "wa8-6azS8UPM",
        "outputId": "f1407361-345b-4e26-abc3-75bff18b6bc1"
      },
      "source": [
        "dls.show_batch(nrows=2, ncols=3) # data looks good "
      ],
      "execution_count": 16,
      "outputs": [
        {
          "output_type": "display_data",
          "data": {
            "image/png": "[encoded data removed]",
            "text/plain": [
              "<Figure size 648x432 with 6 Axes>"
            ]
          },
          "metadata": {
            "tags": [],
            "needs_background": "light"
          }
        }
      ]
    },
    {
      "cell_type": "code",
      "metadata": {
        "colab": {
          "base_uri": "https://localhost:8080/"
        },
        "id": "UyHEolerlfGP",
        "outputId": "e37f968a-f701-4288-9833-ecf594d3677c"
      },
      "source": [
        "len(dls.train_ds.splits[0]),len(dls.train_ds.splits[1]) # training and val split \n",
        "# 1063 images in training set, 118 images in val set"
      ],
      "execution_count": 17,
      "outputs": [
        {
          "output_type": "execute_result",
          "data": {
            "text/plain": [
              "(1063, 118)"
            ]
          },
          "metadata": {
            "tags": []
          },
          "execution_count": 17
        }
      ]
    },
    {
      "cell_type": "code",
      "metadata": {
        "colab": {
          "base_uri": "https://localhost:8080/"
        },
        "id": "9DoaAQ5L35FH",
        "outputId": "e0cf4796-0558-4da2-d4d9-9f1f8ea35ac4"
      },
      "source": [
        "dls.c # 2 classes "
      ],
      "execution_count": 49,
      "outputs": [
        {
          "output_type": "execute_result",
          "data": {
            "text/plain": [
              "2"
            ]
          },
          "metadata": {
            "tags": []
          },
          "execution_count": 49
        }
      ]
    },
    {
      "cell_type": "markdown",
      "metadata": {
        "id": "XdK06PQCk_hR"
      },
      "source": [
        "## Building/Training the Model"
      ]
    },
    {
      "cell_type": "markdown",
      "metadata": {
        "id": "8P-b0XAhgtZ4"
      },
      "source": [
        "We now have all the data in our Dataloaders class. The data is also preprocessed and augmentated. We can build our fastai learner.\n",
        "\n",
        "ResNet50 is the model architecture. [ResNet (residual neural network)](https://towardsdatascience.com/an-overview-of-resnet-and-its-variants-5281e2f56035) is a network architecture developed from the ImageNet dataset. ResNet utilizes skip connections which skip layers in the network and feeds that layer's output as input to the next layer. ResNets use skips that contain nonlinearities (like ReLU) as well as batch normalization. Batch normalization is a way to rescale layer inputs and can also reduce overfitting/generalization error. Overall, ResNets are great CNN architectures to use.\n",
        "\n",
        "With fastai, we are using transfer learning. Transfer learning is the reuse of a pre-trained model on a new problem. We are not creating a ResNet model from scratch, and instead are using the pre-trained version. (ResNet is trained on the [ImageNet](https://en.wikipedia.org/wiki/ImageNet) database).\n",
        "\n",
        "ResNet50 refers to 50 layers being used in the network. There is also ResNet18, ResNet34, ResNet101, ResNet110, and more. "
      ]
    },
    {
      "cell_type": "code",
      "metadata": {
        "id": "mxh6mP6Ik9Ey"
      },
      "source": [
        "def accuracy(inp, targ, axis=-1): # accuracy function from fastai\n",
        "    \"Compute accuracy with `targ` when `pred` is bs * n_classes\"\n",
        "    pred = inp.argmax(dim=axis)\n",
        "    return (pred == targ).float().mean()"
      ],
      "execution_count": 19,
      "outputs": []
    },
    {
      "cell_type": "markdown",
      "metadata": {
        "id": "HP6eYJGHvfZV"
      },
      "source": [
        "When building the cnn_learner, we specify the following:\n",
        "- what metrics we want to use\n",
        "- our data in the DataLoaders class (dls)\n",
        "- the model architecture (resnet50)\n",
        "\n",
        "The cnn_learner automatically chooses a loss function in this case, [binary cross entropy loss](https://towardsdatascience.com/understanding-binary-cross-entropy-log-loss-a-visual-explanation-a3ac6025181a). \n",
        "\n",
        "Then, we train the model by choosing the number of epochs as well as setting the learning rate. lr_find() chooses the best learning rate for the model, but I already performed a learning rate find prior to building this specific model (I performed it on an earlier version of the model). \n",
        "\n",
        "We freeze the intial layers to prevent the weights from being modified. learn.unfreeze() unfreezes the weights of the model so that they can get updated. \n"
      ]
    },
    {
      "cell_type": "code",
      "metadata": {
        "colab": {
          "base_uri": "https://localhost:8080/",
          "height": 348,
          "referenced_widgets": [
            "5b3ab4d55faa47b893b53073da655681",
            "50e8a460014443a28eb29a33a36da839",
            "da4afd3dd0ce4401acdeb952551f83e5",
            "0ad5ae7ff3134b26bfefebe351c3e80f",
            "8521f53a0abf479f837ccb001475a649",
            "8b7aea9bc84e428cb281fda84e59e3bd",
            "a760ac0e60ec45d0a9d8f9ffd981f73e",
            "eed0aeabf60f44b7922bcf7b582f0ff0"
          ]
        },
        "id": "GPF0JeyWNkY5",
        "outputId": "6499a8e5-73ad-4ab8-9c8e-92122fb799b0"
      },
      "source": [
        "metrics = [accuracy,\n",
        "           error_rate, \n",
        "           RocAucBinary(), Recall(), Precision()] # pass in metrics\n",
        "\n",
        "learn = cnn_learner(dls, resnet50, metrics=metrics)\n",
        "learn.load(f\"{root_dir}/model_1\")\n",
        "learn.fit_one_cycle(4, lr_max=slice(1e-4,1e-3))\n",
        "learn.unfreeze()"
      ],
      "execution_count": null,
      "outputs": [
        {
          "output_type": "stream",
          "text": [
            "Downloading: \"https://download.pytorch.org/models/resnet50-0676ba61.pth\" to /root/.cache/torch/hub/checkpoints/resnet50-0676ba61.pth\n"
          ],
          "name": "stderr"
        },
        {
          "output_type": "display_data",
          "data": {
            "application/vnd.jupyter.widget-view+json": {
              "model_id": "5b3ab4d55faa47b893b53073da655681",
              "version_major": 2,
              "version_minor": 0
            },
            "text/plain": [
              "HBox(children=(FloatProgress(value=0.0, max=102530333.0), HTML(value='')))"
            ]
          },
          "metadata": {
            "tags": []
          }
        },
        {
          "output_type": "stream",
          "text": [
            "\n"
          ],
          "name": "stdout"
        },
        {
          "output_type": "display_data",
          "data": {
            "text/html": [
              "\n",
              "    <div>\n",
              "        <style>\n",
              "            /* Turns off some styling */\n",
              "            progress {\n",
              "                /* gets rid of default border in Firefox and Opera. */\n",
              "                border: none;\n",
              "                /* Needs to be in here for Safari polyfill so background images work as expected. */\n",
              "                background-size: auto;\n",
              "            }\n",
              "            .progress-bar-interrupted, .progress-bar-interrupted::-webkit-progress-bar {\n",
              "                background: #F44336;\n",
              "            }\n",
              "        </style>\n",
              "      <progress value='1' class='' max='4' style='width:300px; height:20px; vertical-align: middle;'></progress>\n",
              "      25.00% [1/4 12:40<38:02]\n",
              "    </div>\n",
              "    \n",
              "<table border=\"1\" class=\"dataframe\">\n",
              "  <thead>\n",
              "    <tr style=\"text-align: left;\">\n",
              "      <th>epoch</th>\n",
              "      <th>train_loss</th>\n",
              "      <th>valid_loss</th>\n",
              "      <th>accuracy</th>\n",
              "      <th>error_rate</th>\n",
              "      <th>roc_auc_score</th>\n",
              "      <th>recall_score</th>\n",
              "      <th>precision_score</th>\n",
              "      <th>time</th>\n",
              "    </tr>\n",
              "  </thead>\n",
              "  <tbody>\n",
              "    <tr>\n",
              "      <td>0</td>\n",
              "      <td>0.050365</td>\n",
              "      <td>0.797637</td>\n",
              "      <td>0.745763</td>\n",
              "      <td>0.254237</td>\n",
              "      <td>0.852580</td>\n",
              "      <td>0.727273</td>\n",
              "      <td>0.640000</td>\n",
              "      <td>12:40</td>\n",
              "    </tr>\n",
              "  </tbody>\n",
              "</table><p>\n",
              "\n",
              "    <div>\n",
              "        <style>\n",
              "            /* Turns off some styling */\n",
              "            progress {\n",
              "                /* gets rid of default border in Firefox and Opera. */\n",
              "                border: none;\n",
              "                /* Needs to be in here for Safari polyfill so background images work as expected. */\n",
              "                background-size: auto;\n",
              "            }\n",
              "            .progress-bar-interrupted, .progress-bar-interrupted::-webkit-progress-bar {\n",
              "                background: #F44336;\n",
              "            }\n",
              "        </style>\n",
              "      <progress value='4' class='' max='16' style='width:300px; height:20px; vertical-align: middle;'></progress>\n",
              "      25.00% [4/16 03:30<10:31 0.0455]\n",
              "    </div>\n",
              "    "
            ],
            "text/plain": [
              "<IPython.core.display.HTML object>"
            ]
          },
          "metadata": {
            "tags": []
          }
        },
        {
          "output_type": "display_data",
          "data": {
            "text/html": [
              "<table border=\"1\" class=\"dataframe\">\n",
              "  <thead>\n",
              "    <tr style=\"text-align: left;\">\n",
              "      <th>epoch</th>\n",
              "      <th>train_loss</th>\n",
              "      <th>valid_loss</th>\n",
              "      <th>accuracy</th>\n",
              "      <th>error_rate</th>\n",
              "      <th>roc_auc_score</th>\n",
              "      <th>recall_score</th>\n",
              "      <th>precision_score</th>\n",
              "      <th>time</th>\n",
              "    </tr>\n",
              "  </thead>\n",
              "  <tbody>\n",
              "    <tr>\n",
              "      <td>0</td>\n",
              "      <td>0.050365</td>\n",
              "      <td>0.797637</td>\n",
              "      <td>0.745763</td>\n",
              "      <td>0.254237</td>\n",
              "      <td>0.852580</td>\n",
              "      <td>0.727273</td>\n",
              "      <td>0.640000</td>\n",
              "      <td>12:40</td>\n",
              "    </tr>\n",
              "    <tr>\n",
              "      <td>1</td>\n",
              "      <td>0.042896</td>\n",
              "      <td>0.936366</td>\n",
              "      <td>0.754237</td>\n",
              "      <td>0.245763</td>\n",
              "      <td>0.832924</td>\n",
              "      <td>0.727273</td>\n",
              "      <td>0.653061</td>\n",
              "      <td>12:13</td>\n",
              "    </tr>\n",
              "    <tr>\n",
              "      <td>2</td>\n",
              "      <td>0.072485</td>\n",
              "      <td>0.791935</td>\n",
              "      <td>0.762712</td>\n",
              "      <td>0.237288</td>\n",
              "      <td>0.837531</td>\n",
              "      <td>0.840909</td>\n",
              "      <td>0.637931</td>\n",
              "      <td>12:30</td>\n",
              "    </tr>\n",
              "    <tr>\n",
              "      <td>3</td>\n",
              "      <td>0.193607</td>\n",
              "      <td>0.795778</td>\n",
              "      <td>0.737288</td>\n",
              "      <td>0.262712</td>\n",
              "      <td>0.834152</td>\n",
              "      <td>0.772727</td>\n",
              "      <td>0.618182</td>\n",
              "      <td>12:40</td>\n",
              "    </tr>\n",
              "  </tbody>\n",
              "</table>"
            ],
            "text/plain": [
              "<IPython.core.display.HTML object>"
            ]
          },
          "metadata": {
            "tags": []
          }
        }
      ]
    },
    {
      "cell_type": "code",
      "metadata": {
        "colab": {
          "base_uri": "https://localhost:8080/",
          "height": 173
        },
        "id": "Gg-AkUYQl0Jh",
        "outputId": "1d7e2c9f-fea4-4779-cf41-bec33c1eafa3"
      },
      "source": [
        "learn.fit_one_cycle(4, lr_max=slice(1e-6,1e-4))"
      ],
      "execution_count": null,
      "outputs": [
        {
          "output_type": "display_data",
          "data": {
            "text/html": [
              "<table border=\"1\" class=\"dataframe\">\n",
              "  <thead>\n",
              "    <tr style=\"text-align: left;\">\n",
              "      <th>epoch</th>\n",
              "      <th>train_loss</th>\n",
              "      <th>valid_loss</th>\n",
              "      <th>accuracy</th>\n",
              "      <th>error_rate</th>\n",
              "      <th>roc_auc_score</th>\n",
              "      <th>recall_score</th>\n",
              "      <th>precision_score</th>\n",
              "      <th>time</th>\n",
              "    </tr>\n",
              "  </thead>\n",
              "  <tbody>\n",
              "    <tr>\n",
              "      <td>0</td>\n",
              "      <td>0.083160</td>\n",
              "      <td>0.811129</td>\n",
              "      <td>0.728814</td>\n",
              "      <td>0.271186</td>\n",
              "      <td>0.846130</td>\n",
              "      <td>0.704545</td>\n",
              "      <td>0.620000</td>\n",
              "      <td>15:52</td>\n",
              "    </tr>\n",
              "    <tr>\n",
              "      <td>1</td>\n",
              "      <td>0.058096</td>\n",
              "      <td>0.799473</td>\n",
              "      <td>0.737288</td>\n",
              "      <td>0.262712</td>\n",
              "      <td>0.844287</td>\n",
              "      <td>0.727273</td>\n",
              "      <td>0.627451</td>\n",
              "      <td>15:44</td>\n",
              "    </tr>\n",
              "    <tr>\n",
              "      <td>2</td>\n",
              "      <td>0.062593</td>\n",
              "      <td>0.825072</td>\n",
              "      <td>0.737288</td>\n",
              "      <td>0.262712</td>\n",
              "      <td>0.840295</td>\n",
              "      <td>0.727273</td>\n",
              "      <td>0.627451</td>\n",
              "      <td>15:41</td>\n",
              "    </tr>\n",
              "    <tr>\n",
              "      <td>3</td>\n",
              "      <td>0.057859</td>\n",
              "      <td>0.822485</td>\n",
              "      <td>0.728814</td>\n",
              "      <td>0.271186</td>\n",
              "      <td>0.839066</td>\n",
              "      <td>0.704545</td>\n",
              "      <td>0.620000</td>\n",
              "      <td>15:59</td>\n",
              "    </tr>\n",
              "  </tbody>\n",
              "</table>"
            ],
            "text/plain": [
              "<IPython.core.display.HTML object>"
            ]
          },
          "metadata": {
            "tags": []
          }
        }
      ]
    },
    {
      "cell_type": "markdown",
      "metadata": {
        "id": "IB9EbDdika5G"
      },
      "source": [
        "We save the model after training to prevent from retraining the model again. We can use this saved model to get predictions by loading the model for later use. "
      ]
    },
    {
      "cell_type": "code",
      "metadata": {
        "id": "BuQbGFuCz76B"
      },
      "source": [
        "#learn.save(f\"{root_dir}/model_1\") \n",
        "# save the model "
      ],
      "execution_count": 20,
      "outputs": []
    },
    {
      "cell_type": "code",
      "metadata": {
        "id": "JVcGnvU-7isn"
      },
      "source": [
        "predictor = Path('/content/gdrive/My Drive/Colab Notebooks/cancer_detection/model_1.pth') # path of model"
      ],
      "execution_count": 21,
      "outputs": []
    },
    {
      "cell_type": "code",
      "metadata": {
        "colab": {
          "base_uri": "https://localhost:8080/",
          "height": 100,
          "referenced_widgets": [
            "a6883bac8353427c8ebecd9c86f80320",
            "cacbe2cefd674be6b0cd2ed37a09b65d",
            "748392e8db444351acad3e2fe8b4119f",
            "5822c0d58aa242c5a9f7422e2a5c97fc",
            "b9e016668a18496b9dcd91b5cf9aa423",
            "7af935d9b4a44744bc637ca3c0e939f4",
            "7e6f716e43294303b3aaffc6befdded5",
            "48cb3954d33749c78c5bc41da4925ed0"
          ]
        },
        "id": "va8DUhYrO9tr",
        "outputId": "ae8e0982-f26c-42a4-e1f2-8c6989b50a86"
      },
      "source": [
        "predictor = cnn_learner(dls, resnet50, metrics=metrics)\n",
        "predictor.load(f\"{root_dir}/model_1\") # load model\n",
        "# learn.export()\n",
        "# path = Path()\n",
        "# path.ls(file_exts='.pkl')"
      ],
      "execution_count": 22,
      "outputs": [
        {
          "output_type": "stream",
          "text": [
            "Downloading: \"https://download.pytorch.org/models/resnet50-0676ba61.pth\" to /root/.cache/torch/hub/checkpoints/resnet50-0676ba61.pth\n"
          ],
          "name": "stderr"
        },
        {
          "output_type": "display_data",
          "data": {
            "application/vnd.jupyter.widget-view+json": {
              "model_id": "a6883bac8353427c8ebecd9c86f80320",
              "version_minor": 0,
              "version_major": 2
            },
            "text/plain": [
              "HBox(children=(FloatProgress(value=0.0, max=102530333.0), HTML(value='')))"
            ]
          },
          "metadata": {
            "tags": []
          }
        },
        {
          "output_type": "stream",
          "text": [
            "\n"
          ],
          "name": "stdout"
        },
        {
          "output_type": "execute_result",
          "data": {
            "text/plain": [
              "<fastai.learner.Learner at 0x7f87d8625990>"
            ]
          },
          "metadata": {
            "tags": []
          },
          "execution_count": 22
        }
      ]
    },
    {
      "cell_type": "markdown",
      "metadata": {
        "id": "8zZ9g7WflE22"
      },
      "source": [
        "## Improving the Model"
      ]
    },
    {
      "cell_type": "markdown",
      "metadata": {
        "id": "0mrZdF-NmJeT"
      },
      "source": [
        "We can improve upon our CNN model by changing the threshold. The goal is to maximize recall (the ability to predict false negatives). Changing the threshold can improve recall. \n",
        "\n",
        "In order to do this:\n",
        "\n",
        "1) Create a test set -> let's see how our loaded model is performing.\n",
        "\n",
        "2) Use a \"for loop\" to get predictions for each test sample.\n",
        "\n",
        "3) Get the confusion matrix, precision, recall, and accuracy for each threshold number on the test set. This allows us to compare threshold values and find the best one. \n",
        "\n",
        "- lower thresholds maximize recall, while higher thresholds maximize precision"
      ]
    },
    {
      "cell_type": "code",
      "metadata": {
        "id": "DCvXaY-Dy3M3"
      },
      "source": [
        "# create a test set\n",
        "count = 0\n",
        "test_sample = label_info.sample(80,random_state=6)\n",
        "for row in label_info.iterrows():\n",
        "  img = row[1]['image_name']\n",
        "  entry = label_info.loc[label_info['image_name'] == img]\n",
        "  val = entry['target'].item()\n",
        "  if val == 1 :\n",
        "    test_sample = test_sample.append(entry)\n",
        "    if count > 20:\n",
        "      break\n",
        "    count = count +1 "
      ],
      "execution_count": 23,
      "outputs": []
    },
    {
      "cell_type": "code",
      "metadata": {
        "colab": {
          "base_uri": "https://localhost:8080/",
          "height": 204
        },
        "id": "su203g0PFisN",
        "outputId": "41f580a7-d978-4986-8be3-a97c15340450"
      },
      "source": [
        "test_sample.head()"
      ],
      "execution_count": 24,
      "outputs": [
        {
          "output_type": "execute_result",
          "data": {
            "text/html": [
              "<div>\n",
              "<style scoped>\n",
              "    .dataframe tbody tr th:only-of-type {\n",
              "        vertical-align: middle;\n",
              "    }\n",
              "\n",
              "    .dataframe tbody tr th {\n",
              "        vertical-align: top;\n",
              "    }\n",
              "\n",
              "    .dataframe thead th {\n",
              "        text-align: right;\n",
              "    }\n",
              "</style>\n",
              "<table border=\"1\" class=\"dataframe\">\n",
              "  <thead>\n",
              "    <tr style=\"text-align: right;\">\n",
              "      <th></th>\n",
              "      <th>image_name</th>\n",
              "      <th>patient_id</th>\n",
              "      <th>sex</th>\n",
              "      <th>age_approx</th>\n",
              "      <th>anatom_site_general_challenge</th>\n",
              "      <th>diagnosis</th>\n",
              "      <th>benign_malignant</th>\n",
              "      <th>target</th>\n",
              "    </tr>\n",
              "  </thead>\n",
              "  <tbody>\n",
              "    <tr>\n",
              "      <th>25463</th>\n",
              "      <td>ISIC_7727347</td>\n",
              "      <td>IP_8012985</td>\n",
              "      <td>male</td>\n",
              "      <td>35.0</td>\n",
              "      <td>torso</td>\n",
              "      <td>unknown</td>\n",
              "      <td>benign</td>\n",
              "      <td>0</td>\n",
              "    </tr>\n",
              "    <tr>\n",
              "      <th>15042</th>\n",
              "      <td>ISIC_4602691</td>\n",
              "      <td>IP_9042214</td>\n",
              "      <td>female</td>\n",
              "      <td>30.0</td>\n",
              "      <td>torso</td>\n",
              "      <td>unknown</td>\n",
              "      <td>benign</td>\n",
              "      <td>0</td>\n",
              "    </tr>\n",
              "    <tr>\n",
              "      <th>19592</th>\n",
              "      <td>ISIC_5950453</td>\n",
              "      <td>IP_1645936</td>\n",
              "      <td>female</td>\n",
              "      <td>65.0</td>\n",
              "      <td>lower extremity</td>\n",
              "      <td>unknown</td>\n",
              "      <td>benign</td>\n",
              "      <td>0</td>\n",
              "    </tr>\n",
              "    <tr>\n",
              "      <th>6717</th>\n",
              "      <td>ISIC_2106358</td>\n",
              "      <td>IP_2107993</td>\n",
              "      <td>female</td>\n",
              "      <td>70.0</td>\n",
              "      <td>torso</td>\n",
              "      <td>unknown</td>\n",
              "      <td>benign</td>\n",
              "      <td>0</td>\n",
              "    </tr>\n",
              "    <tr>\n",
              "      <th>722</th>\n",
              "      <td>ISIC_0319715</td>\n",
              "      <td>IP_0825081</td>\n",
              "      <td>male</td>\n",
              "      <td>80.0</td>\n",
              "      <td>upper extremity</td>\n",
              "      <td>unknown</td>\n",
              "      <td>benign</td>\n",
              "      <td>0</td>\n",
              "    </tr>\n",
              "  </tbody>\n",
              "</table>\n",
              "</div>"
            ],
            "text/plain": [
              "         image_name  patient_id     sex  age_approx  \\\n",
              "25463  ISIC_7727347  IP_8012985    male        35.0   \n",
              "15042  ISIC_4602691  IP_9042214  female        30.0   \n",
              "19592  ISIC_5950453  IP_1645936  female        65.0   \n",
              "6717   ISIC_2106358  IP_2107993  female        70.0   \n",
              "722    ISIC_0319715  IP_0825081    male        80.0   \n",
              "\n",
              "      anatom_site_general_challenge diagnosis benign_malignant  target  \n",
              "25463                         torso   unknown           benign       0  \n",
              "15042                         torso   unknown           benign       0  \n",
              "19592               lower extremity   unknown           benign       0  \n",
              "6717                          torso   unknown           benign       0  \n",
              "722                 upper extremity   unknown           benign       0  "
            ]
          },
          "metadata": {
            "tags": []
          },
          "execution_count": 24
        }
      ]
    },
    {
      "cell_type": "code",
      "metadata": {
        "colab": {
          "base_uri": "https://localhost:8080/"
        },
        "id": "Cr_qtjjq57pz",
        "outputId": "bce67fbc-d5f0-439f-8904-3ca6b9f186a0"
      },
      "source": [
        "test_sample['target'].value_counts()\n",
        "# 79 images are benign\n",
        "# 23 images are malignant"
      ],
      "execution_count": 25,
      "outputs": [
        {
          "output_type": "execute_result",
          "data": {
            "text/plain": [
              "0    79\n",
              "1    23\n",
              "Name: target, dtype: int64"
            ]
          },
          "metadata": {
            "tags": []
          },
          "execution_count": 25
        }
      ]
    },
    {
      "cell_type": "code",
      "metadata": {
        "colab": {
          "base_uri": "https://localhost:8080/",
          "height": 1000
        },
        "id": "yQH7qvQ4uJ8T",
        "outputId": "bbcc8d5d-da5b-4a4c-82d2-2105864634bd"
      },
      "source": [
        "preds = [] # predictions for each test sample\n",
        "for row in test_sample.iterrows():\n",
        "  img = row[1]['image_name']\n",
        "  test_path = '/content/gdrive/My Drive/Colab Notebooks/cancer_detection/test1/' + img + '.jpg'\n",
        "  result = predictor.predict(test_path)\n",
        "  print(result)\n",
        "  preds.append((row[1]['target'],result))"
      ],
      "execution_count": 26,
      "outputs": [
        {
          "output_type": "display_data",
          "data": {
            "text/html": [
              ""
            ],
            "text/plain": [
              "<IPython.core.display.HTML object>"
            ]
          },
          "metadata": {
            "tags": []
          }
        },
        {
          "output_type": "stream",
          "text": [
            "('0', tensor(0), tensor([0.6423, 0.3577]))\n"
          ],
          "name": "stdout"
        },
        {
          "output_type": "display_data",
          "data": {
            "text/html": [
              ""
            ],
            "text/plain": [
              "<IPython.core.display.HTML object>"
            ]
          },
          "metadata": {
            "tags": []
          }
        },
        {
          "output_type": "stream",
          "text": [
            "('0', tensor(0), tensor([9.9976e-01, 2.4008e-04]))\n"
          ],
          "name": "stdout"
        },
        {
          "output_type": "display_data",
          "data": {
            "text/html": [
              ""
            ],
            "text/plain": [
              "<IPython.core.display.HTML object>"
            ]
          },
          "metadata": {
            "tags": []
          }
        },
        {
          "output_type": "stream",
          "text": [
            "('0', tensor(0), tensor([0.9800, 0.0200]))\n"
          ],
          "name": "stdout"
        },
        {
          "output_type": "display_data",
          "data": {
            "text/html": [
              ""
            ],
            "text/plain": [
              "<IPython.core.display.HTML object>"
            ]
          },
          "metadata": {
            "tags": []
          }
        },
        {
          "output_type": "stream",
          "text": [
            "('0', tensor(0), tensor([0.5918, 0.4082]))\n"
          ],
          "name": "stdout"
        },
        {
          "output_type": "display_data",
          "data": {
            "text/html": [
              ""
            ],
            "text/plain": [
              "<IPython.core.display.HTML object>"
            ]
          },
          "metadata": {
            "tags": []
          }
        },
        {
          "output_type": "stream",
          "text": [
            "('0', tensor(0), tensor([0.8687, 0.1313]))\n"
          ],
          "name": "stdout"
        },
        {
          "output_type": "display_data",
          "data": {
            "text/html": [
              ""
            ],
            "text/plain": [
              "<IPython.core.display.HTML object>"
            ]
          },
          "metadata": {
            "tags": []
          }
        },
        {
          "output_type": "stream",
          "text": [
            "('0', tensor(0), tensor([0.9846, 0.0154]))\n"
          ],
          "name": "stdout"
        },
        {
          "output_type": "display_data",
          "data": {
            "text/html": [
              ""
            ],
            "text/plain": [
              "<IPython.core.display.HTML object>"
            ]
          },
          "metadata": {
            "tags": []
          }
        },
        {
          "output_type": "stream",
          "text": [
            "('0', tensor(0), tensor([0.8314, 0.1686]))\n"
          ],
          "name": "stdout"
        },
        {
          "output_type": "display_data",
          "data": {
            "text/html": [
              ""
            ],
            "text/plain": [
              "<IPython.core.display.HTML object>"
            ]
          },
          "metadata": {
            "tags": []
          }
        },
        {
          "output_type": "stream",
          "text": [
            "('1', tensor(1), tensor([0.3057, 0.6943]))\n"
          ],
          "name": "stdout"
        },
        {
          "output_type": "display_data",
          "data": {
            "text/html": [
              ""
            ],
            "text/plain": [
              "<IPython.core.display.HTML object>"
            ]
          },
          "metadata": {
            "tags": []
          }
        },
        {
          "output_type": "stream",
          "text": [
            "('0', tensor(0), tensor([0.9867, 0.0133]))\n"
          ],
          "name": "stdout"
        },
        {
          "output_type": "display_data",
          "data": {
            "text/html": [
              ""
            ],
            "text/plain": [
              "<IPython.core.display.HTML object>"
            ]
          },
          "metadata": {
            "tags": []
          }
        },
        {
          "output_type": "stream",
          "text": [
            "('1', tensor(1), tensor([0.4748, 0.5252]))\n"
          ],
          "name": "stdout"
        },
        {
          "output_type": "display_data",
          "data": {
            "text/html": [
              ""
            ],
            "text/plain": [
              "<IPython.core.display.HTML object>"
            ]
          },
          "metadata": {
            "tags": []
          }
        },
        {
          "output_type": "stream",
          "text": [
            "('0', tensor(0), tensor([9.9985e-01, 1.5056e-04]))\n"
          ],
          "name": "stdout"
        },
        {
          "output_type": "display_data",
          "data": {
            "text/html": [
              ""
            ],
            "text/plain": [
              "<IPython.core.display.HTML object>"
            ]
          },
          "metadata": {
            "tags": []
          }
        },
        {
          "output_type": "stream",
          "text": [
            "('1', tensor(1), tensor([0.0783, 0.9217]))\n"
          ],
          "name": "stdout"
        },
        {
          "output_type": "display_data",
          "data": {
            "text/html": [
              ""
            ],
            "text/plain": [
              "<IPython.core.display.HTML object>"
            ]
          },
          "metadata": {
            "tags": []
          }
        },
        {
          "output_type": "stream",
          "text": [
            "('0', tensor(0), tensor([9.9976e-01, 2.3610e-04]))\n"
          ],
          "name": "stdout"
        },
        {
          "output_type": "display_data",
          "data": {
            "text/html": [
              ""
            ],
            "text/plain": [
              "<IPython.core.display.HTML object>"
            ]
          },
          "metadata": {
            "tags": []
          }
        },
        {
          "output_type": "stream",
          "text": [
            "('1', tensor(1), tensor([0.4265, 0.5735]))\n"
          ],
          "name": "stdout"
        },
        {
          "output_type": "display_data",
          "data": {
            "text/html": [
              ""
            ],
            "text/plain": [
              "<IPython.core.display.HTML object>"
            ]
          },
          "metadata": {
            "tags": []
          }
        },
        {
          "output_type": "stream",
          "text": [
            "('0', tensor(0), tensor([0.9989, 0.0011]))\n"
          ],
          "name": "stdout"
        },
        {
          "output_type": "display_data",
          "data": {
            "text/html": [
              ""
            ],
            "text/plain": [
              "<IPython.core.display.HTML object>"
            ]
          },
          "metadata": {
            "tags": []
          }
        },
        {
          "output_type": "stream",
          "text": [
            "('0', tensor(0), tensor([0.5720, 0.4280]))\n"
          ],
          "name": "stdout"
        },
        {
          "output_type": "display_data",
          "data": {
            "text/html": [
              ""
            ],
            "text/plain": [
              "<IPython.core.display.HTML object>"
            ]
          },
          "metadata": {
            "tags": []
          }
        },
        {
          "output_type": "stream",
          "text": [
            "('0', tensor(0), tensor([0.7868, 0.2132]))\n"
          ],
          "name": "stdout"
        },
        {
          "output_type": "display_data",
          "data": {
            "text/html": [
              ""
            ],
            "text/plain": [
              "<IPython.core.display.HTML object>"
            ]
          },
          "metadata": {
            "tags": []
          }
        },
        {
          "output_type": "stream",
          "text": [
            "('0', tensor(0), tensor([0.9951, 0.0049]))\n"
          ],
          "name": "stdout"
        },
        {
          "output_type": "display_data",
          "data": {
            "text/html": [
              ""
            ],
            "text/plain": [
              "<IPython.core.display.HTML object>"
            ]
          },
          "metadata": {
            "tags": []
          }
        },
        {
          "output_type": "stream",
          "text": [
            "('0', tensor(0), tensor([9.9933e-01, 6.6831e-04]))\n"
          ],
          "name": "stdout"
        },
        {
          "output_type": "display_data",
          "data": {
            "text/html": [
              ""
            ],
            "text/plain": [
              "<IPython.core.display.HTML object>"
            ]
          },
          "metadata": {
            "tags": []
          }
        },
        {
          "output_type": "stream",
          "text": [
            "('0', tensor(0), tensor([0.9953, 0.0047]))\n"
          ],
          "name": "stdout"
        },
        {
          "output_type": "display_data",
          "data": {
            "text/html": [
              ""
            ],
            "text/plain": [
              "<IPython.core.display.HTML object>"
            ]
          },
          "metadata": {
            "tags": []
          }
        },
        {
          "output_type": "stream",
          "text": [
            "('0', tensor(0), tensor([0.9969, 0.0031]))\n"
          ],
          "name": "stdout"
        },
        {
          "output_type": "display_data",
          "data": {
            "text/html": [
              ""
            ],
            "text/plain": [
              "<IPython.core.display.HTML object>"
            ]
          },
          "metadata": {
            "tags": []
          }
        },
        {
          "output_type": "stream",
          "text": [
            "('0', tensor(0), tensor([0.6926, 0.3074]))\n"
          ],
          "name": "stdout"
        },
        {
          "output_type": "display_data",
          "data": {
            "text/html": [
              ""
            ],
            "text/plain": [
              "<IPython.core.display.HTML object>"
            ]
          },
          "metadata": {
            "tags": []
          }
        },
        {
          "output_type": "stream",
          "text": [
            "('1', tensor(1), tensor([0.0095, 0.9905]))\n"
          ],
          "name": "stdout"
        },
        {
          "output_type": "display_data",
          "data": {
            "text/html": [
              ""
            ],
            "text/plain": [
              "<IPython.core.display.HTML object>"
            ]
          },
          "metadata": {
            "tags": []
          }
        },
        {
          "output_type": "stream",
          "text": [
            "('0', tensor(0), tensor([9.9906e-01, 9.4321e-04]))\n"
          ],
          "name": "stdout"
        },
        {
          "output_type": "display_data",
          "data": {
            "text/html": [
              ""
            ],
            "text/plain": [
              "<IPython.core.display.HTML object>"
            ]
          },
          "metadata": {
            "tags": []
          }
        },
        {
          "output_type": "stream",
          "text": [
            "('0', tensor(0), tensor([0.6615, 0.3385]))\n"
          ],
          "name": "stdout"
        },
        {
          "output_type": "display_data",
          "data": {
            "text/html": [
              ""
            ],
            "text/plain": [
              "<IPython.core.display.HTML object>"
            ]
          },
          "metadata": {
            "tags": []
          }
        },
        {
          "output_type": "stream",
          "text": [
            "('0', tensor(0), tensor([0.9845, 0.0155]))\n"
          ],
          "name": "stdout"
        },
        {
          "output_type": "display_data",
          "data": {
            "text/html": [
              ""
            ],
            "text/plain": [
              "<IPython.core.display.HTML object>"
            ]
          },
          "metadata": {
            "tags": []
          }
        },
        {
          "output_type": "stream",
          "text": [
            "('0', tensor(0), tensor([0.7969, 0.2031]))\n"
          ],
          "name": "stdout"
        },
        {
          "output_type": "display_data",
          "data": {
            "text/html": [
              ""
            ],
            "text/plain": [
              "<IPython.core.display.HTML object>"
            ]
          },
          "metadata": {
            "tags": []
          }
        },
        {
          "output_type": "stream",
          "text": [
            "('1', tensor(1), tensor([0.3074, 0.6926]))\n"
          ],
          "name": "stdout"
        },
        {
          "output_type": "display_data",
          "data": {
            "text/html": [
              ""
            ],
            "text/plain": [
              "<IPython.core.display.HTML object>"
            ]
          },
          "metadata": {
            "tags": []
          }
        },
        {
          "output_type": "stream",
          "text": [
            "('0', tensor(0), tensor([0.9893, 0.0107]))\n"
          ],
          "name": "stdout"
        },
        {
          "output_type": "display_data",
          "data": {
            "text/html": [
              ""
            ],
            "text/plain": [
              "<IPython.core.display.HTML object>"
            ]
          },
          "metadata": {
            "tags": []
          }
        },
        {
          "output_type": "stream",
          "text": [
            "('0', tensor(0), tensor([0.9097, 0.0903]))\n"
          ],
          "name": "stdout"
        },
        {
          "output_type": "display_data",
          "data": {
            "text/html": [
              ""
            ],
            "text/plain": [
              "<IPython.core.display.HTML object>"
            ]
          },
          "metadata": {
            "tags": []
          }
        },
        {
          "output_type": "stream",
          "text": [
            "('0', tensor(0), tensor([0.9891, 0.0109]))\n"
          ],
          "name": "stdout"
        },
        {
          "output_type": "display_data",
          "data": {
            "text/html": [
              ""
            ],
            "text/plain": [
              "<IPython.core.display.HTML object>"
            ]
          },
          "metadata": {
            "tags": []
          }
        },
        {
          "output_type": "stream",
          "text": [
            "('0', tensor(0), tensor([0.9917, 0.0083]))\n"
          ],
          "name": "stdout"
        },
        {
          "output_type": "display_data",
          "data": {
            "text/html": [
              ""
            ],
            "text/plain": [
              "<IPython.core.display.HTML object>"
            ]
          },
          "metadata": {
            "tags": []
          }
        },
        {
          "output_type": "stream",
          "text": [
            "('0', tensor(0), tensor([9.9973e-01, 2.7363e-04]))\n"
          ],
          "name": "stdout"
        },
        {
          "output_type": "display_data",
          "data": {
            "text/html": [
              ""
            ],
            "text/plain": [
              "<IPython.core.display.HTML object>"
            ]
          },
          "metadata": {
            "tags": []
          }
        },
        {
          "output_type": "stream",
          "text": [
            "('0', tensor(0), tensor([9.9954e-01, 4.5710e-04]))\n"
          ],
          "name": "stdout"
        },
        {
          "output_type": "display_data",
          "data": {
            "text/html": [
              ""
            ],
            "text/plain": [
              "<IPython.core.display.HTML object>"
            ]
          },
          "metadata": {
            "tags": []
          }
        },
        {
          "output_type": "stream",
          "text": [
            "('0', tensor(0), tensor([0.9981, 0.0019]))\n"
          ],
          "name": "stdout"
        },
        {
          "output_type": "display_data",
          "data": {
            "text/html": [
              ""
            ],
            "text/plain": [
              "<IPython.core.display.HTML object>"
            ]
          },
          "metadata": {
            "tags": []
          }
        },
        {
          "output_type": "stream",
          "text": [
            "('0', tensor(0), tensor([0.9327, 0.0673]))\n"
          ],
          "name": "stdout"
        },
        {
          "output_type": "display_data",
          "data": {
            "text/html": [
              ""
            ],
            "text/plain": [
              "<IPython.core.display.HTML object>"
            ]
          },
          "metadata": {
            "tags": []
          }
        },
        {
          "output_type": "stream",
          "text": [
            "('0', tensor(0), tensor([0.9827, 0.0173]))\n"
          ],
          "name": "stdout"
        },
        {
          "output_type": "display_data",
          "data": {
            "text/html": [
              ""
            ],
            "text/plain": [
              "<IPython.core.display.HTML object>"
            ]
          },
          "metadata": {
            "tags": []
          }
        },
        {
          "output_type": "stream",
          "text": [
            "('0', tensor(0), tensor([0.9892, 0.0108]))\n"
          ],
          "name": "stdout"
        },
        {
          "output_type": "display_data",
          "data": {
            "text/html": [
              ""
            ],
            "text/plain": [
              "<IPython.core.display.HTML object>"
            ]
          },
          "metadata": {
            "tags": []
          }
        },
        {
          "output_type": "stream",
          "text": [
            "('0', tensor(0), tensor([0.9887, 0.0113]))\n"
          ],
          "name": "stdout"
        },
        {
          "output_type": "display_data",
          "data": {
            "text/html": [
              ""
            ],
            "text/plain": [
              "<IPython.core.display.HTML object>"
            ]
          },
          "metadata": {
            "tags": []
          }
        },
        {
          "output_type": "stream",
          "text": [
            "('0', tensor(0), tensor([9.9962e-01, 3.7699e-04]))\n"
          ],
          "name": "stdout"
        },
        {
          "output_type": "display_data",
          "data": {
            "text/html": [
              ""
            ],
            "text/plain": [
              "<IPython.core.display.HTML object>"
            ]
          },
          "metadata": {
            "tags": []
          }
        },
        {
          "output_type": "stream",
          "text": [
            "('1', tensor(1), tensor([2.7057e-05, 9.9997e-01]))\n"
          ],
          "name": "stdout"
        },
        {
          "output_type": "display_data",
          "data": {
            "text/html": [
              ""
            ],
            "text/plain": [
              "<IPython.core.display.HTML object>"
            ]
          },
          "metadata": {
            "tags": []
          }
        },
        {
          "output_type": "stream",
          "text": [
            "('1', tensor(1), tensor([0.0232, 0.9768]))\n"
          ],
          "name": "stdout"
        },
        {
          "output_type": "display_data",
          "data": {
            "text/html": [
              ""
            ],
            "text/plain": [
              "<IPython.core.display.HTML object>"
            ]
          },
          "metadata": {
            "tags": []
          }
        },
        {
          "output_type": "stream",
          "text": [
            "('0', tensor(0), tensor([9.9995e-01, 5.1845e-05]))\n"
          ],
          "name": "stdout"
        },
        {
          "output_type": "display_data",
          "data": {
            "text/html": [
              ""
            ],
            "text/plain": [
              "<IPython.core.display.HTML object>"
            ]
          },
          "metadata": {
            "tags": []
          }
        },
        {
          "output_type": "stream",
          "text": [
            "('0', tensor(0), tensor([0.9981, 0.0019]))\n"
          ],
          "name": "stdout"
        },
        {
          "output_type": "display_data",
          "data": {
            "text/html": [
              ""
            ],
            "text/plain": [
              "<IPython.core.display.HTML object>"
            ]
          },
          "metadata": {
            "tags": []
          }
        },
        {
          "output_type": "stream",
          "text": [
            "('0', tensor(0), tensor([9.9916e-01, 8.4017e-04]))\n"
          ],
          "name": "stdout"
        },
        {
          "output_type": "display_data",
          "data": {
            "text/html": [
              ""
            ],
            "text/plain": [
              "<IPython.core.display.HTML object>"
            ]
          },
          "metadata": {
            "tags": []
          }
        },
        {
          "output_type": "stream",
          "text": [
            "('1', tensor(1), tensor([0.3211, 0.6789]))\n"
          ],
          "name": "stdout"
        },
        {
          "output_type": "display_data",
          "data": {
            "text/html": [
              ""
            ],
            "text/plain": [
              "<IPython.core.display.HTML object>"
            ]
          },
          "metadata": {
            "tags": []
          }
        },
        {
          "output_type": "stream",
          "text": [
            "('0', tensor(0), tensor([0.9976, 0.0024]))\n"
          ],
          "name": "stdout"
        },
        {
          "output_type": "display_data",
          "data": {
            "text/html": [
              ""
            ],
            "text/plain": [
              "<IPython.core.display.HTML object>"
            ]
          },
          "metadata": {
            "tags": []
          }
        },
        {
          "output_type": "stream",
          "text": [
            "('0', tensor(0), tensor([0.7306, 0.2694]))\n"
          ],
          "name": "stdout"
        },
        {
          "output_type": "display_data",
          "data": {
            "text/html": [
              ""
            ],
            "text/plain": [
              "<IPython.core.display.HTML object>"
            ]
          },
          "metadata": {
            "tags": []
          }
        },
        {
          "output_type": "stream",
          "text": [
            "('0', tensor(0), tensor([0.9977, 0.0023]))\n"
          ],
          "name": "stdout"
        },
        {
          "output_type": "display_data",
          "data": {
            "text/html": [
              ""
            ],
            "text/plain": [
              "<IPython.core.display.HTML object>"
            ]
          },
          "metadata": {
            "tags": []
          }
        },
        {
          "output_type": "stream",
          "text": [
            "('0', tensor(0), tensor([0.8333, 0.1667]))\n"
          ],
          "name": "stdout"
        },
        {
          "output_type": "display_data",
          "data": {
            "text/html": [
              ""
            ],
            "text/plain": [
              "<IPython.core.display.HTML object>"
            ]
          },
          "metadata": {
            "tags": []
          }
        },
        {
          "output_type": "stream",
          "text": [
            "('0', tensor(0), tensor([0.5153, 0.4847]))\n"
          ],
          "name": "stdout"
        },
        {
          "output_type": "display_data",
          "data": {
            "text/html": [
              ""
            ],
            "text/plain": [
              "<IPython.core.display.HTML object>"
            ]
          },
          "metadata": {
            "tags": []
          }
        },
        {
          "output_type": "stream",
          "text": [
            "('0', tensor(0), tensor([0.9967, 0.0033]))\n"
          ],
          "name": "stdout"
        },
        {
          "output_type": "display_data",
          "data": {
            "text/html": [
              ""
            ],
            "text/plain": [
              "<IPython.core.display.HTML object>"
            ]
          },
          "metadata": {
            "tags": []
          }
        },
        {
          "output_type": "stream",
          "text": [
            "('0', tensor(0), tensor([0.9745, 0.0255]))\n"
          ],
          "name": "stdout"
        },
        {
          "output_type": "display_data",
          "data": {
            "text/html": [
              ""
            ],
            "text/plain": [
              "<IPython.core.display.HTML object>"
            ]
          },
          "metadata": {
            "tags": []
          }
        },
        {
          "output_type": "stream",
          "text": [
            "('0', tensor(0), tensor([0.7785, 0.2215]))\n"
          ],
          "name": "stdout"
        },
        {
          "output_type": "display_data",
          "data": {
            "text/html": [
              ""
            ],
            "text/plain": [
              "<IPython.core.display.HTML object>"
            ]
          },
          "metadata": {
            "tags": []
          }
        },
        {
          "output_type": "stream",
          "text": [
            "('1', tensor(1), tensor([0.3891, 0.6109]))\n"
          ],
          "name": "stdout"
        },
        {
          "output_type": "display_data",
          "data": {
            "text/html": [
              ""
            ],
            "text/plain": [
              "<IPython.core.display.HTML object>"
            ]
          },
          "metadata": {
            "tags": []
          }
        },
        {
          "output_type": "stream",
          "text": [
            "('1', tensor(1), tensor([0.4114, 0.5886]))\n"
          ],
          "name": "stdout"
        },
        {
          "output_type": "display_data",
          "data": {
            "text/html": [
              ""
            ],
            "text/plain": [
              "<IPython.core.display.HTML object>"
            ]
          },
          "metadata": {
            "tags": []
          }
        },
        {
          "output_type": "stream",
          "text": [
            "('0', tensor(0), tensor([9.9988e-01, 1.2232e-04]))\n"
          ],
          "name": "stdout"
        },
        {
          "output_type": "display_data",
          "data": {
            "text/html": [
              ""
            ],
            "text/plain": [
              "<IPython.core.display.HTML object>"
            ]
          },
          "metadata": {
            "tags": []
          }
        },
        {
          "output_type": "stream",
          "text": [
            "('0', tensor(0), tensor([0.9271, 0.0729]))\n"
          ],
          "name": "stdout"
        },
        {
          "output_type": "display_data",
          "data": {
            "text/html": [
              ""
            ],
            "text/plain": [
              "<IPython.core.display.HTML object>"
            ]
          },
          "metadata": {
            "tags": []
          }
        },
        {
          "output_type": "stream",
          "text": [
            "('1', tensor(1), tensor([1.3298e-05, 9.9999e-01]))\n"
          ],
          "name": "stdout"
        },
        {
          "output_type": "display_data",
          "data": {
            "text/html": [
              ""
            ],
            "text/plain": [
              "<IPython.core.display.HTML object>"
            ]
          },
          "metadata": {
            "tags": []
          }
        },
        {
          "output_type": "stream",
          "text": [
            "('0', tensor(0), tensor([0.9932, 0.0068]))\n"
          ],
          "name": "stdout"
        },
        {
          "output_type": "display_data",
          "data": {
            "text/html": [
              ""
            ],
            "text/plain": [
              "<IPython.core.display.HTML object>"
            ]
          },
          "metadata": {
            "tags": []
          }
        },
        {
          "output_type": "stream",
          "text": [
            "('1', tensor(1), tensor([0.3282, 0.6718]))\n"
          ],
          "name": "stdout"
        },
        {
          "output_type": "display_data",
          "data": {
            "text/html": [
              ""
            ],
            "text/plain": [
              "<IPython.core.display.HTML object>"
            ]
          },
          "metadata": {
            "tags": []
          }
        },
        {
          "output_type": "stream",
          "text": [
            "('0', tensor(0), tensor([0.9962, 0.0038]))\n"
          ],
          "name": "stdout"
        },
        {
          "output_type": "display_data",
          "data": {
            "text/html": [
              ""
            ],
            "text/plain": [
              "<IPython.core.display.HTML object>"
            ]
          },
          "metadata": {
            "tags": []
          }
        },
        {
          "output_type": "stream",
          "text": [
            "('0', tensor(0), tensor([0.8974, 0.1026]))\n"
          ],
          "name": "stdout"
        },
        {
          "output_type": "display_data",
          "data": {
            "text/html": [
              ""
            ],
            "text/plain": [
              "<IPython.core.display.HTML object>"
            ]
          },
          "metadata": {
            "tags": []
          }
        },
        {
          "output_type": "stream",
          "text": [
            "('1', tensor(1), tensor([5.8348e-04, 9.9942e-01]))\n"
          ],
          "name": "stdout"
        },
        {
          "output_type": "display_data",
          "data": {
            "text/html": [
              ""
            ],
            "text/plain": [
              "<IPython.core.display.HTML object>"
            ]
          },
          "metadata": {
            "tags": []
          }
        },
        {
          "output_type": "stream",
          "text": [
            "('1', tensor(1), tensor([0.0368, 0.9632]))\n"
          ],
          "name": "stdout"
        },
        {
          "output_type": "display_data",
          "data": {
            "text/html": [
              ""
            ],
            "text/plain": [
              "<IPython.core.display.HTML object>"
            ]
          },
          "metadata": {
            "tags": []
          }
        },
        {
          "output_type": "stream",
          "text": [
            "('0', tensor(0), tensor([9.9992e-01, 8.4112e-05]))\n"
          ],
          "name": "stdout"
        },
        {
          "output_type": "display_data",
          "data": {
            "text/html": [
              ""
            ],
            "text/plain": [
              "<IPython.core.display.HTML object>"
            ]
          },
          "metadata": {
            "tags": []
          }
        },
        {
          "output_type": "stream",
          "text": [
            "('0', tensor(0), tensor([0.9342, 0.0658]))\n"
          ],
          "name": "stdout"
        },
        {
          "output_type": "display_data",
          "data": {
            "text/html": [
              ""
            ],
            "text/plain": [
              "<IPython.core.display.HTML object>"
            ]
          },
          "metadata": {
            "tags": []
          }
        },
        {
          "output_type": "stream",
          "text": [
            "('0', tensor(0), tensor([0.9990, 0.0010]))\n"
          ],
          "name": "stdout"
        },
        {
          "output_type": "display_data",
          "data": {
            "text/html": [
              ""
            ],
            "text/plain": [
              "<IPython.core.display.HTML object>"
            ]
          },
          "metadata": {
            "tags": []
          }
        },
        {
          "output_type": "stream",
          "text": [
            "('0', tensor(0), tensor([9.9985e-01, 1.5245e-04]))\n"
          ],
          "name": "stdout"
        },
        {
          "output_type": "display_data",
          "data": {
            "text/html": [
              ""
            ],
            "text/plain": [
              "<IPython.core.display.HTML object>"
            ]
          },
          "metadata": {
            "tags": []
          }
        },
        {
          "output_type": "stream",
          "text": [
            "('0', tensor(0), tensor([0.9857, 0.0143]))\n"
          ],
          "name": "stdout"
        },
        {
          "output_type": "display_data",
          "data": {
            "text/html": [
              ""
            ],
            "text/plain": [
              "<IPython.core.display.HTML object>"
            ]
          },
          "metadata": {
            "tags": []
          }
        },
        {
          "output_type": "stream",
          "text": [
            "('0', tensor(0), tensor([0.9501, 0.0499]))\n"
          ],
          "name": "stdout"
        },
        {
          "output_type": "display_data",
          "data": {
            "text/html": [
              ""
            ],
            "text/plain": [
              "<IPython.core.display.HTML object>"
            ]
          },
          "metadata": {
            "tags": []
          }
        },
        {
          "output_type": "stream",
          "text": [
            "('0', tensor(0), tensor([0.7935, 0.2065]))\n"
          ],
          "name": "stdout"
        },
        {
          "output_type": "display_data",
          "data": {
            "text/html": [
              ""
            ],
            "text/plain": [
              "<IPython.core.display.HTML object>"
            ]
          },
          "metadata": {
            "tags": []
          }
        },
        {
          "output_type": "stream",
          "text": [
            "('0', tensor(0), tensor([0.8951, 0.1049]))\n"
          ],
          "name": "stdout"
        },
        {
          "output_type": "display_data",
          "data": {
            "text/html": [
              ""
            ],
            "text/plain": [
              "<IPython.core.display.HTML object>"
            ]
          },
          "metadata": {
            "tags": []
          }
        },
        {
          "output_type": "stream",
          "text": [
            "('0', tensor(0), tensor([0.9375, 0.0625]))\n"
          ],
          "name": "stdout"
        },
        {
          "output_type": "display_data",
          "data": {
            "text/html": [
              ""
            ],
            "text/plain": [
              "<IPython.core.display.HTML object>"
            ]
          },
          "metadata": {
            "tags": []
          }
        },
        {
          "output_type": "stream",
          "text": [
            "('1', tensor(1), tensor([0.1404, 0.8596]))\n"
          ],
          "name": "stdout"
        },
        {
          "output_type": "display_data",
          "data": {
            "text/html": [
              ""
            ],
            "text/plain": [
              "<IPython.core.display.HTML object>"
            ]
          },
          "metadata": {
            "tags": []
          }
        },
        {
          "output_type": "stream",
          "text": [
            "('1', tensor(1), tensor([0.1018, 0.8982]))\n"
          ],
          "name": "stdout"
        },
        {
          "output_type": "display_data",
          "data": {
            "text/html": [
              ""
            ],
            "text/plain": [
              "<IPython.core.display.HTML object>"
            ]
          },
          "metadata": {
            "tags": []
          }
        },
        {
          "output_type": "stream",
          "text": [
            "('0', tensor(0), tensor([0.9981, 0.0019]))\n"
          ],
          "name": "stdout"
        },
        {
          "output_type": "display_data",
          "data": {
            "text/html": [
              ""
            ],
            "text/plain": [
              "<IPython.core.display.HTML object>"
            ]
          },
          "metadata": {
            "tags": []
          }
        },
        {
          "output_type": "stream",
          "text": [
            "('0', tensor(0), tensor([0.8985, 0.1015]))\n"
          ],
          "name": "stdout"
        },
        {
          "output_type": "display_data",
          "data": {
            "text/html": [
              ""
            ],
            "text/plain": [
              "<IPython.core.display.HTML object>"
            ]
          },
          "metadata": {
            "tags": []
          }
        },
        {
          "output_type": "stream",
          "text": [
            "('0', tensor(0), tensor([0.9705, 0.0295]))\n"
          ],
          "name": "stdout"
        },
        {
          "output_type": "display_data",
          "data": {
            "text/html": [
              ""
            ],
            "text/plain": [
              "<IPython.core.display.HTML object>"
            ]
          },
          "metadata": {
            "tags": []
          }
        },
        {
          "output_type": "stream",
          "text": [
            "('0', tensor(0), tensor([9.9953e-01, 4.6525e-04]))\n"
          ],
          "name": "stdout"
        },
        {
          "output_type": "display_data",
          "data": {
            "text/html": [
              ""
            ],
            "text/plain": [
              "<IPython.core.display.HTML object>"
            ]
          },
          "metadata": {
            "tags": []
          }
        },
        {
          "output_type": "stream",
          "text": [
            "('0', tensor(0), tensor([0.5459, 0.4541]))\n"
          ],
          "name": "stdout"
        },
        {
          "output_type": "display_data",
          "data": {
            "text/html": [
              ""
            ],
            "text/plain": [
              "<IPython.core.display.HTML object>"
            ]
          },
          "metadata": {
            "tags": []
          }
        },
        {
          "output_type": "stream",
          "text": [
            "('1', tensor(1), tensor([0.0028, 0.9972]))\n"
          ],
          "name": "stdout"
        },
        {
          "output_type": "display_data",
          "data": {
            "text/html": [
              ""
            ],
            "text/plain": [
              "<IPython.core.display.HTML object>"
            ]
          },
          "metadata": {
            "tags": []
          }
        },
        {
          "output_type": "stream",
          "text": [
            "('1', tensor(1), tensor([0.0238, 0.9762]))\n"
          ],
          "name": "stdout"
        },
        {
          "output_type": "display_data",
          "data": {
            "text/html": [
              ""
            ],
            "text/plain": [
              "<IPython.core.display.HTML object>"
            ]
          },
          "metadata": {
            "tags": []
          }
        },
        {
          "output_type": "stream",
          "text": [
            "('1', tensor(1), tensor([0.0013, 0.9987]))\n"
          ],
          "name": "stdout"
        },
        {
          "output_type": "display_data",
          "data": {
            "text/html": [
              ""
            ],
            "text/plain": [
              "<IPython.core.display.HTML object>"
            ]
          },
          "metadata": {
            "tags": []
          }
        },
        {
          "output_type": "stream",
          "text": [
            "('1', tensor(1), tensor([0.3138, 0.6862]))\n"
          ],
          "name": "stdout"
        },
        {
          "output_type": "display_data",
          "data": {
            "text/html": [
              ""
            ],
            "text/plain": [
              "<IPython.core.display.HTML object>"
            ]
          },
          "metadata": {
            "tags": []
          }
        },
        {
          "output_type": "stream",
          "text": [
            "('1', tensor(1), tensor([0.0164, 0.9836]))\n"
          ],
          "name": "stdout"
        },
        {
          "output_type": "display_data",
          "data": {
            "text/html": [
              ""
            ],
            "text/plain": [
              "<IPython.core.display.HTML object>"
            ]
          },
          "metadata": {
            "tags": []
          }
        },
        {
          "output_type": "stream",
          "text": [
            "('1', tensor(1), tensor([0.0181, 0.9819]))\n"
          ],
          "name": "stdout"
        },
        {
          "output_type": "display_data",
          "data": {
            "text/html": [
              ""
            ],
            "text/plain": [
              "<IPython.core.display.HTML object>"
            ]
          },
          "metadata": {
            "tags": []
          }
        },
        {
          "output_type": "stream",
          "text": [
            "('1', tensor(1), tensor([0.4287, 0.5713]))\n"
          ],
          "name": "stdout"
        },
        {
          "output_type": "display_data",
          "data": {
            "text/html": [
              ""
            ],
            "text/plain": [
              "<IPython.core.display.HTML object>"
            ]
          },
          "metadata": {
            "tags": []
          }
        },
        {
          "output_type": "stream",
          "text": [
            "('1', tensor(1), tensor([0.0441, 0.9559]))\n"
          ],
          "name": "stdout"
        },
        {
          "output_type": "display_data",
          "data": {
            "text/html": [
              ""
            ],
            "text/plain": [
              "<IPython.core.display.HTML object>"
            ]
          },
          "metadata": {
            "tags": []
          }
        },
        {
          "output_type": "stream",
          "text": [
            "('1', tensor(1), tensor([0.0233, 0.9767]))\n"
          ],
          "name": "stdout"
        },
        {
          "output_type": "display_data",
          "data": {
            "text/html": [
              ""
            ],
            "text/plain": [
              "<IPython.core.display.HTML object>"
            ]
          },
          "metadata": {
            "tags": []
          }
        },
        {
          "output_type": "stream",
          "text": [
            "('1', tensor(1), tensor([0.0267, 0.9733]))\n"
          ],
          "name": "stdout"
        },
        {
          "output_type": "display_data",
          "data": {
            "text/html": [
              ""
            ],
            "text/plain": [
              "<IPython.core.display.HTML object>"
            ]
          },
          "metadata": {
            "tags": []
          }
        },
        {
          "output_type": "stream",
          "text": [
            "('1', tensor(1), tensor([0.4932, 0.5068]))\n"
          ],
          "name": "stdout"
        },
        {
          "output_type": "display_data",
          "data": {
            "text/html": [
              ""
            ],
            "text/plain": [
              "<IPython.core.display.HTML object>"
            ]
          },
          "metadata": {
            "tags": []
          }
        },
        {
          "output_type": "stream",
          "text": [
            "('1', tensor(1), tensor([0.3203, 0.6797]))\n"
          ],
          "name": "stdout"
        },
        {
          "output_type": "display_data",
          "data": {
            "text/html": [
              ""
            ],
            "text/plain": [
              "<IPython.core.display.HTML object>"
            ]
          },
          "metadata": {
            "tags": []
          }
        },
        {
          "output_type": "stream",
          "text": [
            "('1', tensor(1), tensor([0.1264, 0.8736]))\n"
          ],
          "name": "stdout"
        },
        {
          "output_type": "display_data",
          "data": {
            "text/html": [
              ""
            ],
            "text/plain": [
              "<IPython.core.display.HTML object>"
            ]
          },
          "metadata": {
            "tags": []
          }
        },
        {
          "output_type": "stream",
          "text": [
            "('1', tensor(1), tensor([0.0417, 0.9583]))\n"
          ],
          "name": "stdout"
        },
        {
          "output_type": "display_data",
          "data": {
            "text/html": [
              ""
            ],
            "text/plain": [
              "<IPython.core.display.HTML object>"
            ]
          },
          "metadata": {
            "tags": []
          }
        },
        {
          "output_type": "stream",
          "text": [
            "('1', tensor(1), tensor([0.0028, 0.9972]))\n"
          ],
          "name": "stdout"
        },
        {
          "output_type": "display_data",
          "data": {
            "text/html": [
              ""
            ],
            "text/plain": [
              "<IPython.core.display.HTML object>"
            ]
          },
          "metadata": {
            "tags": []
          }
        },
        {
          "output_type": "stream",
          "text": [
            "('1', tensor(1), tensor([0.0087, 0.9913]))\n"
          ],
          "name": "stdout"
        },
        {
          "output_type": "display_data",
          "data": {
            "text/html": [
              ""
            ],
            "text/plain": [
              "<IPython.core.display.HTML object>"
            ]
          },
          "metadata": {
            "tags": []
          }
        },
        {
          "output_type": "stream",
          "text": [
            "('1', tensor(1), tensor([0.0325, 0.9675]))\n"
          ],
          "name": "stdout"
        },
        {
          "output_type": "display_data",
          "data": {
            "text/html": [
              ""
            ],
            "text/plain": [
              "<IPython.core.display.HTML object>"
            ]
          },
          "metadata": {
            "tags": []
          }
        },
        {
          "output_type": "stream",
          "text": [
            "('1', tensor(1), tensor([0.0022, 0.9978]))\n"
          ],
          "name": "stdout"
        },
        {
          "output_type": "display_data",
          "data": {
            "text/html": [
              ""
            ],
            "text/plain": [
              "<IPython.core.display.HTML object>"
            ]
          },
          "metadata": {
            "tags": []
          }
        },
        {
          "output_type": "stream",
          "text": [
            "('1', tensor(1), tensor([1.7296e-04, 9.9983e-01]))\n"
          ],
          "name": "stdout"
        },
        {
          "output_type": "display_data",
          "data": {
            "text/html": [
              ""
            ],
            "text/plain": [
              "<IPython.core.display.HTML object>"
            ]
          },
          "metadata": {
            "tags": []
          }
        },
        {
          "output_type": "stream",
          "text": [
            "('1', tensor(1), tensor([1.8824e-04, 9.9981e-01]))\n"
          ],
          "name": "stdout"
        },
        {
          "output_type": "display_data",
          "data": {
            "text/html": [
              ""
            ],
            "text/plain": [
              "<IPython.core.display.HTML object>"
            ]
          },
          "metadata": {
            "tags": []
          }
        },
        {
          "output_type": "stream",
          "text": [
            "('1', tensor(1), tensor([8.8793e-05, 9.9991e-01]))\n"
          ],
          "name": "stdout"
        }
      ]
    },
    {
      "cell_type": "code",
      "metadata": {
        "colab": {
          "base_uri": "https://localhost:8080/"
        },
        "id": "H3rQ372pddx3",
        "outputId": "8af53c0d-bbd8-4bca-d43d-d85ad808754e"
      },
      "source": [
        "preds # we can visually compare the model's predictions to the ground truth"
      ],
      "execution_count": 38,
      "outputs": [
        {
          "output_type": "execute_result",
          "data": {
            "text/plain": [
              "[(0, ('0', tensor(0), tensor([0.6423, 0.3577]))),\n",
              " (0, ('0', tensor(0), tensor([9.9976e-01, 2.4008e-04]))),\n",
              " (0, ('0', tensor(0), tensor([0.9800, 0.0200]))),\n",
              " (0, ('0', tensor(0), tensor([0.5918, 0.4082]))),\n",
              " (0, ('0', tensor(0), tensor([0.8687, 0.1313]))),\n",
              " (0, ('0', tensor(0), tensor([0.9846, 0.0154]))),\n",
              " (0, ('0', tensor(0), tensor([0.8314, 0.1686]))),\n",
              " (0, ('1', tensor(1), tensor([0.3057, 0.6943]))),\n",
              " (0, ('0', tensor(0), tensor([0.9867, 0.0133]))),\n",
              " (0, ('1', tensor(1), tensor([0.4748, 0.5252]))),\n",
              " (0, ('0', tensor(0), tensor([9.9985e-01, 1.5056e-04]))),\n",
              " (0, ('1', tensor(1), tensor([0.0783, 0.9217]))),\n",
              " (0, ('0', tensor(0), tensor([9.9976e-01, 2.3610e-04]))),\n",
              " (0, ('1', tensor(1), tensor([0.4265, 0.5735]))),\n",
              " (0, ('0', tensor(0), tensor([0.9989, 0.0011]))),\n",
              " (0, ('0', tensor(0), tensor([0.5720, 0.4280]))),\n",
              " (0, ('0', tensor(0), tensor([0.7868, 0.2132]))),\n",
              " (0, ('0', tensor(0), tensor([0.9951, 0.0049]))),\n",
              " (0, ('0', tensor(0), tensor([9.9933e-01, 6.6831e-04]))),\n",
              " (0, ('0', tensor(0), tensor([0.9953, 0.0047]))),\n",
              " (0, ('0', tensor(0), tensor([0.9969, 0.0031]))),\n",
              " (0, ('0', tensor(0), tensor([0.6926, 0.3074]))),\n",
              " (0, ('1', tensor(1), tensor([0.0095, 0.9905]))),\n",
              " (0, ('0', tensor(0), tensor([9.9906e-01, 9.4321e-04]))),\n",
              " (0, ('0', tensor(0), tensor([0.6615, 0.3385]))),\n",
              " (0, ('0', tensor(0), tensor([0.9845, 0.0155]))),\n",
              " (0, ('0', tensor(0), tensor([0.7969, 0.2031]))),\n",
              " (0, ('1', tensor(1), tensor([0.3074, 0.6926]))),\n",
              " (0, ('0', tensor(0), tensor([0.9893, 0.0107]))),\n",
              " (0, ('0', tensor(0), tensor([0.9097, 0.0903]))),\n",
              " (0, ('0', tensor(0), tensor([0.9891, 0.0109]))),\n",
              " (0, ('0', tensor(0), tensor([0.9917, 0.0083]))),\n",
              " (0, ('0', tensor(0), tensor([9.9973e-01, 2.7363e-04]))),\n",
              " (0, ('0', tensor(0), tensor([9.9954e-01, 4.5710e-04]))),\n",
              " (0, ('0', tensor(0), tensor([0.9981, 0.0019]))),\n",
              " (0, ('0', tensor(0), tensor([0.9327, 0.0673]))),\n",
              " (0, ('0', tensor(0), tensor([0.9827, 0.0173]))),\n",
              " (0, ('0', tensor(0), tensor([0.9892, 0.0108]))),\n",
              " (0, ('0', tensor(0), tensor([0.9887, 0.0113]))),\n",
              " (0, ('0', tensor(0), tensor([9.9962e-01, 3.7699e-04]))),\n",
              " (0, ('1', tensor(1), tensor([2.7057e-05, 9.9997e-01]))),\n",
              " (0, ('1', tensor(1), tensor([0.0232, 0.9768]))),\n",
              " (0, ('0', tensor(0), tensor([9.9995e-01, 5.1845e-05]))),\n",
              " (0, ('0', tensor(0), tensor([0.9981, 0.0019]))),\n",
              " (0, ('0', tensor(0), tensor([9.9916e-01, 8.4017e-04]))),\n",
              " (0, ('1', tensor(1), tensor([0.3211, 0.6789]))),\n",
              " (0, ('0', tensor(0), tensor([0.9976, 0.0024]))),\n",
              " (0, ('0', tensor(0), tensor([0.7306, 0.2694]))),\n",
              " (0, ('0', tensor(0), tensor([0.9977, 0.0023]))),\n",
              " (0, ('0', tensor(0), tensor([0.8333, 0.1667]))),\n",
              " (0, ('0', tensor(0), tensor([0.5153, 0.4847]))),\n",
              " (0, ('0', tensor(0), tensor([0.9967, 0.0033]))),\n",
              " (0, ('0', tensor(0), tensor([0.9745, 0.0255]))),\n",
              " (0, ('0', tensor(0), tensor([0.7785, 0.2215]))),\n",
              " (1, ('1', tensor(1), tensor([0.3891, 0.6109]))),\n",
              " (0, ('1', tensor(1), tensor([0.4114, 0.5886]))),\n",
              " (0, ('0', tensor(0), tensor([9.9988e-01, 1.2232e-04]))),\n",
              " (0, ('0', tensor(0), tensor([0.9271, 0.0729]))),\n",
              " (0, ('1', tensor(1), tensor([1.3298e-05, 9.9999e-01]))),\n",
              " (0, ('0', tensor(0), tensor([0.9932, 0.0068]))),\n",
              " (0, ('1', tensor(1), tensor([0.3282, 0.6718]))),\n",
              " (0, ('0', tensor(0), tensor([0.9962, 0.0038]))),\n",
              " (0, ('0', tensor(0), tensor([0.8974, 0.1026]))),\n",
              " (0, ('1', tensor(1), tensor([5.8348e-04, 9.9942e-01]))),\n",
              " (0, ('1', tensor(1), tensor([0.0368, 0.9632]))),\n",
              " (0, ('0', tensor(0), tensor([9.9992e-01, 8.4112e-05]))),\n",
              " (0, ('0', tensor(0), tensor([0.9342, 0.0658]))),\n",
              " (0, ('0', tensor(0), tensor([0.9990, 0.0010]))),\n",
              " (0, ('0', tensor(0), tensor([9.9985e-01, 1.5245e-04]))),\n",
              " (0, ('0', tensor(0), tensor([0.9857, 0.0143]))),\n",
              " (0, ('0', tensor(0), tensor([0.9501, 0.0499]))),\n",
              " (0, ('0', tensor(0), tensor([0.7935, 0.2065]))),\n",
              " (0, ('0', tensor(0), tensor([0.8951, 0.1049]))),\n",
              " (0, ('0', tensor(0), tensor([0.9375, 0.0625]))),\n",
              " (0, ('1', tensor(1), tensor([0.1404, 0.8596]))),\n",
              " (0, ('1', tensor(1), tensor([0.1018, 0.8982]))),\n",
              " (0, ('0', tensor(0), tensor([0.9981, 0.0019]))),\n",
              " (0, ('0', tensor(0), tensor([0.8985, 0.1015]))),\n",
              " (0, ('0', tensor(0), tensor([0.9705, 0.0295]))),\n",
              " (0, ('0', tensor(0), tensor([9.9953e-01, 4.6525e-04]))),\n",
              " (1, ('0', tensor(0), tensor([0.5459, 0.4541]))),\n",
              " (1, ('1', tensor(1), tensor([0.0028, 0.9972]))),\n",
              " (1, ('1', tensor(1), tensor([0.0238, 0.9762]))),\n",
              " (1, ('1', tensor(1), tensor([0.0013, 0.9987]))),\n",
              " (1, ('1', tensor(1), tensor([0.3138, 0.6862]))),\n",
              " (1, ('1', tensor(1), tensor([0.0164, 0.9836]))),\n",
              " (1, ('1', tensor(1), tensor([0.0181, 0.9819]))),\n",
              " (1, ('1', tensor(1), tensor([0.4287, 0.5713]))),\n",
              " (1, ('1', tensor(1), tensor([0.0441, 0.9559]))),\n",
              " (1, ('1', tensor(1), tensor([0.0233, 0.9767]))),\n",
              " (1, ('1', tensor(1), tensor([0.0267, 0.9733]))),\n",
              " (1, ('1', tensor(1), tensor([0.4932, 0.5068]))),\n",
              " (1, ('1', tensor(1), tensor([0.3203, 0.6797]))),\n",
              " (1, ('1', tensor(1), tensor([0.1264, 0.8736]))),\n",
              " (1, ('1', tensor(1), tensor([0.0417, 0.9583]))),\n",
              " (1, ('1', tensor(1), tensor([0.0028, 0.9972]))),\n",
              " (1, ('1', tensor(1), tensor([0.0087, 0.9913]))),\n",
              " (1, ('1', tensor(1), tensor([0.0325, 0.9675]))),\n",
              " (1, ('1', tensor(1), tensor([0.0022, 0.9978]))),\n",
              " (1, ('1', tensor(1), tensor([1.7296e-04, 9.9983e-01]))),\n",
              " (1, ('1', tensor(1), tensor([1.8824e-04, 9.9981e-01]))),\n",
              " (1, ('1', tensor(1), tensor([8.8793e-05, 9.9991e-01])))]"
            ]
          },
          "metadata": {
            "tags": []
          },
          "execution_count": 38
        }
      ]
    },
    {
      "cell_type": "code",
      "metadata": {
        "colab": {
          "base_uri": "https://localhost:8080/"
        },
        "id": "fi-5bd0s46kQ",
        "outputId": "cade8863-6648-407f-cded-3a2b62fb21df"
      },
      "source": [
        "index = 3\n",
        "thd = .3\n",
        "def get_pred(index, thd): \n",
        "  predicted_one = preds[index][1][2][1].item()\n",
        "  predicted_value = 0;\n",
        "  if predicted_one > thd:\n",
        "    predicted_value = 1\n",
        "  else:\n",
        "    predicted_value = 0\n",
        "  return predicted_value\n",
        "\n",
        "preds[index][0]\n",
        "\n",
        "def getConfusion(actual_value,predicted_value):\n",
        "  if actual_value == 1 :\n",
        "    if predicted_value == 1 :\n",
        "      return 0 #TP\n",
        "    else:\n",
        "      return 1 #FN\n",
        "  else:\n",
        "    if predicted_value == 1 :\n",
        "      return 2 #FP\n",
        "    else:\n",
        "      return 3 #TN\n",
        "\n",
        "def getConfusionMatrix(thd):\n",
        "  confusion_mat = { 0:0,1:0,2:0,3:0}\n",
        "  for index,pred in enumerate(preds):\n",
        "    pred_val = get_pred(index,thd)\n",
        "    actu_val = preds[index][0]\n",
        "    result = getConfusion(actu_val,pred_val)\n",
        "    confusion_mat[result] = confusion_mat[result] + 1\n",
        "  return confusion_mat\n",
        "\n",
        "def getRecall(conf):\n",
        "  return conf[0]/(conf[0]+conf[1])\n",
        "def getPrecision(conf):\n",
        "  return conf[0]/(conf[0]+conf[2])\n",
        "def getAcc(conf):\n",
        "  return (conf[0]+conf[3])/(conf[0]+conf[1]+conf[2]+conf[3])\n",
        "\n",
        "recalls = []\n",
        "precs = []\n",
        "accs = []\n",
        "for thd in range(1,10):\n",
        "  conf = getConfusionMatrix(0.1*thd)\n",
        "  recall = getRecall(conf)\n",
        "  prec = getPrecision(conf)\n",
        "  acc = getAcc(conf)\n",
        "  recalls.append(recall)\n",
        "  precs.append(prec)\n",
        "  accs.append(acc)\n",
        "  print(f\"{conf}, recall = {recall} precision = {prec} accuracy = {acc}\")"
      ],
      "execution_count": 39,
      "outputs": [
        {
          "output_type": "stream",
          "text": [
            "{0: 23, 1: 0, 2: 33, 3: 46}, recall = 1.0 precision = 0.4107142857142857 accuracy = 0.6764705882352942\n",
            "{0: 23, 1: 0, 2: 27, 3: 52}, recall = 1.0 precision = 0.46 accuracy = 0.7352941176470589\n",
            "{0: 23, 1: 0, 2: 22, 3: 57}, recall = 1.0 precision = 0.5111111111111111 accuracy = 0.7843137254901961\n",
            "{0: 23, 1: 0, 2: 19, 3: 60}, recall = 1.0 precision = 0.5476190476190477 accuracy = 0.8137254901960784\n",
            "{0: 22, 1: 1, 2: 16, 3: 63}, recall = 0.9565217391304348 precision = 0.5789473684210527 accuracy = 0.8333333333333334\n",
            "{0: 20, 1: 3, 2: 13, 3: 66}, recall = 0.8695652173913043 precision = 0.6060606060606061 accuracy = 0.8431372549019608\n",
            "{0: 17, 1: 6, 2: 9, 3: 70}, recall = 0.7391304347826086 precision = 0.6538461538461539 accuracy = 0.8529411764705882\n",
            "{0: 17, 1: 6, 2: 9, 3: 70}, recall = 0.7391304347826086 precision = 0.6538461538461539 accuracy = 0.8529411764705882\n",
            "{0: 16, 1: 7, 2: 7, 3: 72}, recall = 0.6956521739130435 precision = 0.6956521739130435 accuracy = 0.8627450980392157\n"
          ],
          "name": "stdout"
        }
      ]
    },
    {
      "cell_type": "code",
      "metadata": {
        "colab": {
          "base_uri": "https://localhost:8080/"
        },
        "id": "x6Hqu8pq9-tN",
        "outputId": "c65d6ca5-1747-48af-ce31-a1bd64039297"
      },
      "source": [
        "precs"
      ],
      "execution_count": 40,
      "outputs": [
        {
          "output_type": "execute_result",
          "data": {
            "text/plain": [
              "[0.4107142857142857,\n",
              " 0.46,\n",
              " 0.5111111111111111,\n",
              " 0.5476190476190477,\n",
              " 0.5789473684210527,\n",
              " 0.6060606060606061,\n",
              " 0.6538461538461539,\n",
              " 0.6538461538461539,\n",
              " 0.6956521739130435]"
            ]
          },
          "metadata": {
            "tags": []
          },
          "execution_count": 40
        }
      ]
    },
    {
      "cell_type": "code",
      "metadata": {
        "colab": {
          "base_uri": "https://localhost:8080/"
        },
        "id": "1O1FuPlZ4I2c",
        "outputId": "568e0ec6-c804-4429-d4e5-c4a1c52441f2"
      },
      "source": [
        "recalls"
      ],
      "execution_count": 41,
      "outputs": [
        {
          "output_type": "execute_result",
          "data": {
            "text/plain": [
              "[1.0,\n",
              " 1.0,\n",
              " 1.0,\n",
              " 1.0,\n",
              " 0.9565217391304348,\n",
              " 0.8695652173913043,\n",
              " 0.7391304347826086,\n",
              " 0.7391304347826086,\n",
              " 0.6956521739130435]"
            ]
          },
          "metadata": {
            "tags": []
          },
          "execution_count": 41
        }
      ]
    },
    {
      "cell_type": "code",
      "metadata": {
        "colab": {
          "base_uri": "https://localhost:8080/"
        },
        "id": "84JU2Ui94KOY",
        "outputId": "dec8b8da-b5e7-4f18-b6cf-2cdf672f50c3"
      },
      "source": [
        "accs"
      ],
      "execution_count": 42,
      "outputs": [
        {
          "output_type": "execute_result",
          "data": {
            "text/plain": [
              "[0.6764705882352942,\n",
              " 0.7352941176470589,\n",
              " 0.7843137254901961,\n",
              " 0.8137254901960784,\n",
              " 0.8333333333333334,\n",
              " 0.8431372549019608,\n",
              " 0.8529411764705882,\n",
              " 0.8529411764705882,\n",
              " 0.8627450980392157]"
            ]
          },
          "metadata": {
            "tags": []
          },
          "execution_count": 42
        }
      ]
    },
    {
      "cell_type": "code",
      "metadata": {
        "id": "Y_RjvnPYMJP8"
      },
      "source": [
        "import matplotlib.pyplot as plt\n",
        "import numpy as np\n",
        "import pandas as pd\n",
        "import seaborn as sns"
      ],
      "execution_count": 43,
      "outputs": []
    },
    {
      "cell_type": "code",
      "metadata": {
        "id": "lsLSQwGNKQfU"
      },
      "source": [
        "sns.set_style('darkgrid')"
      ],
      "execution_count": 44,
      "outputs": []
    },
    {
      "cell_type": "code",
      "metadata": {
        "id": "2jKFlf0RO79y",
        "colab": {
          "base_uri": "https://localhost:8080/",
          "height": 391
        },
        "outputId": "446581f3-0986-4d8a-d646-e9e3d8826ba9"
      },
      "source": [
        "plt.figure(figsize=(10,6))\n",
        "sns.lineplot(data=recalls)\n",
        "sns.lineplot(data=precs)\n",
        "sns.lineplot(data=accs)\n",
        "plt.legend(labels=['recall', 'precision', 'accuracy'])\n",
        "\n",
        "# goal: maximize recall\n",
        "# best threshold: 0.4 - 0.5"
      ],
      "execution_count": 45,
      "outputs": [
        {
          "output_type": "execute_result",
          "data": {
            "text/plain": [
              "<matplotlib.legend.Legend at 0x7f87d7959590>"
            ]
          },
          "metadata": {
            "tags": []
          },
          "execution_count": 45
        },
        {
          "output_type": "display_data",
          "data": {
            "image/png": "[encoded data removed]",
            "text/plain": [
              "<Figure size 720x432 with 1 Axes>"
            ]
          },
          "metadata": {
            "tags": []
          }
        }
      ]
    },
    {
      "cell_type": "code",
      "metadata": {
        "id": "WMpojrneEZbx"
      },
      "source": [
        "def get_pred(index, thd): # get predictions function\n",
        "  # best thresholds are 0.5 and 0.4 (want to minimize recall while also having a bit of a balance between accuracy and precision)\n",
        "  predicted_one = preds[index][1][2][1].item()\n",
        "  predicted_value = 0;\n",
        "  if predicted_one > thd:\n",
        "    predicted_value = 1\n",
        "  else:\n",
        "    predicted_value = 0\n",
        "  return predicted_value"
      ],
      "execution_count": 46,
      "outputs": []
    },
    {
      "cell_type": "code",
      "metadata": {
        "colab": {
          "base_uri": "https://localhost:8080/"
        },
        "id": "M-7HgP0_CEsa",
        "outputId": "5f12b62f-2c58-4733-8aa6-ed987ad2eae7"
      },
      "source": [
        "get_pred(3,0.4)"
      ],
      "execution_count": 47,
      "outputs": [
        {
          "output_type": "execute_result",
          "data": {
            "text/plain": [
              "1"
            ]
          },
          "metadata": {
            "tags": []
          },
          "execution_count": 47
        }
      ]
    },
    {
      "cell_type": "markdown",
      "metadata": {
        "id": "whwBblN7lJ29"
      },
      "source": [
        "## Creating an Interactive Application"
      ]
    },
    {
      "cell_type": "markdown",
      "metadata": {
        "id": "CL7cRZspugq5"
      },
      "source": [
        "Our model can easily be put to use with ipython widgets. All code from here is from the [Fastbook - Chapter 2 (Production)](https://github.com/fastai/fastbook). \n",
        "\n",
        "\n",
        " "
      ]
    },
    {
      "cell_type": "code",
      "metadata": {
        "id": "UEH5QWuK4Qu7"
      },
      "source": [
        "from ipywidgets import Button, HBox, VBox\n",
        "import ipywidgets as widgets\n",
        "from IPython.display import display"
      ],
      "execution_count": 27,
      "outputs": []
    },
    {
      "cell_type": "code",
      "metadata": {
        "colab": {
          "base_uri": "https://localhost:8080/",
          "height": 61,
          "referenced_widgets": [
            "9210df02121d46a4b3eff31b80f6fd3b",
            "b934173bcce84d7ab18205436572ebff",
            "a94e010f3b0947e3b7af8de5f5285beb"
          ]
        },
        "id": "7LUwma4087nJ",
        "outputId": "34049fef-4b69-47b4-c733-ea90a02dc05b"
      },
      "source": [
        "btn_upload = widgets.FileUpload(layout=widgets.Layout(width='%10', height='40px'),\n",
        "    style= {'button_color': 'lightblue'})\n",
        "btn_upload"
      ],
      "execution_count": 28,
      "outputs": [
        {
          "output_type": "display_data",
          "data": {
            "application/vnd.jupyter.widget-view+json": {
              "model_id": "9210df02121d46a4b3eff31b80f6fd3b",
              "version_minor": 0,
              "version_major": 2
            },
            "text/plain": [
              "FileUpload(value={}, description='Upload', layout=Layout(height='40px', width='%10'), style=ButtonStyle(button…"
            ]
          },
          "metadata": {
            "tags": []
          }
        }
      ]
    },
    {
      "cell_type": "code",
      "metadata": {
        "id": "h-QbwU-ndYdF"
      },
      "source": [
        "btn_upload = SimpleNamespace(data = ['/content/gdrive/My Drive/Colab Notebooks/cancer_detection/test1/ISIC_3609081.jpg'])"
      ],
      "execution_count": 29,
      "outputs": []
    },
    {
      "cell_type": "code",
      "metadata": {
        "id": "CkD9cPx0eWYG"
      },
      "source": [
        "img = PILImage.create(btn_upload.data[-1])"
      ],
      "execution_count": 30,
      "outputs": []
    },
    {
      "cell_type": "code",
      "metadata": {
        "colab": {
          "base_uri": "https://localhost:8080/",
          "height": 102,
          "referenced_widgets": [
            "12f15ed27c584bfa83c88ac6ae7c588c",
            "286fa1b271da44ec853bb52b2101bf05"
          ]
        },
        "id": "_hIKRxcYeY86",
        "outputId": "965d73c4-ac75-42d2-e9b1-72134b29c027"
      },
      "source": [
        "out_pl = widgets.Output()\n",
        "out_pl.clear_output()\n",
        "with out_pl: display(img.to_thumb(128,128))\n",
        "out_pl"
      ],
      "execution_count": 31,
      "outputs": [
        {
          "output_type": "display_data",
          "data": {
            "application/vnd.jupyter.widget-view+json": {
              "model_id": "12f15ed27c584bfa83c88ac6ae7c588c",
              "version_minor": 0,
              "version_major": 2
            },
            "text/plain": [
              "Output()"
            ]
          },
          "metadata": {
            "tags": []
          }
        }
      ]
    },
    {
      "cell_type": "code",
      "metadata": {
        "colab": {
          "base_uri": "https://localhost:8080/",
          "height": 17
        },
        "id": "3jdVyLVxhAZ1",
        "outputId": "ec5de6ce-9eee-44d8-b055-fd1a18d35b99"
      },
      "source": [
        "pred,pred_idx,probs = predictor.predict(img)"
      ],
      "execution_count": 32,
      "outputs": [
        {
          "output_type": "display_data",
          "data": {
            "text/html": [
              ""
            ],
            "text/plain": [
              "<IPython.core.display.HTML object>"
            ]
          },
          "metadata": {
            "tags": []
          }
        }
      ]
    },
    {
      "cell_type": "code",
      "metadata": {
        "colab": {
          "base_uri": "https://localhost:8080/",
          "height": 49,
          "referenced_widgets": [
            "5647c7907d5d449ea6e6a8e420a7abef",
            "9dc136763ebb40d09e4b90f48fd8652a",
            "d56aa5b0389b4dccbd6b43f4a087d74f"
          ]
        },
        "id": "8wodPSyShDJ1",
        "outputId": "b876316a-e7a5-46df-a9a5-879044cd86a5"
      },
      "source": [
        "lbl_pred = widgets.Label()\n",
        "lbl_pred.value = f'Prediction: {pred}; Probability: {probs[pred_idx]:.04f}'\n",
        "lbl_pred"
      ],
      "execution_count": 33,
      "outputs": [
        {
          "output_type": "display_data",
          "data": {
            "application/vnd.jupyter.widget-view+json": {
              "model_id": "5647c7907d5d449ea6e6a8e420a7abef",
              "version_minor": 0,
              "version_major": 2
            },
            "text/plain": [
              "Label(value='Prediction: 0; Probability: 0.9893')"
            ]
          },
          "metadata": {
            "tags": []
          }
        }
      ]
    },
    {
      "cell_type": "code",
      "metadata": {
        "colab": {
          "base_uri": "https://localhost:8080/",
          "height": 61,
          "referenced_widgets": [
            "83c379c37d8d4a5298ea39415c27df3c",
            "062222becd6d4f54a9e0bffa4e2be2d8",
            "122a9576ed2b4d08ae8e68ff8a426973"
          ]
        },
        "id": "Gg7HB30YhG3U",
        "outputId": "22b95b86-2298-4df8-e5e5-f4cbc822c1bf"
      },
      "source": [
        "btn_run = widgets.Button(description='Classify', layout=widgets.Layout(width='%10', height='40px'),style= {'button_color': 'lightgreen'})\n",
        "btn_run"
      ],
      "execution_count": 34,
      "outputs": [
        {
          "output_type": "display_data",
          "data": {
            "application/vnd.jupyter.widget-view+json": {
              "model_id": "83c379c37d8d4a5298ea39415c27df3c",
              "version_minor": 0,
              "version_major": 2
            },
            "text/plain": [
              "Button(description='Classify', layout=Layout(height='40px', width='%10'), style=ButtonStyle(button_color='ligh…"
            ]
          },
          "metadata": {
            "tags": []
          }
        }
      ]
    },
    {
      "cell_type": "code",
      "metadata": {
        "id": "UVCz6cR9hG97"
      },
      "source": [
        "def on_click_classify(change):\n",
        "    img = PILImage.create(btn_upload.data[-1])\n",
        "    out_pl.clear_output()\n",
        "    with out_pl: display(img.to_thumb(128,128))\n",
        "    pred,pred_idx,probs = predictor.predict(img)\n",
        "    lbl_pred.value = f'Prediction: {pred}; Probability: {probs[pred_idx]:.04f}'\n",
        "\n",
        "btn_run.on_click(on_click_classify)"
      ],
      "execution_count": 35,
      "outputs": []
    },
    {
      "cell_type": "code",
      "metadata": {
        "id": "rA-FaNu_hHAC"
      },
      "source": [
        "btn_upload = widgets.FileUpload(layout=widgets.Layout(width='%10', height='40px'),\n",
        "    style= {'button_color': 'lightblue'})"
      ],
      "execution_count": 36,
      "outputs": []
    },
    {
      "cell_type": "code",
      "metadata": {
        "colab": {
          "base_uri": "https://localhost:8080/",
          "height": 254,
          "referenced_widgets": [
            "f77910caec7c4d51818466c2e279f2bf",
            "b506ef9311aa4dc58f30da12e8c1b3ee",
            "c51bf5ac4988415f963928d7b11365be",
            "3340d51279c84276aaad0287fefde407",
            "83c379c37d8d4a5298ea39415c27df3c",
            "12f15ed27c584bfa83c88ac6ae7c588c",
            "5647c7907d5d449ea6e6a8e420a7abef",
            "b7198b26d4f343fa969aee9fa59f00e1",
            "7730d7900ad649e89ae404ced7f80f36",
            "37c3949ad00b46aca6d9c92b28b1030c",
            "dafbe763854a4c568b288738493cf0a1",
            "062222becd6d4f54a9e0bffa4e2be2d8",
            "122a9576ed2b4d08ae8e68ff8a426973",
            "9dc136763ebb40d09e4b90f48fd8652a",
            "d56aa5b0389b4dccbd6b43f4a087d74f",
            "286fa1b271da44ec853bb52b2101bf05"
          ]
        },
        "id": "sVqUAdMGiRhx",
        "outputId": "0463195c-1229-47bb-c7b1-15e8ef36298a"
      },
      "source": [
        "VBox([widgets.Label('Select your image'), \n",
        "      btn_upload, btn_run, out_pl, lbl_pred])\n",
        "# model predicted benign (this image is from an unused test set)"
      ],
      "execution_count": 37,
      "outputs": [
        {
          "output_type": "display_data",
          "data": {
            "application/vnd.jupyter.widget-view+json": {
              "model_id": "f77910caec7c4d51818466c2e279f2bf",
              "version_minor": 0,
              "version_major": 2
            },
            "text/plain": [
              "VBox(children=(Label(value='Select your image'), FileUpload(value={}, description='Upload', layout=Layout(heig…"
            ]
          },
          "metadata": {
            "tags": []
          }
        },
        {
          "output_type": "display_data",
          "data": {
            "text/html": [
              ""
            ],
            "text/plain": [
              "<IPython.core.display.HTML object>"
            ]
          },
          "metadata": {
            "tags": []
          }
        },
        {
          "output_type": "display_data",
          "data": {
            "text/html": [
              ""
            ],
            "text/plain": [
              "<IPython.core.display.HTML object>"
            ]
          },
          "metadata": {
            "tags": []
          }
        },
        {
          "output_type": "display_data",
          "data": {
            "text/html": [
              ""
            ],
            "text/plain": [
              "<IPython.core.display.HTML object>"
            ]
          },
          "metadata": {
            "tags": []
          }
        },
        {
          "output_type": "display_data",
          "data": {
            "text/html": [
              ""
            ],
            "text/plain": [
              "<IPython.core.display.HTML object>"
            ]
          },
          "metadata": {
            "tags": []
          }
        }
      ]
    }
  ]
}