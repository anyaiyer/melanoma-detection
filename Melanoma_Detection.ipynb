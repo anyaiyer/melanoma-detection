{
  "nbformat": 4,
  "nbformat_minor": 0,
  "metadata": {
    "colab": {
      "name": "Melanoma Detection.ipynb",
      "provenance": [],
      "collapsed_sections": [],
      "authorship_tag": "ABX9TyNLRHLW9HBYCjJES6eMZEV3",
      "include_colab_link": true
    },
    "kernelspec": {
      "display_name": "Python 3",
      "name": "python3"
    },
    "language_info": {
      "name": "python"
    },
    "widgets": {
      "application/vnd.jupyter.widget-state+json": {
        "7277ef1f98b04ac3ab6c69925e198e36": {
          "model_module": "@jupyter-widgets/controls",
          "model_name": "HBoxModel",
          "state": {
            "_view_name": "HBoxView",
            "_dom_classes": [],
            "_model_name": "HBoxModel",
            "_view_module": "@jupyter-widgets/controls",
            "_model_module_version": "1.5.0",
            "_view_count": null,
            "_view_module_version": "1.5.0",
            "box_style": "",
            "layout": "IPY_MODEL_09e927e243f74338ba2f3642891e2b56",
            "_model_module": "@jupyter-widgets/controls",
            "children": [
              "IPY_MODEL_338bfa0f22074ec590429c50a36e409b",
              "IPY_MODEL_91a56fc0e98d40ab935c9029a853ff28"
            ]
          }
        },
        "09e927e243f74338ba2f3642891e2b56": {
          "model_module": "@jupyter-widgets/base",
          "model_name": "LayoutModel",
          "state": {
            "_view_name": "LayoutView",
            "grid_template_rows": null,
            "right": null,
            "justify_content": null,
            "_view_module": "@jupyter-widgets/base",
            "overflow": null,
            "_model_module_version": "1.2.0",
            "_view_count": null,
            "flex_flow": null,
            "width": null,
            "min_width": null,
            "border": null,
            "align_items": null,
            "bottom": null,
            "_model_module": "@jupyter-widgets/base",
            "top": null,
            "grid_column": null,
            "overflow_y": null,
            "overflow_x": null,
            "grid_auto_flow": null,
            "grid_area": null,
            "grid_template_columns": null,
            "flex": null,
            "_model_name": "LayoutModel",
            "justify_items": null,
            "grid_row": null,
            "max_height": null,
            "align_content": null,
            "visibility": null,
            "align_self": null,
            "height": null,
            "min_height": null,
            "padding": null,
            "grid_auto_rows": null,
            "grid_gap": null,
            "max_width": null,
            "order": null,
            "_view_module_version": "1.2.0",
            "grid_template_areas": null,
            "object_position": null,
            "object_fit": null,
            "grid_auto_columns": null,
            "margin": null,
            "display": null,
            "left": null
          }
        },
        "338bfa0f22074ec590429c50a36e409b": {
          "model_module": "@jupyter-widgets/controls",
          "model_name": "FloatProgressModel",
          "state": {
            "_view_name": "ProgressView",
            "style": "IPY_MODEL_3406d3cefd434fed95af167b8c868f74",
            "_dom_classes": [],
            "description": "100%",
            "_model_name": "FloatProgressModel",
            "bar_style": "success",
            "max": 102530333,
            "_view_module": "@jupyter-widgets/controls",
            "_model_module_version": "1.5.0",
            "value": 102530333,
            "_view_count": null,
            "_view_module_version": "1.5.0",
            "orientation": "horizontal",
            "min": 0,
            "description_tooltip": null,
            "_model_module": "@jupyter-widgets/controls",
            "layout": "IPY_MODEL_b5a89bb3c617439ab610a9155abf9749"
          }
        },
        "91a56fc0e98d40ab935c9029a853ff28": {
          "model_module": "@jupyter-widgets/controls",
          "model_name": "HTMLModel",
          "state": {
            "_view_name": "HTMLView",
            "style": "IPY_MODEL_e17e494d54ed42c5b3c52ec67dc8736a",
            "_dom_classes": [],
            "description": "",
            "_model_name": "HTMLModel",
            "placeholder": "​",
            "_view_module": "@jupyter-widgets/controls",
            "_model_module_version": "1.5.0",
            "value": " 97.8M/97.8M [00:05&lt;00:00, 19.6MB/s]",
            "_view_count": null,
            "_view_module_version": "1.5.0",
            "description_tooltip": null,
            "_model_module": "@jupyter-widgets/controls",
            "layout": "IPY_MODEL_330deda2057e4a728fd2e650bc9bda45"
          }
        },
        "3406d3cefd434fed95af167b8c868f74": {
          "model_module": "@jupyter-widgets/controls",
          "model_name": "ProgressStyleModel",
          "state": {
            "_view_name": "StyleView",
            "_model_name": "ProgressStyleModel",
            "description_width": "initial",
            "_view_module": "@jupyter-widgets/base",
            "_model_module_version": "1.5.0",
            "_view_count": null,
            "_view_module_version": "1.2.0",
            "bar_color": null,
            "_model_module": "@jupyter-widgets/controls"
          }
        },
        "b5a89bb3c617439ab610a9155abf9749": {
          "model_module": "@jupyter-widgets/base",
          "model_name": "LayoutModel",
          "state": {
            "_view_name": "LayoutView",
            "grid_template_rows": null,
            "right": null,
            "justify_content": null,
            "_view_module": "@jupyter-widgets/base",
            "overflow": null,
            "_model_module_version": "1.2.0",
            "_view_count": null,
            "flex_flow": null,
            "width": null,
            "min_width": null,
            "border": null,
            "align_items": null,
            "bottom": null,
            "_model_module": "@jupyter-widgets/base",
            "top": null,
            "grid_column": null,
            "overflow_y": null,
            "overflow_x": null,
            "grid_auto_flow": null,
            "grid_area": null,
            "grid_template_columns": null,
            "flex": null,
            "_model_name": "LayoutModel",
            "justify_items": null,
            "grid_row": null,
            "max_height": null,
            "align_content": null,
            "visibility": null,
            "align_self": null,
            "height": null,
            "min_height": null,
            "padding": null,
            "grid_auto_rows": null,
            "grid_gap": null,
            "max_width": null,
            "order": null,
            "_view_module_version": "1.2.0",
            "grid_template_areas": null,
            "object_position": null,
            "object_fit": null,
            "grid_auto_columns": null,
            "margin": null,
            "display": null,
            "left": null
          }
        },
        "e17e494d54ed42c5b3c52ec67dc8736a": {
          "model_module": "@jupyter-widgets/controls",
          "model_name": "DescriptionStyleModel",
          "state": {
            "_view_name": "StyleView",
            "_model_name": "DescriptionStyleModel",
            "description_width": "",
            "_view_module": "@jupyter-widgets/base",
            "_model_module_version": "1.5.0",
            "_view_count": null,
            "_view_module_version": "1.2.0",
            "_model_module": "@jupyter-widgets/controls"
          }
        },
        "330deda2057e4a728fd2e650bc9bda45": {
          "model_module": "@jupyter-widgets/base",
          "model_name": "LayoutModel",
          "state": {
            "_view_name": "LayoutView",
            "grid_template_rows": null,
            "right": null,
            "justify_content": null,
            "_view_module": "@jupyter-widgets/base",
            "overflow": null,
            "_model_module_version": "1.2.0",
            "_view_count": null,
            "flex_flow": null,
            "width": null,
            "min_width": null,
            "border": null,
            "align_items": null,
            "bottom": null,
            "_model_module": "@jupyter-widgets/base",
            "top": null,
            "grid_column": null,
            "overflow_y": null,
            "overflow_x": null,
            "grid_auto_flow": null,
            "grid_area": null,
            "grid_template_columns": null,
            "flex": null,
            "_model_name": "LayoutModel",
            "justify_items": null,
            "grid_row": null,
            "max_height": null,
            "align_content": null,
            "visibility": null,
            "align_self": null,
            "height": null,
            "min_height": null,
            "padding": null,
            "grid_auto_rows": null,
            "grid_gap": null,
            "max_width": null,
            "order": null,
            "_view_module_version": "1.2.0",
            "grid_template_areas": null,
            "object_position": null,
            "object_fit": null,
            "grid_auto_columns": null,
            "margin": null,
            "display": null,
            "left": null
          }
        },
        "a79dc48414154a30ad065bab82b70fc0": {
          "model_module": "@jupyter-widgets/controls",
          "model_name": "FileUploadModel",
          "state": {
            "_view_name": "FileUploadView",
            "_counter": 0,
            "style": "IPY_MODEL_b577238f75564dcdb8a06618252f2530",
            "_dom_classes": [],
            "description": "Upload",
            "multiple": false,
            "_model_name": "FileUploadModel",
            "data": [],
            "button_style": "",
            "_view_module": "@jupyter-widgets/controls",
            "_model_module_version": "1.5.0",
            "accept": "",
            "_view_count": null,
            "disabled": false,
            "_view_module_version": "1.5.0",
            "error": "",
            "description_tooltip": null,
            "metadata": [],
            "_model_module": "@jupyter-widgets/controls",
            "layout": "IPY_MODEL_a1d926ad2c664e98876cdc69ebfb232c",
            "icon": "upload"
          }
        },
        "b577238f75564dcdb8a06618252f2530": {
          "model_module": "@jupyter-widgets/controls",
          "model_name": "ButtonStyleModel",
          "state": {
            "_view_name": "StyleView",
            "_model_name": "ButtonStyleModel",
            "_view_module": "@jupyter-widgets/base",
            "_model_module_version": "1.5.0",
            "_view_count": null,
            "button_color": "lightblue",
            "font_weight": "",
            "_view_module_version": "1.2.0",
            "_model_module": "@jupyter-widgets/controls"
          }
        },
        "a1d926ad2c664e98876cdc69ebfb232c": {
          "model_module": "@jupyter-widgets/base",
          "model_name": "LayoutModel",
          "state": {
            "_view_name": "LayoutView",
            "grid_template_rows": null,
            "right": null,
            "justify_content": null,
            "_view_module": "@jupyter-widgets/base",
            "overflow": null,
            "_model_module_version": "1.2.0",
            "_view_count": null,
            "flex_flow": null,
            "width": "%10",
            "min_width": null,
            "border": null,
            "align_items": null,
            "bottom": null,
            "_model_module": "@jupyter-widgets/base",
            "top": null,
            "grid_column": null,
            "overflow_y": null,
            "overflow_x": null,
            "grid_auto_flow": null,
            "grid_area": null,
            "grid_template_columns": null,
            "flex": null,
            "_model_name": "LayoutModel",
            "justify_items": null,
            "grid_row": null,
            "max_height": null,
            "align_content": null,
            "visibility": null,
            "align_self": null,
            "height": "40px",
            "min_height": null,
            "padding": null,
            "grid_auto_rows": null,
            "grid_gap": null,
            "max_width": null,
            "order": null,
            "_view_module_version": "1.2.0",
            "grid_template_areas": null,
            "object_position": null,
            "object_fit": null,
            "grid_auto_columns": null,
            "margin": null,
            "display": null,
            "left": null
          }
        },
        "7a97dcd9d7f1477589114c7d1fc445a3": {
          "model_module": "@jupyter-widgets/output",
          "model_name": "OutputModel",
          "state": {
            "_view_name": "OutputView",
            "msg_id": "",
            "_dom_classes": [],
            "_model_name": "OutputModel",
            "outputs": [
              {
                "output_type": "display_data",
                "metadata": {
                  "tags": []
                },
                "image/png": "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\n",
                "text/plain": "<PIL.Image.Image image mode=RGB size=128x85 at 0x7F23F1E21C90>"
              }
            ],
            "_view_module": "@jupyter-widgets/output",
            "_model_module_version": "1.0.0",
            "_view_count": null,
            "_view_module_version": "1.0.0",
            "layout": "IPY_MODEL_c9d22a5c404046cd9249ff687d818f32",
            "_model_module": "@jupyter-widgets/output"
          }
        },
        "c9d22a5c404046cd9249ff687d818f32": {
          "model_module": "@jupyter-widgets/base",
          "model_name": "LayoutModel",
          "state": {
            "_view_name": "LayoutView",
            "grid_template_rows": null,
            "right": null,
            "justify_content": null,
            "_view_module": "@jupyter-widgets/base",
            "overflow": null,
            "_model_module_version": "1.2.0",
            "_view_count": null,
            "flex_flow": null,
            "width": null,
            "min_width": null,
            "border": null,
            "align_items": null,
            "bottom": null,
            "_model_module": "@jupyter-widgets/base",
            "top": null,
            "grid_column": null,
            "overflow_y": null,
            "overflow_x": null,
            "grid_auto_flow": null,
            "grid_area": null,
            "grid_template_columns": null,
            "flex": null,
            "_model_name": "LayoutModel",
            "justify_items": null,
            "grid_row": null,
            "max_height": null,
            "align_content": null,
            "visibility": null,
            "align_self": null,
            "height": null,
            "min_height": null,
            "padding": null,
            "grid_auto_rows": null,
            "grid_gap": null,
            "max_width": null,
            "order": null,
            "_view_module_version": "1.2.0",
            "grid_template_areas": null,
            "object_position": null,
            "object_fit": null,
            "grid_auto_columns": null,
            "margin": null,
            "display": null,
            "left": null
          }
        },
        "ffa323c2f7e54b269f883d5a97f9bbc4": {
          "model_module": "@jupyter-widgets/controls",
          "model_name": "LabelModel",
          "state": {
            "_view_name": "LabelView",
            "style": "IPY_MODEL_85b2a1e294dc4630aad097e849fffef9",
            "_dom_classes": [],
            "description": "",
            "_model_name": "LabelModel",
            "placeholder": "​",
            "_view_module": "@jupyter-widgets/controls",
            "_model_module_version": "1.5.0",
            "value": "Prediction: 0; Probability: 0.9893",
            "_view_count": null,
            "_view_module_version": "1.5.0",
            "description_tooltip": null,
            "_model_module": "@jupyter-widgets/controls",
            "layout": "IPY_MODEL_a8d9b5aff2bc4178bf1a27e29398cfb2"
          }
        },
        "85b2a1e294dc4630aad097e849fffef9": {
          "model_module": "@jupyter-widgets/controls",
          "model_name": "DescriptionStyleModel",
          "state": {
            "_view_name": "StyleView",
            "_model_name": "DescriptionStyleModel",
            "description_width": "",
            "_view_module": "@jupyter-widgets/base",
            "_model_module_version": "1.5.0",
            "_view_count": null,
            "_view_module_version": "1.2.0",
            "_model_module": "@jupyter-widgets/controls"
          }
        },
        "a8d9b5aff2bc4178bf1a27e29398cfb2": {
          "model_module": "@jupyter-widgets/base",
          "model_name": "LayoutModel",
          "state": {
            "_view_name": "LayoutView",
            "grid_template_rows": null,
            "right": null,
            "justify_content": null,
            "_view_module": "@jupyter-widgets/base",
            "overflow": null,
            "_model_module_version": "1.2.0",
            "_view_count": null,
            "flex_flow": null,
            "width": null,
            "min_width": null,
            "border": null,
            "align_items": null,
            "bottom": null,
            "_model_module": "@jupyter-widgets/base",
            "top": null,
            "grid_column": null,
            "overflow_y": null,
            "overflow_x": null,
            "grid_auto_flow": null,
            "grid_area": null,
            "grid_template_columns": null,
            "flex": null,
            "_model_name": "LayoutModel",
            "justify_items": null,
            "grid_row": null,
            "max_height": null,
            "align_content": null,
            "visibility": null,
            "align_self": null,
            "height": null,
            "min_height": null,
            "padding": null,
            "grid_auto_rows": null,
            "grid_gap": null,
            "max_width": null,
            "order": null,
            "_view_module_version": "1.2.0",
            "grid_template_areas": null,
            "object_position": null,
            "object_fit": null,
            "grid_auto_columns": null,
            "margin": null,
            "display": null,
            "left": null
          }
        },
        "93d58677fd9043d98a9a7df5f29402de": {
          "model_module": "@jupyter-widgets/controls",
          "model_name": "ButtonModel",
          "state": {
            "_view_name": "ButtonView",
            "style": "IPY_MODEL_6ef5084d2c4746f2a69619492df6cad5",
            "_dom_classes": [],
            "description": "Classify",
            "_model_name": "ButtonModel",
            "button_style": "",
            "_view_module": "@jupyter-widgets/controls",
            "_model_module_version": "1.5.0",
            "tooltip": "",
            "_view_count": null,
            "disabled": false,
            "_view_module_version": "1.5.0",
            "layout": "IPY_MODEL_316ca1084a014f60b06feb9dbe8e659d",
            "_model_module": "@jupyter-widgets/controls",
            "icon": ""
          }
        },
        "6ef5084d2c4746f2a69619492df6cad5": {
          "model_module": "@jupyter-widgets/controls",
          "model_name": "ButtonStyleModel",
          "state": {
            "_view_name": "StyleView",
            "_model_name": "ButtonStyleModel",
            "_view_module": "@jupyter-widgets/base",
            "_model_module_version": "1.5.0",
            "_view_count": null,
            "button_color": "lightgreen",
            "font_weight": "",
            "_view_module_version": "1.2.0",
            "_model_module": "@jupyter-widgets/controls"
          }
        },
        "316ca1084a014f60b06feb9dbe8e659d": {
          "model_module": "@jupyter-widgets/base",
          "model_name": "LayoutModel",
          "state": {
            "_view_name": "LayoutView",
            "grid_template_rows": null,
            "right": null,
            "justify_content": null,
            "_view_module": "@jupyter-widgets/base",
            "overflow": null,
            "_model_module_version": "1.2.0",
            "_view_count": null,
            "flex_flow": null,
            "width": "%10",
            "min_width": null,
            "border": null,
            "align_items": null,
            "bottom": null,
            "_model_module": "@jupyter-widgets/base",
            "top": null,
            "grid_column": null,
            "overflow_y": null,
            "overflow_x": null,
            "grid_auto_flow": null,
            "grid_area": null,
            "grid_template_columns": null,
            "flex": null,
            "_model_name": "LayoutModel",
            "justify_items": null,
            "grid_row": null,
            "max_height": null,
            "align_content": null,
            "visibility": null,
            "align_self": null,
            "height": "40px",
            "min_height": null,
            "padding": null,
            "grid_auto_rows": null,
            "grid_gap": null,
            "max_width": null,
            "order": null,
            "_view_module_version": "1.2.0",
            "grid_template_areas": null,
            "object_position": null,
            "object_fit": null,
            "grid_auto_columns": null,
            "margin": null,
            "display": null,
            "left": null
          }
        },
        "16026c2377674839ad40776052a22052": {
          "model_module": "@jupyter-widgets/controls",
          "model_name": "VBoxModel",
          "state": {
            "_view_name": "VBoxView",
            "_dom_classes": [],
            "_model_name": "VBoxModel",
            "_view_module": "@jupyter-widgets/controls",
            "_model_module_version": "1.5.0",
            "_view_count": null,
            "_view_module_version": "1.5.0",
            "box_style": "",
            "layout": "IPY_MODEL_24469dc5bd2447af8ae7aabeef804aae",
            "_model_module": "@jupyter-widgets/controls",
            "children": [
              "IPY_MODEL_0e0999e90dd84019902056c3e04529be",
              "IPY_MODEL_f09bd888ca97483ba1e2522fdd3de65f",
              "IPY_MODEL_93d58677fd9043d98a9a7df5f29402de",
              "IPY_MODEL_7a97dcd9d7f1477589114c7d1fc445a3",
              "IPY_MODEL_ffa323c2f7e54b269f883d5a97f9bbc4"
            ]
          }
        },
        "24469dc5bd2447af8ae7aabeef804aae": {
          "model_module": "@jupyter-widgets/base",
          "model_name": "LayoutModel",
          "state": {
            "_view_name": "LayoutView",
            "grid_template_rows": null,
            "right": null,
            "justify_content": null,
            "_view_module": "@jupyter-widgets/base",
            "overflow": null,
            "_model_module_version": "1.2.0",
            "_view_count": null,
            "flex_flow": null,
            "width": null,
            "min_width": null,
            "border": null,
            "align_items": null,
            "bottom": null,
            "_model_module": "@jupyter-widgets/base",
            "top": null,
            "grid_column": null,
            "overflow_y": null,
            "overflow_x": null,
            "grid_auto_flow": null,
            "grid_area": null,
            "grid_template_columns": null,
            "flex": null,
            "_model_name": "LayoutModel",
            "justify_items": null,
            "grid_row": null,
            "max_height": null,
            "align_content": null,
            "visibility": null,
            "align_self": null,
            "height": null,
            "min_height": null,
            "padding": null,
            "grid_auto_rows": null,
            "grid_gap": null,
            "max_width": null,
            "order": null,
            "_view_module_version": "1.2.0",
            "grid_template_areas": null,
            "object_position": null,
            "object_fit": null,
            "grid_auto_columns": null,
            "margin": null,
            "display": null,
            "left": null
          }
        },
        "0e0999e90dd84019902056c3e04529be": {
          "model_module": "@jupyter-widgets/controls",
          "model_name": "LabelModel",
          "state": {
            "_view_name": "LabelView",
            "style": "IPY_MODEL_2ae0039b41ab44a7a8b8ad1fe552add9",
            "_dom_classes": [],
            "description": "",
            "_model_name": "LabelModel",
            "placeholder": "​",
            "_view_module": "@jupyter-widgets/controls",
            "_model_module_version": "1.5.0",
            "value": "Select your image",
            "_view_count": null,
            "_view_module_version": "1.5.0",
            "description_tooltip": null,
            "_model_module": "@jupyter-widgets/controls",
            "layout": "IPY_MODEL_73a97b34d4c84b4ab17af614c2dbe907"
          }
        },
        "f09bd888ca97483ba1e2522fdd3de65f": {
          "model_module": "@jupyter-widgets/controls",
          "model_name": "FileUploadModel",
          "state": {
            "_view_name": "FileUploadView",
            "_counter": 0,
            "style": "IPY_MODEL_c34e8642fea0485f91ba0a08928254e1",
            "_dom_classes": [],
            "description": "Upload",
            "multiple": false,
            "_model_name": "FileUploadModel",
            "data": [],
            "button_style": "",
            "_view_module": "@jupyter-widgets/controls",
            "_model_module_version": "1.5.0",
            "accept": "",
            "_view_count": null,
            "disabled": false,
            "_view_module_version": "1.5.0",
            "error": "",
            "description_tooltip": null,
            "metadata": [],
            "_model_module": "@jupyter-widgets/controls",
            "layout": "IPY_MODEL_63d7e3a952704ef096575cad597509af",
            "icon": "upload"
          }
        },
        "2ae0039b41ab44a7a8b8ad1fe552add9": {
          "model_module": "@jupyter-widgets/controls",
          "model_name": "DescriptionStyleModel",
          "state": {
            "_view_name": "StyleView",
            "_model_name": "DescriptionStyleModel",
            "description_width": "",
            "_view_module": "@jupyter-widgets/base",
            "_model_module_version": "1.5.0",
            "_view_count": null,
            "_view_module_version": "1.2.0",
            "_model_module": "@jupyter-widgets/controls"
          }
        },
        "73a97b34d4c84b4ab17af614c2dbe907": {
          "model_module": "@jupyter-widgets/base",
          "model_name": "LayoutModel",
          "state": {
            "_view_name": "LayoutView",
            "grid_template_rows": null,
            "right": null,
            "justify_content": null,
            "_view_module": "@jupyter-widgets/base",
            "overflow": null,
            "_model_module_version": "1.2.0",
            "_view_count": null,
            "flex_flow": null,
            "width": null,
            "min_width": null,
            "border": null,
            "align_items": null,
            "bottom": null,
            "_model_module": "@jupyter-widgets/base",
            "top": null,
            "grid_column": null,
            "overflow_y": null,
            "overflow_x": null,
            "grid_auto_flow": null,
            "grid_area": null,
            "grid_template_columns": null,
            "flex": null,
            "_model_name": "LayoutModel",
            "justify_items": null,
            "grid_row": null,
            "max_height": null,
            "align_content": null,
            "visibility": null,
            "align_self": null,
            "height": null,
            "min_height": null,
            "padding": null,
            "grid_auto_rows": null,
            "grid_gap": null,
            "max_width": null,
            "order": null,
            "_view_module_version": "1.2.0",
            "grid_template_areas": null,
            "object_position": null,
            "object_fit": null,
            "grid_auto_columns": null,
            "margin": null,
            "display": null,
            "left": null
          }
        },
        "c34e8642fea0485f91ba0a08928254e1": {
          "model_module": "@jupyter-widgets/controls",
          "model_name": "ButtonStyleModel",
          "state": {
            "_view_name": "StyleView",
            "_model_name": "ButtonStyleModel",
            "_view_module": "@jupyter-widgets/base",
            "_model_module_version": "1.5.0",
            "_view_count": null,
            "button_color": "lightblue",
            "font_weight": "",
            "_view_module_version": "1.2.0",
            "_model_module": "@jupyter-widgets/controls"
          }
        },
        "63d7e3a952704ef096575cad597509af": {
          "model_module": "@jupyter-widgets/base",
          "model_name": "LayoutModel",
          "state": {
            "_view_name": "LayoutView",
            "grid_template_rows": null,
            "right": null,
            "justify_content": null,
            "_view_module": "@jupyter-widgets/base",
            "overflow": null,
            "_model_module_version": "1.2.0",
            "_view_count": null,
            "flex_flow": null,
            "width": "%10",
            "min_width": null,
            "border": null,
            "align_items": null,
            "bottom": null,
            "_model_module": "@jupyter-widgets/base",
            "top": null,
            "grid_column": null,
            "overflow_y": null,
            "overflow_x": null,
            "grid_auto_flow": null,
            "grid_area": null,
            "grid_template_columns": null,
            "flex": null,
            "_model_name": "LayoutModel",
            "justify_items": null,
            "grid_row": null,
            "max_height": null,
            "align_content": null,
            "visibility": null,
            "align_self": null,
            "height": "40px",
            "min_height": null,
            "padding": null,
            "grid_auto_rows": null,
            "grid_gap": null,
            "max_width": null,
            "order": null,
            "_view_module_version": "1.2.0",
            "grid_template_areas": null,
            "object_position": null,
            "object_fit": null,
            "grid_auto_columns": null,
            "margin": null,
            "display": null,
            "left": null
          }
        }
      }
    }
  },
  "cells": [
    {
      "cell_type": "markdown",
      "metadata": {
        "id": "view-in-github",
        "colab_type": "text"
      },
      "source": [
        "<a href=\"https://colab.research.google.com/github/anyaiyer/melanoma-detection/blob/main/Melanoma_Detection.ipynb\" target=\"_parent\"><img src=\"https://colab.research.google.com/assets/colab-badge.svg\" alt=\"Open In Colab\"/></a>"
      ]
    },
    {
      "cell_type": "markdown",
      "metadata": {
        "id": "_Bao3qUykx45"
      },
      "source": [
        "## Imports"
      ]
    },
    {
      "cell_type": "markdown",
      "metadata": {
        "id": "yOfo9da5sZqA"
      },
      "source": [
        "[Fastai](https://www.fast.ai/) was used in creating this melanoma detection model.\n",
        "Fastai is a deep learning libary that provides efficient ways to create neural networks and perform other machine learning tasks. \n",
        "You can read the fastai book [here](https://github.com/fastai/fastbook) (on Github), where you can explore this open source library."
      ]
    },
    {
      "cell_type": "code",
      "metadata": {
        "id": "GVkS_Bdn8BHB",
        "colab": {
          "base_uri": "https://localhost:8080/"
        },
        "outputId": "558e6cbd-b6e4-49b6-d974-3ecfe8bb501f"
      },
      "source": [
        "!pip install -Uqq fastbook\n",
        "import fastbook\n",
        "fastbook.setup_book()"
      ],
      "execution_count": null,
      "outputs": [
        {
          "output_type": "stream",
          "text": [
            "\u001b[K     |████████████████████████████████| 727kB 5.2MB/s \n",
            "\u001b[K     |████████████████████████████████| 51kB 6.1MB/s \n",
            "\u001b[K     |████████████████████████████████| 194kB 11.2MB/s \n",
            "\u001b[K     |████████████████████████████████| 1.2MB 19.8MB/s \n",
            "\u001b[K     |████████████████████████████████| 61kB 8.0MB/s \n",
            "\u001b[K     |████████████████████████████████| 61kB 6.8MB/s \n",
            "\u001b[?25hMounted at /content/gdrive\n"
          ],
          "name": "stdout"
        }
      ]
    },
    {
      "cell_type": "code",
      "metadata": {
        "id": "-g4bAwGq8BJi"
      },
      "source": [
        "from fastai.vision.all import *\n",
        "from fastbook import *\n",
        "\n",
        "matplotlib.rc('image', cmap='Greys')"
      ],
      "execution_count": null,
      "outputs": []
    },
    {
      "cell_type": "code",
      "metadata": {
        "id": "QET13bZkSk4d"
      },
      "source": [
        "import warnings\n",
        "warnings.filterwarnings(\"ignore\", category=UserWarning, module=\"torch.nn.functional\")"
      ],
      "execution_count": null,
      "outputs": []
    },
    {
      "cell_type": "code",
      "metadata": {
        "id": "3LRFTMz_Se_G"
      },
      "source": [
        "from fastai import *"
      ],
      "execution_count": null,
      "outputs": []
    },
    {
      "cell_type": "code",
      "metadata": {
        "colab": {
          "base_uri": "https://localhost:8080/"
        },
        "id": "O_ongYIg8BL4",
        "outputId": "860a57a9-11a0-4fe9-ddc8-da79a55e312f"
      },
      "source": [
        "from google.colab import drive\n",
        "drive.mount('/content/gdrive')"
      ],
      "execution_count": null,
      "outputs": [
        {
          "output_type": "stream",
          "text": [
            "Drive already mounted at /content/gdrive; to attempt to forcibly remount, call drive.mount(\"/content/gdrive\", force_remount=True).\n"
          ],
          "name": "stdout"
        }
      ]
    },
    {
      "cell_type": "code",
      "metadata": {
        "id": "I2DIDsaT8BOY"
      },
      "source": [
        "root_dir = \"/content/gdrive/My Drive/Colab Notebooks/cancer_detection/\""
      ],
      "execution_count": null,
      "outputs": []
    },
    {
      "cell_type": "code",
      "metadata": {
        "id": "esbYy6ft8BQs"
      },
      "source": [
        "import pandas as pd"
      ],
      "execution_count": null,
      "outputs": []
    },
    {
      "cell_type": "code",
      "metadata": {
        "colab": {
          "base_uri": "https://localhost:8080/",
          "height": 204
        },
        "id": "AlA71TYK8Kne",
        "outputId": "41a19b4f-e90b-4333-a988-499747d0e795"
      },
      "source": [
        "label_info = pd.read_csv(f\"{root_dir}/train.csv\")\n",
        "label_info.head()"
      ],
      "execution_count": null,
      "outputs": [
        {
          "output_type": "execute_result",
          "data": {
            "text/html": [
              "<div>\n",
              "<style scoped>\n",
              "    .dataframe tbody tr th:only-of-type {\n",
              "        vertical-align: middle;\n",
              "    }\n",
              "\n",
              "    .dataframe tbody tr th {\n",
              "        vertical-align: top;\n",
              "    }\n",
              "\n",
              "    .dataframe thead th {\n",
              "        text-align: right;\n",
              "    }\n",
              "</style>\n",
              "<table border=\"1\" class=\"dataframe\">\n",
              "  <thead>\n",
              "    <tr style=\"text-align: right;\">\n",
              "      <th></th>\n",
              "      <th>image_name</th>\n",
              "      <th>patient_id</th>\n",
              "      <th>sex</th>\n",
              "      <th>age_approx</th>\n",
              "      <th>anatom_site_general_challenge</th>\n",
              "      <th>diagnosis</th>\n",
              "      <th>benign_malignant</th>\n",
              "      <th>target</th>\n",
              "    </tr>\n",
              "  </thead>\n",
              "  <tbody>\n",
              "    <tr>\n",
              "      <th>0</th>\n",
              "      <td>ISIC_2637011</td>\n",
              "      <td>IP_7279968</td>\n",
              "      <td>male</td>\n",
              "      <td>45.0</td>\n",
              "      <td>head/neck</td>\n",
              "      <td>unknown</td>\n",
              "      <td>benign</td>\n",
              "      <td>0</td>\n",
              "    </tr>\n",
              "    <tr>\n",
              "      <th>1</th>\n",
              "      <td>ISIC_0015719</td>\n",
              "      <td>IP_3075186</td>\n",
              "      <td>female</td>\n",
              "      <td>45.0</td>\n",
              "      <td>upper extremity</td>\n",
              "      <td>unknown</td>\n",
              "      <td>benign</td>\n",
              "      <td>0</td>\n",
              "    </tr>\n",
              "    <tr>\n",
              "      <th>2</th>\n",
              "      <td>ISIC_0052212</td>\n",
              "      <td>IP_2842074</td>\n",
              "      <td>female</td>\n",
              "      <td>50.0</td>\n",
              "      <td>lower extremity</td>\n",
              "      <td>nevus</td>\n",
              "      <td>benign</td>\n",
              "      <td>0</td>\n",
              "    </tr>\n",
              "    <tr>\n",
              "      <th>3</th>\n",
              "      <td>ISIC_0068279</td>\n",
              "      <td>IP_6890425</td>\n",
              "      <td>female</td>\n",
              "      <td>45.0</td>\n",
              "      <td>head/neck</td>\n",
              "      <td>unknown</td>\n",
              "      <td>benign</td>\n",
              "      <td>0</td>\n",
              "    </tr>\n",
              "    <tr>\n",
              "      <th>4</th>\n",
              "      <td>ISIC_0074268</td>\n",
              "      <td>IP_8723313</td>\n",
              "      <td>female</td>\n",
              "      <td>55.0</td>\n",
              "      <td>upper extremity</td>\n",
              "      <td>unknown</td>\n",
              "      <td>benign</td>\n",
              "      <td>0</td>\n",
              "    </tr>\n",
              "  </tbody>\n",
              "</table>\n",
              "</div>"
            ],
            "text/plain": [
              "     image_name  patient_id     sex  age_approx anatom_site_general_challenge  \\\n",
              "0  ISIC_2637011  IP_7279968    male        45.0                     head/neck   \n",
              "1  ISIC_0015719  IP_3075186  female        45.0               upper extremity   \n",
              "2  ISIC_0052212  IP_2842074  female        50.0               lower extremity   \n",
              "3  ISIC_0068279  IP_6890425  female        45.0                     head/neck   \n",
              "4  ISIC_0074268  IP_8723313  female        55.0               upper extremity   \n",
              "\n",
              "  diagnosis benign_malignant  target  \n",
              "0   unknown           benign       0  \n",
              "1   unknown           benign       0  \n",
              "2     nevus           benign       0  \n",
              "3   unknown           benign       0  \n",
              "4   unknown           benign       0  "
            ]
          },
          "metadata": {
            "tags": []
          },
          "execution_count": 9
        }
      ]
    },
    {
      "cell_type": "code",
      "metadata": {
        "colab": {
          "base_uri": "https://localhost:8080/"
        },
        "id": "uSmckuBjnzmB",
        "outputId": "8f97215b-2727-413b-c319-ef7433212e56"
      },
      "source": [
        "label_info['target'].value_counts() # dataset is very unbalanced"
      ],
      "execution_count": null,
      "outputs": [
        {
          "output_type": "execute_result",
          "data": {
            "text/plain": [
              "0    32542\n",
              "1      584\n",
              "Name: target, dtype: int64"
            ]
          },
          "metadata": {
            "tags": []
          },
          "execution_count": 10
        }
      ]
    },
    {
      "cell_type": "markdown",
      "metadata": {
        "id": "0JlGWkmzk4sn"
      },
      "source": [
        "## Data Preprocessing"
      ]
    },
    {
      "cell_type": "code",
      "metadata": {
        "id": "yz1B5hrL8L6t"
      },
      "source": [
        "def label_func(fname): # function grabs the label from the image name\n",
        "    label =  label_info.loc[label_info['image_name'] == fname.name[:-4]]['target'].item()\n",
        "    return label"
      ],
      "execution_count": null,
      "outputs": []
    },
    {
      "cell_type": "markdown",
      "metadata": {
        "id": "-aIs89oRdj2p"
      },
      "source": [
        "The DataBlock API is used to create the DataLoaders class. The DataLoaders class stores DataLoaders objects and is used to create a training and validation set. \n",
        "\n",
        "In the DataBlock, we can specify the independent variable (ImageBlock or the images used for classifcation) and the dependent variable (Category Block or the labels). \n",
        "- get_items gets the independent variable, in this case the image files\n",
        "- get_y gets the labels (taken from the label_func  function we wrote above)\n",
        "- splitter: splits the data into a training and validation set\n",
        "- we can do data augmentation with the aug_transforms method where we can specify certain actions that will be performed to the image\n",
        "\n",
        "What is data augmentation? \n",
        "\n",
        "Data augmentation is a way to prevent overfitting and can also expand the dataset by performing different actions to the image. Some actions include rotating the image, zooming in/out, changing the lighting, warping the image, and performing vertical flips. "
      ]
    },
    {
      "cell_type": "code",
      "metadata": {
        "id": "l7oCiBWT8Rdx"
      },
      "source": [
        "dblock = DataBlock(blocks    = (ImageBlock, CategoryBlock), # independent & dependent variables\n",
        "                   get_items = get_image_files, # gets the images\n",
        "                   get_y     = label_func, # gets the labels\n",
        "                   splitter  = RandomSplitter(valid_pct=0.1,seed=42), # 20% used for the validation set\n",
        "                   batch_tfms=aug_transforms(mult=1.0, # data augmentation\n",
        "                                             do_flip=True, \n",
        "                                             flip_vert=True,\n",
        "                                             max_rotate=10.0,\n",
        "                                             min_zoom=1.0,\n",
        "                                             max_zoom=1.1,\n",
        "                                             max_lighting=0.2, \n",
        "                                             max_warp=0.0,\n",
        "                                             p_affine=0.0,\n",
        "                                             p_lighting=0.0,\n",
        "                                             xtra_tfms=None,\n",
        "                                             size=None, \n",
        "                                             mode='bilinear',\n",
        "                                             pad_mode='reflection',\n",
        "                                             align_corners=True,\n",
        "                                             batch=False, min_scale=1.0), \n",
        "                   item_tfms = Resize(224)) # resizing the image"
      ],
      "execution_count": null,
      "outputs": []
    },
    {
      "cell_type": "code",
      "metadata": {
        "id": "R8QGYDuKj2ld"
      },
      "source": [
        "path = Path(\"/content/gdrive/My Drive/Colab Notebooks/cancer_detection/train6\") # file spath for the image"
      ],
      "execution_count": null,
      "outputs": []
    },
    {
      "cell_type": "markdown",
      "metadata": {
        "id": "PLnpm3Gmf7Oo"
      },
      "source": [
        "Tell fastai where the data is and where the images can be found."
      ]
    },
    {
      "cell_type": "code",
      "metadata": {
        "id": "0SF-Y16g8c0q"
      },
      "source": [
        "dls = dblock.dataloaders(path)  \n",
        "dls.bs = 32 # batch size"
      ],
      "execution_count": null,
      "outputs": []
    },
    {
      "cell_type": "code",
      "metadata": {
        "id": "CZa2I3PAV2WG",
        "colab": {
          "base_uri": "https://localhost:8080/"
        },
        "outputId": "65105b19-df4b-420e-f980-017509d74741"
      },
      "source": [
        "malig = 0\n",
        "beg = 0\n",
        "for fname in os.listdir(f\"{root_dir}/train6\"): # tells us how many malginant/benign images are in our file\n",
        "  label =  label_info.loc[label_info['image_name'] == fname[:-4]]['target'].item()\n",
        "  if label == 1: \n",
        "    malig = malig + 1\n",
        "  else:\n",
        "    beg =  beg + 1\n",
        "  \n",
        "print(f\"malig = {malig} beg = {beg}\")"
      ],
      "execution_count": null,
      "outputs": [
        {
          "output_type": "stream",
          "text": [
            "malig = 533 beg = 648\n"
          ],
          "name": "stdout"
        }
      ]
    },
    {
      "cell_type": "code",
      "metadata": {
        "colab": {
          "base_uri": "https://localhost:8080/",
          "height": 373
        },
        "id": "wa8-6azS8UPM",
        "outputId": "aa63da81-83a6-4473-aaaa-62f2bc68b748"
      },
      "source": [
        "dls.show_batch(nrows=2, ncols=3) # data looks good "
      ],
      "execution_count": null,
      "outputs": [
        {
          "output_type": "display_data",
          "data": {
            "image/png": "[encoded data removed]",
            "text/plain": [
              "<Figure size 648x432 with 6 Axes>"
            ]
          },
          "metadata": {
            "tags": [],
            "needs_background": "light"
          }
        }
      ]
    },
    {
      "cell_type": "code",
      "metadata": {
        "colab": {
          "base_uri": "https://localhost:8080/"
        },
        "id": "UyHEolerlfGP",
        "outputId": "8abec8b5-bb4d-44f8-cc9a-10e177364db5"
      },
      "source": [
        "len(dls.train_ds.splits[0]),len(dls.train_ds.splits[1]) # training and val split \n",
        "# 1063 images in training set, 118 images in val set"
      ],
      "execution_count": 21,
      "outputs": [
        {
          "output_type": "execute_result",
          "data": {
            "text/plain": [
              "(1063, 118)"
            ]
          },
          "metadata": {
            "tags": []
          },
          "execution_count": 21
        }
      ]
    },
    {
      "cell_type": "code",
      "metadata": {
        "colab": {
          "base_uri": "https://localhost:8080/"
        },
        "id": "9DoaAQ5L35FH",
        "outputId": "76b59b9e-e3de-49fd-d669-f1ca7228d234"
      },
      "source": [
        "dls.c # 2 classes "
      ],
      "execution_count": 22,
      "outputs": [
        {
          "output_type": "execute_result",
          "data": {
            "text/plain": [
              "2"
            ]
          },
          "metadata": {
            "tags": []
          },
          "execution_count": 22
        }
      ]
    },
    {
      "cell_type": "markdown",
      "metadata": {
        "id": "XdK06PQCk_hR"
      },
      "source": [
        "## Building/Training the Model"
      ]
    },
    {
      "cell_type": "markdown",
      "metadata": {
        "id": "8P-b0XAhgtZ4"
      },
      "source": [
        "We now have all the data in our Dataloaders class. The data is also preprocessed and augmentated. We can build our fastai learner.\n",
        "\n",
        "ResNet50 is the model architecture. [ResNet (residual neural network)](https://towardsdatascience.com/an-overview-of-resnet-and-its-variants-5281e2f56035) is a network architecture developed from the ImageNet dataset. ResNet utilizes skip connections which skip layers in the network and feeds that layer's output as input to the next layer. ResNets use skips that contain nonlinearities (like ReLU) as well as batch normalization. Batch normalization is a way to rescale layer inputs and can also reduce overfitting/generalization error. Overall, ResNets are great CNN architectures to use.\n",
        "\n",
        "With fastai, we are using transfer learning. Transfer learning is the reuse of a pre-trained model on a new problem. We are not creating a ResNet model from scratch, and instead are using the pre-trained version. (ResNet is trained on the [ImageNet](https://en.wikipedia.org/wiki/ImageNet) database).\n",
        "\n",
        "ResNet50 refers to 50 layers being used in the network. There is also ResNet18, ResNet34, ResNet101, ResNet110, and more. "
      ]
    },
    {
      "cell_type": "code",
      "metadata": {
        "id": "mxh6mP6Ik9Ey"
      },
      "source": [
        "def accuracy(inp, targ, axis=-1): # accuracy function from fastai\n",
        "    \"Compute accuracy with `targ` when `pred` is bs * n_classes\"\n",
        "    pred = inp.argmax(dim=axis)\n",
        "    return (pred == targ).float().mean()"
      ],
      "execution_count": 23,
      "outputs": []
    },
    {
      "cell_type": "markdown",
      "metadata": {
        "id": "HP6eYJGHvfZV"
      },
      "source": [
        "When building the cnn_learner, we specify the following:\n",
        "- what metrics we want to use\n",
        "- our data in the DataLoaders class (dls)\n",
        "- the model architecture (resnet50)\n",
        "\n",
        "The cnn_learner automatically chooses a loss function in this case, [binary cross entropy loss](https://towardsdatascience.com/understanding-binary-cross-entropy-log-loss-a-visual-explanation-a3ac6025181a). \n",
        "\n",
        "Then, we train the model by choosing the number of epochs as well as setting the learning rate. lr_find() chooses the best learning rate for the model, but I already performed a learning rate find prior to building this specific model (I performed it on an earlier version of the model). \n",
        "\n",
        "We freeze the intial layers to prevent the weights from being modified. learn.unfreeze() unfreezes the weights of the model so that they can get updated. \n"
      ]
    },
    {
      "cell_type": "code",
      "metadata": {
        "colab": {
          "base_uri": "https://localhost:8080/",
          "height": 239,
          "referenced_widgets": [
            "7277ef1f98b04ac3ab6c69925e198e36",
            "09e927e243f74338ba2f3642891e2b56",
            "338bfa0f22074ec590429c50a36e409b",
            "91a56fc0e98d40ab935c9029a853ff28",
            "3406d3cefd434fed95af167b8c868f74",
            "b5a89bb3c617439ab610a9155abf9749",
            "e17e494d54ed42c5b3c52ec67dc8736a",
            "330deda2057e4a728fd2e650bc9bda45"
          ]
        },
        "id": "GPF0JeyWNkY5",
        "outputId": "f20ec557-e9a8-46b3-ea92-f1dbfa006d91"
      },
      "source": [
        "metrics = [accuracy,\n",
        "           error_rate, \n",
        "           RocAucBinary(), Recall(), Precision()] # pass in metrics\n",
        "\n",
        "learn = cnn_learner(dls, resnet50, metrics=metrics)\n",
        "learn.load(f\"{root_dir}/model_1\")\n",
        "learn.fit_one_cycle(4, lr_max=slice(1e-4,1e-3))\n",
        "learn.unfreeze()"
      ],
      "execution_count": 24,
      "outputs": [
        {
          "output_type": "stream",
          "text": [
            "Downloading: \"https://download.pytorch.org/models/resnet50-0676ba61.pth\" to /root/.cache/torch/hub/checkpoints/resnet50-0676ba61.pth\n"
          ],
          "name": "stderr"
        },
        {
          "output_type": "display_data",
          "data": {
            "application/vnd.jupyter.widget-view+json": {
              "model_id": "7277ef1f98b04ac3ab6c69925e198e36",
              "version_minor": 0,
              "version_major": 2
            },
            "text/plain": [
              "HBox(children=(FloatProgress(value=0.0, max=102530333.0), HTML(value='')))"
            ]
          },
          "metadata": {
            "tags": []
          }
        },
        {
          "output_type": "stream",
          "text": [
            "\n"
          ],
          "name": "stdout"
        },
        {
          "output_type": "display_data",
          "data": {
            "text/html": [
              "<table border=\"1\" class=\"dataframe\">\n",
              "  <thead>\n",
              "    <tr style=\"text-align: left;\">\n",
              "      <th>epoch</th>\n",
              "      <th>train_loss</th>\n",
              "      <th>valid_loss</th>\n",
              "      <th>accuracy</th>\n",
              "      <th>error_rate</th>\n",
              "      <th>roc_auc_score</th>\n",
              "      <th>recall_score</th>\n",
              "      <th>precision_score</th>\n",
              "      <th>time</th>\n",
              "    </tr>\n",
              "  </thead>\n",
              "  <tbody>\n",
              "    <tr>\n",
              "      <td>0</td>\n",
              "      <td>0.050365</td>\n",
              "      <td>0.797637</td>\n",
              "      <td>0.745763</td>\n",
              "      <td>0.254237</td>\n",
              "      <td>0.852580</td>\n",
              "      <td>0.727273</td>\n",
              "      <td>0.640000</td>\n",
              "      <td>13:17</td>\n",
              "    </tr>\n",
              "    <tr>\n",
              "      <td>1</td>\n",
              "      <td>0.042896</td>\n",
              "      <td>0.936366</td>\n",
              "      <td>0.754237</td>\n",
              "      <td>0.245763</td>\n",
              "      <td>0.832924</td>\n",
              "      <td>0.727273</td>\n",
              "      <td>0.653061</td>\n",
              "      <td>13:20</td>\n",
              "    </tr>\n",
              "    <tr>\n",
              "      <td>2</td>\n",
              "      <td>0.072485</td>\n",
              "      <td>0.791935</td>\n",
              "      <td>0.762712</td>\n",
              "      <td>0.237288</td>\n",
              "      <td>0.837531</td>\n",
              "      <td>0.840909</td>\n",
              "      <td>0.637931</td>\n",
              "      <td>13:21</td>\n",
              "    </tr>\n",
              "    <tr>\n",
              "      <td>3</td>\n",
              "      <td>0.193607</td>\n",
              "      <td>0.795778</td>\n",
              "      <td>0.737288</td>\n",
              "      <td>0.262712</td>\n",
              "      <td>0.834152</td>\n",
              "      <td>0.772727</td>\n",
              "      <td>0.618182</td>\n",
              "      <td>13:51</td>\n",
              "    </tr>\n",
              "  </tbody>\n",
              "</table>"
            ],
            "text/plain": [
              "<IPython.core.display.HTML object>"
            ]
          },
          "metadata": {
            "tags": []
          }
        }
      ]
    },
    {
      "cell_type": "code",
      "metadata": {
        "colab": {
          "base_uri": "https://localhost:8080/",
          "height": 173
        },
        "id": "Gg-AkUYQl0Jh",
        "outputId": "1d7e2c9f-fea4-4779-cf41-bec33c1eafa3"
      },
      "source": [
        "learn.fit_one_cycle(4, lr_max=slice(1e-6,1e-4))"
      ],
      "execution_count": null,
      "outputs": [
        {
          "output_type": "display_data",
          "data": {
            "text/html": [
              "<table border=\"1\" class=\"dataframe\">\n",
              "  <thead>\n",
              "    <tr style=\"text-align: left;\">\n",
              "      <th>epoch</th>\n",
              "      <th>train_loss</th>\n",
              "      <th>valid_loss</th>\n",
              "      <th>accuracy</th>\n",
              "      <th>error_rate</th>\n",
              "      <th>roc_auc_score</th>\n",
              "      <th>recall_score</th>\n",
              "      <th>precision_score</th>\n",
              "      <th>time</th>\n",
              "    </tr>\n",
              "  </thead>\n",
              "  <tbody>\n",
              "    <tr>\n",
              "      <td>0</td>\n",
              "      <td>0.083160</td>\n",
              "      <td>0.811129</td>\n",
              "      <td>0.728814</td>\n",
              "      <td>0.271186</td>\n",
              "      <td>0.846130</td>\n",
              "      <td>0.704545</td>\n",
              "      <td>0.620000</td>\n",
              "      <td>15:52</td>\n",
              "    </tr>\n",
              "    <tr>\n",
              "      <td>1</td>\n",
              "      <td>0.058096</td>\n",
              "      <td>0.799473</td>\n",
              "      <td>0.737288</td>\n",
              "      <td>0.262712</td>\n",
              "      <td>0.844287</td>\n",
              "      <td>0.727273</td>\n",
              "      <td>0.627451</td>\n",
              "      <td>15:44</td>\n",
              "    </tr>\n",
              "    <tr>\n",
              "      <td>2</td>\n",
              "      <td>0.062593</td>\n",
              "      <td>0.825072</td>\n",
              "      <td>0.737288</td>\n",
              "      <td>0.262712</td>\n",
              "      <td>0.840295</td>\n",
              "      <td>0.727273</td>\n",
              "      <td>0.627451</td>\n",
              "      <td>15:41</td>\n",
              "    </tr>\n",
              "    <tr>\n",
              "      <td>3</td>\n",
              "      <td>0.057859</td>\n",
              "      <td>0.822485</td>\n",
              "      <td>0.728814</td>\n",
              "      <td>0.271186</td>\n",
              "      <td>0.839066</td>\n",
              "      <td>0.704545</td>\n",
              "      <td>0.620000</td>\n",
              "      <td>15:59</td>\n",
              "    </tr>\n",
              "  </tbody>\n",
              "</table>"
            ],
            "text/plain": [
              "<IPython.core.display.HTML object>"
            ]
          },
          "metadata": {
            "tags": []
          }
        }
      ]
    },
    {
      "cell_type": "markdown",
      "metadata": {
        "id": "IB9EbDdika5G"
      },
      "source": [
        "We save the model after training to prevent from retraining the model again. We can use this saved model to get predictions by loading the model for later use. "
      ]
    },
    {
      "cell_type": "code",
      "metadata": {
        "id": "BuQbGFuCz76B"
      },
      "source": [
        "#learn.save(f\"{root_dir}/model_1\") \n",
        "# save the model "
      ],
      "execution_count": 25,
      "outputs": []
    },
    {
      "cell_type": "code",
      "metadata": {
        "id": "JVcGnvU-7isn"
      },
      "source": [
        "predictor = Path('/content/gdrive/My Drive/Colab Notebooks/cancer_detection/model_1.pth') # path of model"
      ],
      "execution_count": 26,
      "outputs": []
    },
    {
      "cell_type": "code",
      "metadata": {
        "colab": {
          "base_uri": "https://localhost:8080/"
        },
        "id": "va8DUhYrO9tr",
        "outputId": "59b9937b-c468-4399-b3b8-fe5f010ad8cd"
      },
      "source": [
        "predictor = cnn_learner(dls, resnet50, metrics=metrics)\n",
        "predictor.load(f\"{root_dir}/model_1\") # load model\n",
        "# learn.export()\n",
        "# path = Path()\n",
        "# path.ls(file_exts='.pkl')"
      ],
      "execution_count": 27,
      "outputs": [
        {
          "output_type": "execute_result",
          "data": {
            "text/plain": [
              "<fastai.learner.Learner at 0x7f23f59e01d0>"
            ]
          },
          "metadata": {
            "tags": []
          },
          "execution_count": 27
        }
      ]
    },
    {
      "cell_type": "markdown",
      "metadata": {
        "id": "8zZ9g7WflE22"
      },
      "source": [
        "## Improving the Model"
      ]
    },
    {
      "cell_type": "markdown",
      "metadata": {
        "id": "0mrZdF-NmJeT"
      },
      "source": [
        "We can improve upon our CNN model by changing the threshold. The goal is to maximize recall (the ability to predict false negatives). Changing the threshold can improve recall. \n",
        "\n",
        "In order to do this:\n",
        "\n",
        "1) Create a test set -> let's see how our loaded model is performing.\n",
        "\n",
        "2) Use a \"for loop\" to get predictions for each test sample.\n",
        "\n",
        "3) Get the confusion matrix, precision, recall, and accuracy for each threshold number on the test set. This allows us to compare threshold values and find the best one. \n",
        "\n",
        "- lower thresholds maximize recall, while higher thresholds maximize precision"
      ]
    },
    {
      "cell_type": "code",
      "metadata": {
        "id": "DCvXaY-Dy3M3"
      },
      "source": [
        "# create a test set\n",
        "count = 0\n",
        "test_sample = label_info.sample(80,random_state=6)\n",
        "for row in label_info.iterrows():\n",
        "  img = row[1]['image_name']\n",
        "  entry = label_info.loc[label_info['image_name'] == img]\n",
        "  val = entry['target'].item()\n",
        "  if val == 1 :\n",
        "    test_sample = test_sample.append(entry)\n",
        "    if count > 20:\n",
        "      break\n",
        "    count = count +1 "
      ],
      "execution_count": 28,
      "outputs": []
    },
    {
      "cell_type": "code",
      "metadata": {
        "colab": {
          "base_uri": "https://localhost:8080/",
          "height": 204
        },
        "id": "su203g0PFisN",
        "outputId": "5c841ff8-3860-4a26-c717-e187fbaefe4d"
      },
      "source": [
        "test_sample.head()"
      ],
      "execution_count": 29,
      "outputs": [
        {
          "output_type": "execute_result",
          "data": {
            "text/html": [
              "<div>\n",
              "<style scoped>\n",
              "    .dataframe tbody tr th:only-of-type {\n",
              "        vertical-align: middle;\n",
              "    }\n",
              "\n",
              "    .dataframe tbody tr th {\n",
              "        vertical-align: top;\n",
              "    }\n",
              "\n",
              "    .dataframe thead th {\n",
              "        text-align: right;\n",
              "    }\n",
              "</style>\n",
              "<table border=\"1\" class=\"dataframe\">\n",
              "  <thead>\n",
              "    <tr style=\"text-align: right;\">\n",
              "      <th></th>\n",
              "      <th>image_name</th>\n",
              "      <th>patient_id</th>\n",
              "      <th>sex</th>\n",
              "      <th>age_approx</th>\n",
              "      <th>anatom_site_general_challenge</th>\n",
              "      <th>diagnosis</th>\n",
              "      <th>benign_malignant</th>\n",
              "      <th>target</th>\n",
              "    </tr>\n",
              "  </thead>\n",
              "  <tbody>\n",
              "    <tr>\n",
              "      <th>25463</th>\n",
              "      <td>ISIC_7727347</td>\n",
              "      <td>IP_8012985</td>\n",
              "      <td>male</td>\n",
              "      <td>35.0</td>\n",
              "      <td>torso</td>\n",
              "      <td>unknown</td>\n",
              "      <td>benign</td>\n",
              "      <td>0</td>\n",
              "    </tr>\n",
              "    <tr>\n",
              "      <th>15042</th>\n",
              "      <td>ISIC_4602691</td>\n",
              "      <td>IP_9042214</td>\n",
              "      <td>female</td>\n",
              "      <td>30.0</td>\n",
              "      <td>torso</td>\n",
              "      <td>unknown</td>\n",
              "      <td>benign</td>\n",
              "      <td>0</td>\n",
              "    </tr>\n",
              "    <tr>\n",
              "      <th>19592</th>\n",
              "      <td>ISIC_5950453</td>\n",
              "      <td>IP_1645936</td>\n",
              "      <td>female</td>\n",
              "      <td>65.0</td>\n",
              "      <td>lower extremity</td>\n",
              "      <td>unknown</td>\n",
              "      <td>benign</td>\n",
              "      <td>0</td>\n",
              "    </tr>\n",
              "    <tr>\n",
              "      <th>6717</th>\n",
              "      <td>ISIC_2106358</td>\n",
              "      <td>IP_2107993</td>\n",
              "      <td>female</td>\n",
              "      <td>70.0</td>\n",
              "      <td>torso</td>\n",
              "      <td>unknown</td>\n",
              "      <td>benign</td>\n",
              "      <td>0</td>\n",
              "    </tr>\n",
              "    <tr>\n",
              "      <th>722</th>\n",
              "      <td>ISIC_0319715</td>\n",
              "      <td>IP_0825081</td>\n",
              "      <td>male</td>\n",
              "      <td>80.0</td>\n",
              "      <td>upper extremity</td>\n",
              "      <td>unknown</td>\n",
              "      <td>benign</td>\n",
              "      <td>0</td>\n",
              "    </tr>\n",
              "  </tbody>\n",
              "</table>\n",
              "</div>"
            ],
            "text/plain": [
              "         image_name  patient_id     sex  age_approx  \\\n",
              "25463  ISIC_7727347  IP_8012985    male        35.0   \n",
              "15042  ISIC_4602691  IP_9042214  female        30.0   \n",
              "19592  ISIC_5950453  IP_1645936  female        65.0   \n",
              "6717   ISIC_2106358  IP_2107993  female        70.0   \n",
              "722    ISIC_0319715  IP_0825081    male        80.0   \n",
              "\n",
              "      anatom_site_general_challenge diagnosis benign_malignant  target  \n",
              "25463                         torso   unknown           benign       0  \n",
              "15042                         torso   unknown           benign       0  \n",
              "19592               lower extremity   unknown           benign       0  \n",
              "6717                          torso   unknown           benign       0  \n",
              "722                 upper extremity   unknown           benign       0  "
            ]
          },
          "metadata": {
            "tags": []
          },
          "execution_count": 29
        }
      ]
    },
    {
      "cell_type": "code",
      "metadata": {
        "colab": {
          "base_uri": "https://localhost:8080/"
        },
        "id": "Cr_qtjjq57pz",
        "outputId": "343325eb-7a36-4913-ced1-54fc6e4cbb1a"
      },
      "source": [
        "test_sample['target'].value_counts()\n",
        "# 79 images are benign\n",
        "# 23 images are malignant"
      ],
      "execution_count": 30,
      "outputs": [
        {
          "output_type": "execute_result",
          "data": {
            "text/plain": [
              "0    79\n",
              "1    23\n",
              "Name: target, dtype: int64"
            ]
          },
          "metadata": {
            "tags": []
          },
          "execution_count": 30
        }
      ]
    },
    {
      "cell_type": "code",
      "metadata": {
        "colab": {
          "base_uri": "https://localhost:8080/",
          "height": 1000
        },
        "id": "yQH7qvQ4uJ8T",
        "outputId": "7a74991c-c2c1-4d67-ff3e-69529388f004"
      },
      "source": [
        "preds = [] # predictions for each test sample\n",
        "for row in test_sample.iterrows():\n",
        "  img = row[1]['image_name']\n",
        "  test_path = '/content/gdrive/My Drive/Colab Notebooks/cancer_detection/test1/' + img + '.jpg'\n",
        "  result = predictor.predict(test_path)\n",
        "  print(result)\n",
        "  preds.append((row[1]['target'],result))"
      ],
      "execution_count": 31,
      "outputs": [
        {
          "output_type": "display_data",
          "data": {
            "text/html": [
              ""
            ],
            "text/plain": [
              "<IPython.core.display.HTML object>"
            ]
          },
          "metadata": {
            "tags": []
          }
        },
        {
          "output_type": "stream",
          "text": [
            "('0', tensor(0), tensor([0.6423, 0.3577]))\n"
          ],
          "name": "stdout"
        },
        {
          "output_type": "display_data",
          "data": {
            "text/html": [
              ""
            ],
            "text/plain": [
              "<IPython.core.display.HTML object>"
            ]
          },
          "metadata": {
            "tags": []
          }
        },
        {
          "output_type": "stream",
          "text": [
            "('0', tensor(0), tensor([9.9976e-01, 2.4008e-04]))\n"
          ],
          "name": "stdout"
        },
        {
          "output_type": "display_data",
          "data": {
            "text/html": [
              ""
            ],
            "text/plain": [
              "<IPython.core.display.HTML object>"
            ]
          },
          "metadata": {
            "tags": []
          }
        },
        {
          "output_type": "stream",
          "text": [
            "('0', tensor(0), tensor([0.9800, 0.0200]))\n"
          ],
          "name": "stdout"
        },
        {
          "output_type": "display_data",
          "data": {
            "text/html": [
              ""
            ],
            "text/plain": [
              "<IPython.core.display.HTML object>"
            ]
          },
          "metadata": {
            "tags": []
          }
        },
        {
          "output_type": "stream",
          "text": [
            "('0', tensor(0), tensor([0.5918, 0.4082]))\n"
          ],
          "name": "stdout"
        },
        {
          "output_type": "display_data",
          "data": {
            "text/html": [
              ""
            ],
            "text/plain": [
              "<IPython.core.display.HTML object>"
            ]
          },
          "metadata": {
            "tags": []
          }
        },
        {
          "output_type": "stream",
          "text": [
            "('0', tensor(0), tensor([0.8687, 0.1313]))\n"
          ],
          "name": "stdout"
        },
        {
          "output_type": "display_data",
          "data": {
            "text/html": [
              ""
            ],
            "text/plain": [
              "<IPython.core.display.HTML object>"
            ]
          },
          "metadata": {
            "tags": []
          }
        },
        {
          "output_type": "stream",
          "text": [
            "('0', tensor(0), tensor([0.9846, 0.0154]))\n"
          ],
          "name": "stdout"
        },
        {
          "output_type": "display_data",
          "data": {
            "text/html": [
              ""
            ],
            "text/plain": [
              "<IPython.core.display.HTML object>"
            ]
          },
          "metadata": {
            "tags": []
          }
        },
        {
          "output_type": "stream",
          "text": [
            "('0', tensor(0), tensor([0.8314, 0.1686]))\n"
          ],
          "name": "stdout"
        },
        {
          "output_type": "display_data",
          "data": {
            "text/html": [
              ""
            ],
            "text/plain": [
              "<IPython.core.display.HTML object>"
            ]
          },
          "metadata": {
            "tags": []
          }
        },
        {
          "output_type": "stream",
          "text": [
            "('1', tensor(1), tensor([0.3057, 0.6943]))\n"
          ],
          "name": "stdout"
        },
        {
          "output_type": "display_data",
          "data": {
            "text/html": [
              ""
            ],
            "text/plain": [
              "<IPython.core.display.HTML object>"
            ]
          },
          "metadata": {
            "tags": []
          }
        },
        {
          "output_type": "stream",
          "text": [
            "('0', tensor(0), tensor([0.9867, 0.0133]))\n"
          ],
          "name": "stdout"
        },
        {
          "output_type": "display_data",
          "data": {
            "text/html": [
              ""
            ],
            "text/plain": [
              "<IPython.core.display.HTML object>"
            ]
          },
          "metadata": {
            "tags": []
          }
        },
        {
          "output_type": "stream",
          "text": [
            "('1', tensor(1), tensor([0.4748, 0.5252]))\n"
          ],
          "name": "stdout"
        },
        {
          "output_type": "display_data",
          "data": {
            "text/html": [
              ""
            ],
            "text/plain": [
              "<IPython.core.display.HTML object>"
            ]
          },
          "metadata": {
            "tags": []
          }
        },
        {
          "output_type": "stream",
          "text": [
            "('0', tensor(0), tensor([9.9985e-01, 1.5056e-04]))\n"
          ],
          "name": "stdout"
        },
        {
          "output_type": "display_data",
          "data": {
            "text/html": [
              ""
            ],
            "text/plain": [
              "<IPython.core.display.HTML object>"
            ]
          },
          "metadata": {
            "tags": []
          }
        },
        {
          "output_type": "stream",
          "text": [
            "('1', tensor(1), tensor([0.0783, 0.9217]))\n"
          ],
          "name": "stdout"
        },
        {
          "output_type": "display_data",
          "data": {
            "text/html": [
              ""
            ],
            "text/plain": [
              "<IPython.core.display.HTML object>"
            ]
          },
          "metadata": {
            "tags": []
          }
        },
        {
          "output_type": "stream",
          "text": [
            "('0', tensor(0), tensor([9.9976e-01, 2.3610e-04]))\n"
          ],
          "name": "stdout"
        },
        {
          "output_type": "display_data",
          "data": {
            "text/html": [
              ""
            ],
            "text/plain": [
              "<IPython.core.display.HTML object>"
            ]
          },
          "metadata": {
            "tags": []
          }
        },
        {
          "output_type": "stream",
          "text": [
            "('1', tensor(1), tensor([0.4265, 0.5735]))\n"
          ],
          "name": "stdout"
        },
        {
          "output_type": "display_data",
          "data": {
            "text/html": [
              ""
            ],
            "text/plain": [
              "<IPython.core.display.HTML object>"
            ]
          },
          "metadata": {
            "tags": []
          }
        },
        {
          "output_type": "stream",
          "text": [
            "('0', tensor(0), tensor([0.9989, 0.0011]))\n"
          ],
          "name": "stdout"
        },
        {
          "output_type": "display_data",
          "data": {
            "text/html": [
              ""
            ],
            "text/plain": [
              "<IPython.core.display.HTML object>"
            ]
          },
          "metadata": {
            "tags": []
          }
        },
        {
          "output_type": "stream",
          "text": [
            "('0', tensor(0), tensor([0.5720, 0.4280]))\n"
          ],
          "name": "stdout"
        },
        {
          "output_type": "display_data",
          "data": {
            "text/html": [
              ""
            ],
            "text/plain": [
              "<IPython.core.display.HTML object>"
            ]
          },
          "metadata": {
            "tags": []
          }
        },
        {
          "output_type": "stream",
          "text": [
            "('0', tensor(0), tensor([0.7868, 0.2132]))\n"
          ],
          "name": "stdout"
        },
        {
          "output_type": "display_data",
          "data": {
            "text/html": [
              ""
            ],
            "text/plain": [
              "<IPython.core.display.HTML object>"
            ]
          },
          "metadata": {
            "tags": []
          }
        },
        {
          "output_type": "stream",
          "text": [
            "('0', tensor(0), tensor([0.9951, 0.0049]))\n"
          ],
          "name": "stdout"
        },
        {
          "output_type": "display_data",
          "data": {
            "text/html": [
              ""
            ],
            "text/plain": [
              "<IPython.core.display.HTML object>"
            ]
          },
          "metadata": {
            "tags": []
          }
        },
        {
          "output_type": "stream",
          "text": [
            "('0', tensor(0), tensor([9.9933e-01, 6.6831e-04]))\n"
          ],
          "name": "stdout"
        },
        {
          "output_type": "display_data",
          "data": {
            "text/html": [
              ""
            ],
            "text/plain": [
              "<IPython.core.display.HTML object>"
            ]
          },
          "metadata": {
            "tags": []
          }
        },
        {
          "output_type": "stream",
          "text": [
            "('0', tensor(0), tensor([0.9953, 0.0047]))\n"
          ],
          "name": "stdout"
        },
        {
          "output_type": "display_data",
          "data": {
            "text/html": [
              ""
            ],
            "text/plain": [
              "<IPython.core.display.HTML object>"
            ]
          },
          "metadata": {
            "tags": []
          }
        },
        {
          "output_type": "stream",
          "text": [
            "('0', tensor(0), tensor([0.9969, 0.0031]))\n"
          ],
          "name": "stdout"
        },
        {
          "output_type": "display_data",
          "data": {
            "text/html": [
              ""
            ],
            "text/plain": [
              "<IPython.core.display.HTML object>"
            ]
          },
          "metadata": {
            "tags": []
          }
        },
        {
          "output_type": "stream",
          "text": [
            "('0', tensor(0), tensor([0.6926, 0.3074]))\n"
          ],
          "name": "stdout"
        },
        {
          "output_type": "display_data",
          "data": {
            "text/html": [
              ""
            ],
            "text/plain": [
              "<IPython.core.display.HTML object>"
            ]
          },
          "metadata": {
            "tags": []
          }
        },
        {
          "output_type": "stream",
          "text": [
            "('1', tensor(1), tensor([0.0095, 0.9905]))\n"
          ],
          "name": "stdout"
        },
        {
          "output_type": "display_data",
          "data": {
            "text/html": [
              ""
            ],
            "text/plain": [
              "<IPython.core.display.HTML object>"
            ]
          },
          "metadata": {
            "tags": []
          }
        },
        {
          "output_type": "stream",
          "text": [
            "('0', tensor(0), tensor([9.9906e-01, 9.4321e-04]))\n"
          ],
          "name": "stdout"
        },
        {
          "output_type": "display_data",
          "data": {
            "text/html": [
              ""
            ],
            "text/plain": [
              "<IPython.core.display.HTML object>"
            ]
          },
          "metadata": {
            "tags": []
          }
        },
        {
          "output_type": "stream",
          "text": [
            "('0', tensor(0), tensor([0.6615, 0.3385]))\n"
          ],
          "name": "stdout"
        },
        {
          "output_type": "display_data",
          "data": {
            "text/html": [
              ""
            ],
            "text/plain": [
              "<IPython.core.display.HTML object>"
            ]
          },
          "metadata": {
            "tags": []
          }
        },
        {
          "output_type": "stream",
          "text": [
            "('0', tensor(0), tensor([0.9845, 0.0155]))\n"
          ],
          "name": "stdout"
        },
        {
          "output_type": "display_data",
          "data": {
            "text/html": [
              ""
            ],
            "text/plain": [
              "<IPython.core.display.HTML object>"
            ]
          },
          "metadata": {
            "tags": []
          }
        },
        {
          "output_type": "stream",
          "text": [
            "('0', tensor(0), tensor([0.7969, 0.2031]))\n"
          ],
          "name": "stdout"
        },
        {
          "output_type": "display_data",
          "data": {
            "text/html": [
              ""
            ],
            "text/plain": [
              "<IPython.core.display.HTML object>"
            ]
          },
          "metadata": {
            "tags": []
          }
        },
        {
          "output_type": "stream",
          "text": [
            "('1', tensor(1), tensor([0.3074, 0.6926]))\n"
          ],
          "name": "stdout"
        },
        {
          "output_type": "display_data",
          "data": {
            "text/html": [
              ""
            ],
            "text/plain": [
              "<IPython.core.display.HTML object>"
            ]
          },
          "metadata": {
            "tags": []
          }
        },
        {
          "output_type": "stream",
          "text": [
            "('0', tensor(0), tensor([0.9893, 0.0107]))\n"
          ],
          "name": "stdout"
        },
        {
          "output_type": "display_data",
          "data": {
            "text/html": [
              ""
            ],
            "text/plain": [
              "<IPython.core.display.HTML object>"
            ]
          },
          "metadata": {
            "tags": []
          }
        },
        {
          "output_type": "stream",
          "text": [
            "('0', tensor(0), tensor([0.9097, 0.0903]))\n"
          ],
          "name": "stdout"
        },
        {
          "output_type": "display_data",
          "data": {
            "text/html": [
              ""
            ],
            "text/plain": [
              "<IPython.core.display.HTML object>"
            ]
          },
          "metadata": {
            "tags": []
          }
        },
        {
          "output_type": "stream",
          "text": [
            "('0', tensor(0), tensor([0.9891, 0.0109]))\n"
          ],
          "name": "stdout"
        },
        {
          "output_type": "display_data",
          "data": {
            "text/html": [
              ""
            ],
            "text/plain": [
              "<IPython.core.display.HTML object>"
            ]
          },
          "metadata": {
            "tags": []
          }
        },
        {
          "output_type": "stream",
          "text": [
            "('0', tensor(0), tensor([0.9917, 0.0083]))\n"
          ],
          "name": "stdout"
        },
        {
          "output_type": "display_data",
          "data": {
            "text/html": [
              ""
            ],
            "text/plain": [
              "<IPython.core.display.HTML object>"
            ]
          },
          "metadata": {
            "tags": []
          }
        },
        {
          "output_type": "stream",
          "text": [
            "('0', tensor(0), tensor([9.9973e-01, 2.7363e-04]))\n"
          ],
          "name": "stdout"
        },
        {
          "output_type": "display_data",
          "data": {
            "text/html": [
              ""
            ],
            "text/plain": [
              "<IPython.core.display.HTML object>"
            ]
          },
          "metadata": {
            "tags": []
          }
        },
        {
          "output_type": "stream",
          "text": [
            "('0', tensor(0), tensor([9.9954e-01, 4.5710e-04]))\n"
          ],
          "name": "stdout"
        },
        {
          "output_type": "display_data",
          "data": {
            "text/html": [
              ""
            ],
            "text/plain": [
              "<IPython.core.display.HTML object>"
            ]
          },
          "metadata": {
            "tags": []
          }
        },
        {
          "output_type": "stream",
          "text": [
            "('0', tensor(0), tensor([0.9981, 0.0019]))\n"
          ],
          "name": "stdout"
        },
        {
          "output_type": "display_data",
          "data": {
            "text/html": [
              ""
            ],
            "text/plain": [
              "<IPython.core.display.HTML object>"
            ]
          },
          "metadata": {
            "tags": []
          }
        },
        {
          "output_type": "stream",
          "text": [
            "('0', tensor(0), tensor([0.9327, 0.0673]))\n"
          ],
          "name": "stdout"
        },
        {
          "output_type": "display_data",
          "data": {
            "text/html": [
              ""
            ],
            "text/plain": [
              "<IPython.core.display.HTML object>"
            ]
          },
          "metadata": {
            "tags": []
          }
        },
        {
          "output_type": "stream",
          "text": [
            "('0', tensor(0), tensor([0.9827, 0.0173]))\n"
          ],
          "name": "stdout"
        },
        {
          "output_type": "display_data",
          "data": {
            "text/html": [
              ""
            ],
            "text/plain": [
              "<IPython.core.display.HTML object>"
            ]
          },
          "metadata": {
            "tags": []
          }
        },
        {
          "output_type": "stream",
          "text": [
            "('0', tensor(0), tensor([0.9892, 0.0108]))\n"
          ],
          "name": "stdout"
        },
        {
          "output_type": "display_data",
          "data": {
            "text/html": [
              ""
            ],
            "text/plain": [
              "<IPython.core.display.HTML object>"
            ]
          },
          "metadata": {
            "tags": []
          }
        },
        {
          "output_type": "stream",
          "text": [
            "('0', tensor(0), tensor([0.9887, 0.0113]))\n"
          ],
          "name": "stdout"
        },
        {
          "output_type": "display_data",
          "data": {
            "text/html": [
              ""
            ],
            "text/plain": [
              "<IPython.core.display.HTML object>"
            ]
          },
          "metadata": {
            "tags": []
          }
        },
        {
          "output_type": "stream",
          "text": [
            "('0', tensor(0), tensor([9.9962e-01, 3.7699e-04]))\n"
          ],
          "name": "stdout"
        },
        {
          "output_type": "display_data",
          "data": {
            "text/html": [
              ""
            ],
            "text/plain": [
              "<IPython.core.display.HTML object>"
            ]
          },
          "metadata": {
            "tags": []
          }
        },
        {
          "output_type": "stream",
          "text": [
            "('1', tensor(1), tensor([2.7057e-05, 9.9997e-01]))\n"
          ],
          "name": "stdout"
        },
        {
          "output_type": "display_data",
          "data": {
            "text/html": [
              ""
            ],
            "text/plain": [
              "<IPython.core.display.HTML object>"
            ]
          },
          "metadata": {
            "tags": []
          }
        },
        {
          "output_type": "stream",
          "text": [
            "('1', tensor(1), tensor([0.0232, 0.9768]))\n"
          ],
          "name": "stdout"
        },
        {
          "output_type": "display_data",
          "data": {
            "text/html": [
              ""
            ],
            "text/plain": [
              "<IPython.core.display.HTML object>"
            ]
          },
          "metadata": {
            "tags": []
          }
        },
        {
          "output_type": "stream",
          "text": [
            "('0', tensor(0), tensor([9.9995e-01, 5.1845e-05]))\n"
          ],
          "name": "stdout"
        },
        {
          "output_type": "display_data",
          "data": {
            "text/html": [
              ""
            ],
            "text/plain": [
              "<IPython.core.display.HTML object>"
            ]
          },
          "metadata": {
            "tags": []
          }
        },
        {
          "output_type": "stream",
          "text": [
            "('0', tensor(0), tensor([0.9981, 0.0019]))\n"
          ],
          "name": "stdout"
        },
        {
          "output_type": "display_data",
          "data": {
            "text/html": [
              ""
            ],
            "text/plain": [
              "<IPython.core.display.HTML object>"
            ]
          },
          "metadata": {
            "tags": []
          }
        },
        {
          "output_type": "stream",
          "text": [
            "('0', tensor(0), tensor([9.9916e-01, 8.4017e-04]))\n"
          ],
          "name": "stdout"
        },
        {
          "output_type": "display_data",
          "data": {
            "text/html": [
              ""
            ],
            "text/plain": [
              "<IPython.core.display.HTML object>"
            ]
          },
          "metadata": {
            "tags": []
          }
        },
        {
          "output_type": "stream",
          "text": [
            "('1', tensor(1), tensor([0.3211, 0.6789]))\n"
          ],
          "name": "stdout"
        },
        {
          "output_type": "display_data",
          "data": {
            "text/html": [
              ""
            ],
            "text/plain": [
              "<IPython.core.display.HTML object>"
            ]
          },
          "metadata": {
            "tags": []
          }
        },
        {
          "output_type": "stream",
          "text": [
            "('0', tensor(0), tensor([0.9976, 0.0024]))\n"
          ],
          "name": "stdout"
        },
        {
          "output_type": "display_data",
          "data": {
            "text/html": [
              ""
            ],
            "text/plain": [
              "<IPython.core.display.HTML object>"
            ]
          },
          "metadata": {
            "tags": []
          }
        },
        {
          "output_type": "stream",
          "text": [
            "('0', tensor(0), tensor([0.7306, 0.2694]))\n"
          ],
          "name": "stdout"
        },
        {
          "output_type": "display_data",
          "data": {
            "text/html": [
              ""
            ],
            "text/plain": [
              "<IPython.core.display.HTML object>"
            ]
          },
          "metadata": {
            "tags": []
          }
        },
        {
          "output_type": "stream",
          "text": [
            "('0', tensor(0), tensor([0.9977, 0.0023]))\n"
          ],
          "name": "stdout"
        },
        {
          "output_type": "display_data",
          "data": {
            "text/html": [
              ""
            ],
            "text/plain": [
              "<IPython.core.display.HTML object>"
            ]
          },
          "metadata": {
            "tags": []
          }
        },
        {
          "output_type": "stream",
          "text": [
            "('0', tensor(0), tensor([0.8333, 0.1667]))\n"
          ],
          "name": "stdout"
        },
        {
          "output_type": "display_data",
          "data": {
            "text/html": [
              ""
            ],
            "text/plain": [
              "<IPython.core.display.HTML object>"
            ]
          },
          "metadata": {
            "tags": []
          }
        },
        {
          "output_type": "stream",
          "text": [
            "('0', tensor(0), tensor([0.5153, 0.4847]))\n"
          ],
          "name": "stdout"
        },
        {
          "output_type": "display_data",
          "data": {
            "text/html": [
              ""
            ],
            "text/plain": [
              "<IPython.core.display.HTML object>"
            ]
          },
          "metadata": {
            "tags": []
          }
        },
        {
          "output_type": "stream",
          "text": [
            "('0', tensor(0), tensor([0.9967, 0.0033]))\n"
          ],
          "name": "stdout"
        },
        {
          "output_type": "display_data",
          "data": {
            "text/html": [
              ""
            ],
            "text/plain": [
              "<IPython.core.display.HTML object>"
            ]
          },
          "metadata": {
            "tags": []
          }
        },
        {
          "output_type": "stream",
          "text": [
            "('0', tensor(0), tensor([0.9745, 0.0255]))\n"
          ],
          "name": "stdout"
        },
        {
          "output_type": "display_data",
          "data": {
            "text/html": [
              ""
            ],
            "text/plain": [
              "<IPython.core.display.HTML object>"
            ]
          },
          "metadata": {
            "tags": []
          }
        },
        {
          "output_type": "stream",
          "text": [
            "('0', tensor(0), tensor([0.7785, 0.2215]))\n"
          ],
          "name": "stdout"
        },
        {
          "output_type": "display_data",
          "data": {
            "text/html": [
              ""
            ],
            "text/plain": [
              "<IPython.core.display.HTML object>"
            ]
          },
          "metadata": {
            "tags": []
          }
        },
        {
          "output_type": "stream",
          "text": [
            "('1', tensor(1), tensor([0.3891, 0.6109]))\n"
          ],
          "name": "stdout"
        },
        {
          "output_type": "display_data",
          "data": {
            "text/html": [
              ""
            ],
            "text/plain": [
              "<IPython.core.display.HTML object>"
            ]
          },
          "metadata": {
            "tags": []
          }
        },
        {
          "output_type": "stream",
          "text": [
            "('1', tensor(1), tensor([0.4114, 0.5886]))\n"
          ],
          "name": "stdout"
        },
        {
          "output_type": "display_data",
          "data": {
            "text/html": [
              ""
            ],
            "text/plain": [
              "<IPython.core.display.HTML object>"
            ]
          },
          "metadata": {
            "tags": []
          }
        },
        {
          "output_type": "stream",
          "text": [
            "('0', tensor(0), tensor([9.9988e-01, 1.2232e-04]))\n"
          ],
          "name": "stdout"
        },
        {
          "output_type": "display_data",
          "data": {
            "text/html": [
              ""
            ],
            "text/plain": [
              "<IPython.core.display.HTML object>"
            ]
          },
          "metadata": {
            "tags": []
          }
        },
        {
          "output_type": "stream",
          "text": [
            "('0', tensor(0), tensor([0.9271, 0.0729]))\n"
          ],
          "name": "stdout"
        },
        {
          "output_type": "display_data",
          "data": {
            "text/html": [
              ""
            ],
            "text/plain": [
              "<IPython.core.display.HTML object>"
            ]
          },
          "metadata": {
            "tags": []
          }
        },
        {
          "output_type": "stream",
          "text": [
            "('1', tensor(1), tensor([1.3298e-05, 9.9999e-01]))\n"
          ],
          "name": "stdout"
        },
        {
          "output_type": "display_data",
          "data": {
            "text/html": [
              ""
            ],
            "text/plain": [
              "<IPython.core.display.HTML object>"
            ]
          },
          "metadata": {
            "tags": []
          }
        },
        {
          "output_type": "stream",
          "text": [
            "('0', tensor(0), tensor([0.9932, 0.0068]))\n"
          ],
          "name": "stdout"
        },
        {
          "output_type": "display_data",
          "data": {
            "text/html": [
              ""
            ],
            "text/plain": [
              "<IPython.core.display.HTML object>"
            ]
          },
          "metadata": {
            "tags": []
          }
        },
        {
          "output_type": "stream",
          "text": [
            "('1', tensor(1), tensor([0.3282, 0.6718]))\n"
          ],
          "name": "stdout"
        },
        {
          "output_type": "display_data",
          "data": {
            "text/html": [
              ""
            ],
            "text/plain": [
              "<IPython.core.display.HTML object>"
            ]
          },
          "metadata": {
            "tags": []
          }
        },
        {
          "output_type": "stream",
          "text": [
            "('0', tensor(0), tensor([0.9962, 0.0038]))\n"
          ],
          "name": "stdout"
        },
        {
          "output_type": "display_data",
          "data": {
            "text/html": [
              ""
            ],
            "text/plain": [
              "<IPython.core.display.HTML object>"
            ]
          },
          "metadata": {
            "tags": []
          }
        },
        {
          "output_type": "stream",
          "text": [
            "('0', tensor(0), tensor([0.8974, 0.1026]))\n"
          ],
          "name": "stdout"
        },
        {
          "output_type": "display_data",
          "data": {
            "text/html": [
              ""
            ],
            "text/plain": [
              "<IPython.core.display.HTML object>"
            ]
          },
          "metadata": {
            "tags": []
          }
        },
        {
          "output_type": "stream",
          "text": [
            "('1', tensor(1), tensor([5.8348e-04, 9.9942e-01]))\n"
          ],
          "name": "stdout"
        },
        {
          "output_type": "display_data",
          "data": {
            "text/html": [
              ""
            ],
            "text/plain": [
              "<IPython.core.display.HTML object>"
            ]
          },
          "metadata": {
            "tags": []
          }
        },
        {
          "output_type": "stream",
          "text": [
            "('1', tensor(1), tensor([0.0368, 0.9632]))\n"
          ],
          "name": "stdout"
        },
        {
          "output_type": "display_data",
          "data": {
            "text/html": [
              ""
            ],
            "text/plain": [
              "<IPython.core.display.HTML object>"
            ]
          },
          "metadata": {
            "tags": []
          }
        },
        {
          "output_type": "stream",
          "text": [
            "('0', tensor(0), tensor([9.9992e-01, 8.4112e-05]))\n"
          ],
          "name": "stdout"
        },
        {
          "output_type": "display_data",
          "data": {
            "text/html": [
              ""
            ],
            "text/plain": [
              "<IPython.core.display.HTML object>"
            ]
          },
          "metadata": {
            "tags": []
          }
        },
        {
          "output_type": "stream",
          "text": [
            "('0', tensor(0), tensor([0.9342, 0.0658]))\n"
          ],
          "name": "stdout"
        },
        {
          "output_type": "display_data",
          "data": {
            "text/html": [
              ""
            ],
            "text/plain": [
              "<IPython.core.display.HTML object>"
            ]
          },
          "metadata": {
            "tags": []
          }
        },
        {
          "output_type": "stream",
          "text": [
            "('0', tensor(0), tensor([0.9990, 0.0010]))\n"
          ],
          "name": "stdout"
        },
        {
          "output_type": "display_data",
          "data": {
            "text/html": [
              ""
            ],
            "text/plain": [
              "<IPython.core.display.HTML object>"
            ]
          },
          "metadata": {
            "tags": []
          }
        },
        {
          "output_type": "stream",
          "text": [
            "('0', tensor(0), tensor([9.9985e-01, 1.5245e-04]))\n"
          ],
          "name": "stdout"
        },
        {
          "output_type": "display_data",
          "data": {
            "text/html": [
              ""
            ],
            "text/plain": [
              "<IPython.core.display.HTML object>"
            ]
          },
          "metadata": {
            "tags": []
          }
        },
        {
          "output_type": "stream",
          "text": [
            "('0', tensor(0), tensor([0.9857, 0.0143]))\n"
          ],
          "name": "stdout"
        },
        {
          "output_type": "display_data",
          "data": {
            "text/html": [
              ""
            ],
            "text/plain": [
              "<IPython.core.display.HTML object>"
            ]
          },
          "metadata": {
            "tags": []
          }
        },
        {
          "output_type": "stream",
          "text": [
            "('0', tensor(0), tensor([0.9501, 0.0499]))\n"
          ],
          "name": "stdout"
        },
        {
          "output_type": "display_data",
          "data": {
            "text/html": [
              ""
            ],
            "text/plain": [
              "<IPython.core.display.HTML object>"
            ]
          },
          "metadata": {
            "tags": []
          }
        },
        {
          "output_type": "stream",
          "text": [
            "('0', tensor(0), tensor([0.7935, 0.2065]))\n"
          ],
          "name": "stdout"
        },
        {
          "output_type": "display_data",
          "data": {
            "text/html": [
              ""
            ],
            "text/plain": [
              "<IPython.core.display.HTML object>"
            ]
          },
          "metadata": {
            "tags": []
          }
        },
        {
          "output_type": "stream",
          "text": [
            "('0', tensor(0), tensor([0.8951, 0.1049]))\n"
          ],
          "name": "stdout"
        },
        {
          "output_type": "display_data",
          "data": {
            "text/html": [
              ""
            ],
            "text/plain": [
              "<IPython.core.display.HTML object>"
            ]
          },
          "metadata": {
            "tags": []
          }
        },
        {
          "output_type": "stream",
          "text": [
            "('0', tensor(0), tensor([0.9375, 0.0625]))\n"
          ],
          "name": "stdout"
        },
        {
          "output_type": "display_data",
          "data": {
            "text/html": [
              ""
            ],
            "text/plain": [
              "<IPython.core.display.HTML object>"
            ]
          },
          "metadata": {
            "tags": []
          }
        },
        {
          "output_type": "stream",
          "text": [
            "('1', tensor(1), tensor([0.1404, 0.8596]))\n"
          ],
          "name": "stdout"
        },
        {
          "output_type": "display_data",
          "data": {
            "text/html": [
              ""
            ],
            "text/plain": [
              "<IPython.core.display.HTML object>"
            ]
          },
          "metadata": {
            "tags": []
          }
        },
        {
          "output_type": "stream",
          "text": [
            "('1', tensor(1), tensor([0.1018, 0.8982]))\n"
          ],
          "name": "stdout"
        },
        {
          "output_type": "display_data",
          "data": {
            "text/html": [
              ""
            ],
            "text/plain": [
              "<IPython.core.display.HTML object>"
            ]
          },
          "metadata": {
            "tags": []
          }
        },
        {
          "output_type": "stream",
          "text": [
            "('0', tensor(0), tensor([0.9981, 0.0019]))\n"
          ],
          "name": "stdout"
        },
        {
          "output_type": "display_data",
          "data": {
            "text/html": [
              ""
            ],
            "text/plain": [
              "<IPython.core.display.HTML object>"
            ]
          },
          "metadata": {
            "tags": []
          }
        },
        {
          "output_type": "stream",
          "text": [
            "('0', tensor(0), tensor([0.8985, 0.1015]))\n"
          ],
          "name": "stdout"
        },
        {
          "output_type": "display_data",
          "data": {
            "text/html": [
              ""
            ],
            "text/plain": [
              "<IPython.core.display.HTML object>"
            ]
          },
          "metadata": {
            "tags": []
          }
        },
        {
          "output_type": "stream",
          "text": [
            "('0', tensor(0), tensor([0.9705, 0.0295]))\n"
          ],
          "name": "stdout"
        },
        {
          "output_type": "display_data",
          "data": {
            "text/html": [
              ""
            ],
            "text/plain": [
              "<IPython.core.display.HTML object>"
            ]
          },
          "metadata": {
            "tags": []
          }
        },
        {
          "output_type": "stream",
          "text": [
            "('0', tensor(0), tensor([9.9953e-01, 4.6525e-04]))\n"
          ],
          "name": "stdout"
        },
        {
          "output_type": "display_data",
          "data": {
            "text/html": [
              ""
            ],
            "text/plain": [
              "<IPython.core.display.HTML object>"
            ]
          },
          "metadata": {
            "tags": []
          }
        },
        {
          "output_type": "stream",
          "text": [
            "('0', tensor(0), tensor([0.5459, 0.4541]))\n"
          ],
          "name": "stdout"
        },
        {
          "output_type": "display_data",
          "data": {
            "text/html": [
              ""
            ],
            "text/plain": [
              "<IPython.core.display.HTML object>"
            ]
          },
          "metadata": {
            "tags": []
          }
        },
        {
          "output_type": "stream",
          "text": [
            "('1', tensor(1), tensor([0.0028, 0.9972]))\n"
          ],
          "name": "stdout"
        },
        {
          "output_type": "display_data",
          "data": {
            "text/html": [
              ""
            ],
            "text/plain": [
              "<IPython.core.display.HTML object>"
            ]
          },
          "metadata": {
            "tags": []
          }
        },
        {
          "output_type": "stream",
          "text": [
            "('1', tensor(1), tensor([0.0238, 0.9762]))\n"
          ],
          "name": "stdout"
        },
        {
          "output_type": "display_data",
          "data": {
            "text/html": [
              ""
            ],
            "text/plain": [
              "<IPython.core.display.HTML object>"
            ]
          },
          "metadata": {
            "tags": []
          }
        },
        {
          "output_type": "stream",
          "text": [
            "('1', tensor(1), tensor([0.0013, 0.9987]))\n"
          ],
          "name": "stdout"
        },
        {
          "output_type": "display_data",
          "data": {
            "text/html": [
              ""
            ],
            "text/plain": [
              "<IPython.core.display.HTML object>"
            ]
          },
          "metadata": {
            "tags": []
          }
        },
        {
          "output_type": "stream",
          "text": [
            "('1', tensor(1), tensor([0.3138, 0.6862]))\n"
          ],
          "name": "stdout"
        },
        {
          "output_type": "display_data",
          "data": {
            "text/html": [
              ""
            ],
            "text/plain": [
              "<IPython.core.display.HTML object>"
            ]
          },
          "metadata": {
            "tags": []
          }
        },
        {
          "output_type": "stream",
          "text": [
            "('1', tensor(1), tensor([0.0164, 0.9836]))\n"
          ],
          "name": "stdout"
        },
        {
          "output_type": "display_data",
          "data": {
            "text/html": [
              ""
            ],
            "text/plain": [
              "<IPython.core.display.HTML object>"
            ]
          },
          "metadata": {
            "tags": []
          }
        },
        {
          "output_type": "stream",
          "text": [
            "('1', tensor(1), tensor([0.0181, 0.9819]))\n"
          ],
          "name": "stdout"
        },
        {
          "output_type": "display_data",
          "data": {
            "text/html": [
              ""
            ],
            "text/plain": [
              "<IPython.core.display.HTML object>"
            ]
          },
          "metadata": {
            "tags": []
          }
        },
        {
          "output_type": "stream",
          "text": [
            "('1', tensor(1), tensor([0.4287, 0.5713]))\n"
          ],
          "name": "stdout"
        },
        {
          "output_type": "display_data",
          "data": {
            "text/html": [
              ""
            ],
            "text/plain": [
              "<IPython.core.display.HTML object>"
            ]
          },
          "metadata": {
            "tags": []
          }
        },
        {
          "output_type": "stream",
          "text": [
            "('1', tensor(1), tensor([0.0441, 0.9559]))\n"
          ],
          "name": "stdout"
        },
        {
          "output_type": "display_data",
          "data": {
            "text/html": [
              ""
            ],
            "text/plain": [
              "<IPython.core.display.HTML object>"
            ]
          },
          "metadata": {
            "tags": []
          }
        },
        {
          "output_type": "stream",
          "text": [
            "('1', tensor(1), tensor([0.0233, 0.9767]))\n"
          ],
          "name": "stdout"
        },
        {
          "output_type": "display_data",
          "data": {
            "text/html": [
              ""
            ],
            "text/plain": [
              "<IPython.core.display.HTML object>"
            ]
          },
          "metadata": {
            "tags": []
          }
        },
        {
          "output_type": "stream",
          "text": [
            "('1', tensor(1), tensor([0.0267, 0.9733]))\n"
          ],
          "name": "stdout"
        },
        {
          "output_type": "display_data",
          "data": {
            "text/html": [
              ""
            ],
            "text/plain": [
              "<IPython.core.display.HTML object>"
            ]
          },
          "metadata": {
            "tags": []
          }
        },
        {
          "output_type": "stream",
          "text": [
            "('1', tensor(1), tensor([0.4932, 0.5068]))\n"
          ],
          "name": "stdout"
        },
        {
          "output_type": "display_data",
          "data": {
            "text/html": [
              ""
            ],
            "text/plain": [
              "<IPython.core.display.HTML object>"
            ]
          },
          "metadata": {
            "tags": []
          }
        },
        {
          "output_type": "stream",
          "text": [
            "('1', tensor(1), tensor([0.3203, 0.6797]))\n"
          ],
          "name": "stdout"
        },
        {
          "output_type": "display_data",
          "data": {
            "text/html": [
              ""
            ],
            "text/plain": [
              "<IPython.core.display.HTML object>"
            ]
          },
          "metadata": {
            "tags": []
          }
        },
        {
          "output_type": "stream",
          "text": [
            "('1', tensor(1), tensor([0.1264, 0.8736]))\n"
          ],
          "name": "stdout"
        },
        {
          "output_type": "display_data",
          "data": {
            "text/html": [
              ""
            ],
            "text/plain": [
              "<IPython.core.display.HTML object>"
            ]
          },
          "metadata": {
            "tags": []
          }
        },
        {
          "output_type": "stream",
          "text": [
            "('1', tensor(1), tensor([0.0417, 0.9583]))\n"
          ],
          "name": "stdout"
        },
        {
          "output_type": "display_data",
          "data": {
            "text/html": [
              ""
            ],
            "text/plain": [
              "<IPython.core.display.HTML object>"
            ]
          },
          "metadata": {
            "tags": []
          }
        },
        {
          "output_type": "stream",
          "text": [
            "('1', tensor(1), tensor([0.0028, 0.9972]))\n"
          ],
          "name": "stdout"
        },
        {
          "output_type": "display_data",
          "data": {
            "text/html": [
              ""
            ],
            "text/plain": [
              "<IPython.core.display.HTML object>"
            ]
          },
          "metadata": {
            "tags": []
          }
        },
        {
          "output_type": "stream",
          "text": [
            "('1', tensor(1), tensor([0.0087, 0.9913]))\n"
          ],
          "name": "stdout"
        },
        {
          "output_type": "display_data",
          "data": {
            "text/html": [
              ""
            ],
            "text/plain": [
              "<IPython.core.display.HTML object>"
            ]
          },
          "metadata": {
            "tags": []
          }
        },
        {
          "output_type": "stream",
          "text": [
            "('1', tensor(1), tensor([0.0325, 0.9675]))\n"
          ],
          "name": "stdout"
        },
        {
          "output_type": "display_data",
          "data": {
            "text/html": [
              ""
            ],
            "text/plain": [
              "<IPython.core.display.HTML object>"
            ]
          },
          "metadata": {
            "tags": []
          }
        },
        {
          "output_type": "stream",
          "text": [
            "('1', tensor(1), tensor([0.0022, 0.9978]))\n"
          ],
          "name": "stdout"
        },
        {
          "output_type": "display_data",
          "data": {
            "text/html": [
              ""
            ],
            "text/plain": [
              "<IPython.core.display.HTML object>"
            ]
          },
          "metadata": {
            "tags": []
          }
        },
        {
          "output_type": "stream",
          "text": [
            "('1', tensor(1), tensor([1.7296e-04, 9.9983e-01]))\n"
          ],
          "name": "stdout"
        },
        {
          "output_type": "display_data",
          "data": {
            "text/html": [
              ""
            ],
            "text/plain": [
              "<IPython.core.display.HTML object>"
            ]
          },
          "metadata": {
            "tags": []
          }
        },
        {
          "output_type": "stream",
          "text": [
            "('1', tensor(1), tensor([1.8824e-04, 9.9981e-01]))\n"
          ],
          "name": "stdout"
        },
        {
          "output_type": "display_data",
          "data": {
            "text/html": [
              ""
            ],
            "text/plain": [
              "<IPython.core.display.HTML object>"
            ]
          },
          "metadata": {
            "tags": []
          }
        },
        {
          "output_type": "stream",
          "text": [
            "('1', tensor(1), tensor([8.8793e-05, 9.9991e-01]))\n"
          ],
          "name": "stdout"
        }
      ]
    },
    {
      "cell_type": "code",
      "metadata": {
        "colab": {
          "base_uri": "https://localhost:8080/"
        },
        "id": "H3rQ372pddx3",
        "outputId": "5a9cf473-4b9a-4fa8-fa15-49dceaee44c1"
      },
      "source": [
        "preds # we can visually compare the model's predictions to the ground truth"
      ],
      "execution_count": 32,
      "outputs": [
        {
          "output_type": "execute_result",
          "data": {
            "text/plain": [
              "[(0, ('0', tensor(0), tensor([0.6423, 0.3577]))),\n",
              " (0, ('0', tensor(0), tensor([9.9976e-01, 2.4008e-04]))),\n",
              " (0, ('0', tensor(0), tensor([0.9800, 0.0200]))),\n",
              " (0, ('0', tensor(0), tensor([0.5918, 0.4082]))),\n",
              " (0, ('0', tensor(0), tensor([0.8687, 0.1313]))),\n",
              " (0, ('0', tensor(0), tensor([0.9846, 0.0154]))),\n",
              " (0, ('0', tensor(0), tensor([0.8314, 0.1686]))),\n",
              " (0, ('1', tensor(1), tensor([0.3057, 0.6943]))),\n",
              " (0, ('0', tensor(0), tensor([0.9867, 0.0133]))),\n",
              " (0, ('1', tensor(1), tensor([0.4748, 0.5252]))),\n",
              " (0, ('0', tensor(0), tensor([9.9985e-01, 1.5056e-04]))),\n",
              " (0, ('1', tensor(1), tensor([0.0783, 0.9217]))),\n",
              " (0, ('0', tensor(0), tensor([9.9976e-01, 2.3610e-04]))),\n",
              " (0, ('1', tensor(1), tensor([0.4265, 0.5735]))),\n",
              " (0, ('0', tensor(0), tensor([0.9989, 0.0011]))),\n",
              " (0, ('0', tensor(0), tensor([0.5720, 0.4280]))),\n",
              " (0, ('0', tensor(0), tensor([0.7868, 0.2132]))),\n",
              " (0, ('0', tensor(0), tensor([0.9951, 0.0049]))),\n",
              " (0, ('0', tensor(0), tensor([9.9933e-01, 6.6831e-04]))),\n",
              " (0, ('0', tensor(0), tensor([0.9953, 0.0047]))),\n",
              " (0, ('0', tensor(0), tensor([0.9969, 0.0031]))),\n",
              " (0, ('0', tensor(0), tensor([0.6926, 0.3074]))),\n",
              " (0, ('1', tensor(1), tensor([0.0095, 0.9905]))),\n",
              " (0, ('0', tensor(0), tensor([9.9906e-01, 9.4321e-04]))),\n",
              " (0, ('0', tensor(0), tensor([0.6615, 0.3385]))),\n",
              " (0, ('0', tensor(0), tensor([0.9845, 0.0155]))),\n",
              " (0, ('0', tensor(0), tensor([0.7969, 0.2031]))),\n",
              " (0, ('1', tensor(1), tensor([0.3074, 0.6926]))),\n",
              " (0, ('0', tensor(0), tensor([0.9893, 0.0107]))),\n",
              " (0, ('0', tensor(0), tensor([0.9097, 0.0903]))),\n",
              " (0, ('0', tensor(0), tensor([0.9891, 0.0109]))),\n",
              " (0, ('0', tensor(0), tensor([0.9917, 0.0083]))),\n",
              " (0, ('0', tensor(0), tensor([9.9973e-01, 2.7363e-04]))),\n",
              " (0, ('0', tensor(0), tensor([9.9954e-01, 4.5710e-04]))),\n",
              " (0, ('0', tensor(0), tensor([0.9981, 0.0019]))),\n",
              " (0, ('0', tensor(0), tensor([0.9327, 0.0673]))),\n",
              " (0, ('0', tensor(0), tensor([0.9827, 0.0173]))),\n",
              " (0, ('0', tensor(0), tensor([0.9892, 0.0108]))),\n",
              " (0, ('0', tensor(0), tensor([0.9887, 0.0113]))),\n",
              " (0, ('0', tensor(0), tensor([9.9962e-01, 3.7699e-04]))),\n",
              " (0, ('1', tensor(1), tensor([2.7057e-05, 9.9997e-01]))),\n",
              " (0, ('1', tensor(1), tensor([0.0232, 0.9768]))),\n",
              " (0, ('0', tensor(0), tensor([9.9995e-01, 5.1845e-05]))),\n",
              " (0, ('0', tensor(0), tensor([0.9981, 0.0019]))),\n",
              " (0, ('0', tensor(0), tensor([9.9916e-01, 8.4017e-04]))),\n",
              " (0, ('1', tensor(1), tensor([0.3211, 0.6789]))),\n",
              " (0, ('0', tensor(0), tensor([0.9976, 0.0024]))),\n",
              " (0, ('0', tensor(0), tensor([0.7306, 0.2694]))),\n",
              " (0, ('0', tensor(0), tensor([0.9977, 0.0023]))),\n",
              " (0, ('0', tensor(0), tensor([0.8333, 0.1667]))),\n",
              " (0, ('0', tensor(0), tensor([0.5153, 0.4847]))),\n",
              " (0, ('0', tensor(0), tensor([0.9967, 0.0033]))),\n",
              " (0, ('0', tensor(0), tensor([0.9745, 0.0255]))),\n",
              " (0, ('0', tensor(0), tensor([0.7785, 0.2215]))),\n",
              " (1, ('1', tensor(1), tensor([0.3891, 0.6109]))),\n",
              " (0, ('1', tensor(1), tensor([0.4114, 0.5886]))),\n",
              " (0, ('0', tensor(0), tensor([9.9988e-01, 1.2232e-04]))),\n",
              " (0, ('0', tensor(0), tensor([0.9271, 0.0729]))),\n",
              " (0, ('1', tensor(1), tensor([1.3298e-05, 9.9999e-01]))),\n",
              " (0, ('0', tensor(0), tensor([0.9932, 0.0068]))),\n",
              " (0, ('1', tensor(1), tensor([0.3282, 0.6718]))),\n",
              " (0, ('0', tensor(0), tensor([0.9962, 0.0038]))),\n",
              " (0, ('0', tensor(0), tensor([0.8974, 0.1026]))),\n",
              " (0, ('1', tensor(1), tensor([5.8348e-04, 9.9942e-01]))),\n",
              " (0, ('1', tensor(1), tensor([0.0368, 0.9632]))),\n",
              " (0, ('0', tensor(0), tensor([9.9992e-01, 8.4112e-05]))),\n",
              " (0, ('0', tensor(0), tensor([0.9342, 0.0658]))),\n",
              " (0, ('0', tensor(0), tensor([0.9990, 0.0010]))),\n",
              " (0, ('0', tensor(0), tensor([9.9985e-01, 1.5245e-04]))),\n",
              " (0, ('0', tensor(0), tensor([0.9857, 0.0143]))),\n",
              " (0, ('0', tensor(0), tensor([0.9501, 0.0499]))),\n",
              " (0, ('0', tensor(0), tensor([0.7935, 0.2065]))),\n",
              " (0, ('0', tensor(0), tensor([0.8951, 0.1049]))),\n",
              " (0, ('0', tensor(0), tensor([0.9375, 0.0625]))),\n",
              " (0, ('1', tensor(1), tensor([0.1404, 0.8596]))),\n",
              " (0, ('1', tensor(1), tensor([0.1018, 0.8982]))),\n",
              " (0, ('0', tensor(0), tensor([0.9981, 0.0019]))),\n",
              " (0, ('0', tensor(0), tensor([0.8985, 0.1015]))),\n",
              " (0, ('0', tensor(0), tensor([0.9705, 0.0295]))),\n",
              " (0, ('0', tensor(0), tensor([9.9953e-01, 4.6525e-04]))),\n",
              " (1, ('0', tensor(0), tensor([0.5459, 0.4541]))),\n",
              " (1, ('1', tensor(1), tensor([0.0028, 0.9972]))),\n",
              " (1, ('1', tensor(1), tensor([0.0238, 0.9762]))),\n",
              " (1, ('1', tensor(1), tensor([0.0013, 0.9987]))),\n",
              " (1, ('1', tensor(1), tensor([0.3138, 0.6862]))),\n",
              " (1, ('1', tensor(1), tensor([0.0164, 0.9836]))),\n",
              " (1, ('1', tensor(1), tensor([0.0181, 0.9819]))),\n",
              " (1, ('1', tensor(1), tensor([0.4287, 0.5713]))),\n",
              " (1, ('1', tensor(1), tensor([0.0441, 0.9559]))),\n",
              " (1, ('1', tensor(1), tensor([0.0233, 0.9767]))),\n",
              " (1, ('1', tensor(1), tensor([0.0267, 0.9733]))),\n",
              " (1, ('1', tensor(1), tensor([0.4932, 0.5068]))),\n",
              " (1, ('1', tensor(1), tensor([0.3203, 0.6797]))),\n",
              " (1, ('1', tensor(1), tensor([0.1264, 0.8736]))),\n",
              " (1, ('1', tensor(1), tensor([0.0417, 0.9583]))),\n",
              " (1, ('1', tensor(1), tensor([0.0028, 0.9972]))),\n",
              " (1, ('1', tensor(1), tensor([0.0087, 0.9913]))),\n",
              " (1, ('1', tensor(1), tensor([0.0325, 0.9675]))),\n",
              " (1, ('1', tensor(1), tensor([0.0022, 0.9978]))),\n",
              " (1, ('1', tensor(1), tensor([1.7296e-04, 9.9983e-01]))),\n",
              " (1, ('1', tensor(1), tensor([1.8824e-04, 9.9981e-01]))),\n",
              " (1, ('1', tensor(1), tensor([8.8793e-05, 9.9991e-01])))]"
            ]
          },
          "metadata": {
            "tags": []
          },
          "execution_count": 32
        }
      ]
    },
    {
      "cell_type": "code",
      "metadata": {
        "colab": {
          "base_uri": "https://localhost:8080/"
        },
        "id": "fi-5bd0s46kQ",
        "outputId": "c9dd9079-5753-4bfd-bc4e-5279080a40ad"
      },
      "source": [
        "index = 3\n",
        "thd = .3\n",
        "def get_pred(index, thd): \n",
        "  predicted_one = preds[index][1][2][1].item()\n",
        "  predicted_value = 0;\n",
        "  if predicted_one > thd:\n",
        "    predicted_value = 1\n",
        "  else:\n",
        "    predicted_value = 0\n",
        "  return predicted_value\n",
        "\n",
        "preds[index][0]\n",
        "\n",
        "def getConfusion(actual_value,predicted_value):\n",
        "  if actual_value == 1 :\n",
        "    if predicted_value == 1 :\n",
        "      return 0 #TP\n",
        "    else:\n",
        "      return 1 #FN\n",
        "  else:\n",
        "    if predicted_value == 1 :\n",
        "      return 2 #FP\n",
        "    else:\n",
        "      return 3 #TN\n",
        "\n",
        "def getConfusionMatrix(thd):\n",
        "  confusion_mat = { 0:0,1:0,2:0,3:0}\n",
        "  for index,pred in enumerate(preds):\n",
        "    pred_val = get_pred(index,thd)\n",
        "    actu_val = preds[index][0]\n",
        "    result = getConfusion(actu_val,pred_val)\n",
        "    confusion_mat[result] = confusion_mat[result] + 1\n",
        "  return confusion_mat\n",
        "\n",
        "def getRecall(conf):\n",
        "  return conf[0]/(conf[0]+conf[1])\n",
        "def getPrecision(conf):\n",
        "  return conf[0]/(conf[0]+conf[2])\n",
        "def getAcc(conf):\n",
        "  return (conf[0]+conf[3])/(conf[0]+conf[1]+conf[2]+conf[3])\n",
        "\n",
        "recalls = []\n",
        "precs = []\n",
        "accs = []\n",
        "for thd in range(1,10):\n",
        "  conf = getConfusionMatrix(0.1*thd)\n",
        "  recall = getRecall(conf)\n",
        "  prec = getPrecision(conf)\n",
        "  acc = getAcc(conf)\n",
        "  recalls.append(recall)\n",
        "  precs.append(prec)\n",
        "  accs.append(acc)\n",
        "  print(f\"{conf}, recall = {recall} precision = {prec} accuracy = {acc}\")"
      ],
      "execution_count": 33,
      "outputs": [
        {
          "output_type": "stream",
          "text": [
            "{0: 23, 1: 0, 2: 33, 3: 46}, recall = 1.0 precision = 0.4107142857142857 accuracy = 0.6764705882352942\n",
            "{0: 23, 1: 0, 2: 27, 3: 52}, recall = 1.0 precision = 0.46 accuracy = 0.7352941176470589\n",
            "{0: 23, 1: 0, 2: 22, 3: 57}, recall = 1.0 precision = 0.5111111111111111 accuracy = 0.7843137254901961\n",
            "{0: 23, 1: 0, 2: 19, 3: 60}, recall = 1.0 precision = 0.5476190476190477 accuracy = 0.8137254901960784\n",
            "{0: 22, 1: 1, 2: 16, 3: 63}, recall = 0.9565217391304348 precision = 0.5789473684210527 accuracy = 0.8333333333333334\n",
            "{0: 20, 1: 3, 2: 13, 3: 66}, recall = 0.8695652173913043 precision = 0.6060606060606061 accuracy = 0.8431372549019608\n",
            "{0: 17, 1: 6, 2: 9, 3: 70}, recall = 0.7391304347826086 precision = 0.6538461538461539 accuracy = 0.8529411764705882\n",
            "{0: 17, 1: 6, 2: 9, 3: 70}, recall = 0.7391304347826086 precision = 0.6538461538461539 accuracy = 0.8529411764705882\n",
            "{0: 16, 1: 7, 2: 7, 3: 72}, recall = 0.6956521739130435 precision = 0.6956521739130435 accuracy = 0.8627450980392157\n"
          ],
          "name": "stdout"
        }
      ]
    },
    {
      "cell_type": "code",
      "metadata": {
        "colab": {
          "base_uri": "https://localhost:8080/"
        },
        "id": "x6Hqu8pq9-tN",
        "outputId": "7cf021d9-1b58-403c-ac00-b46ed55e9568"
      },
      "source": [
        "precs"
      ],
      "execution_count": 34,
      "outputs": [
        {
          "output_type": "execute_result",
          "data": {
            "text/plain": [
              "[0.4107142857142857,\n",
              " 0.46,\n",
              " 0.5111111111111111,\n",
              " 0.5476190476190477,\n",
              " 0.5789473684210527,\n",
              " 0.6060606060606061,\n",
              " 0.6538461538461539,\n",
              " 0.6538461538461539,\n",
              " 0.6956521739130435]"
            ]
          },
          "metadata": {
            "tags": []
          },
          "execution_count": 34
        }
      ]
    },
    {
      "cell_type": "code",
      "metadata": {
        "colab": {
          "base_uri": "https://localhost:8080/"
        },
        "id": "1O1FuPlZ4I2c",
        "outputId": "5d3c9a75-c7cc-4aa5-d429-12ced3289384"
      },
      "source": [
        "recalls"
      ],
      "execution_count": 35,
      "outputs": [
        {
          "output_type": "execute_result",
          "data": {
            "text/plain": [
              "[1.0,\n",
              " 1.0,\n",
              " 1.0,\n",
              " 1.0,\n",
              " 0.9565217391304348,\n",
              " 0.8695652173913043,\n",
              " 0.7391304347826086,\n",
              " 0.7391304347826086,\n",
              " 0.6956521739130435]"
            ]
          },
          "metadata": {
            "tags": []
          },
          "execution_count": 35
        }
      ]
    },
    {
      "cell_type": "code",
      "metadata": {
        "colab": {
          "base_uri": "https://localhost:8080/"
        },
        "id": "84JU2Ui94KOY",
        "outputId": "1ed613df-6c1c-4196-9515-65e75b90220e"
      },
      "source": [
        "accs"
      ],
      "execution_count": 36,
      "outputs": [
        {
          "output_type": "execute_result",
          "data": {
            "text/plain": [
              "[0.6764705882352942,\n",
              " 0.7352941176470589,\n",
              " 0.7843137254901961,\n",
              " 0.8137254901960784,\n",
              " 0.8333333333333334,\n",
              " 0.8431372549019608,\n",
              " 0.8529411764705882,\n",
              " 0.8529411764705882,\n",
              " 0.8627450980392157]"
            ]
          },
          "metadata": {
            "tags": []
          },
          "execution_count": 36
        }
      ]
    },
    {
      "cell_type": "code",
      "metadata": {
        "id": "Y_RjvnPYMJP8"
      },
      "source": [
        "import matplotlib.pyplot as plt\n",
        "import numpy as np\n",
        "import pandas as pd\n",
        "import seaborn as sns"
      ],
      "execution_count": 37,
      "outputs": []
    },
    {
      "cell_type": "code",
      "metadata": {
        "id": "lsLSQwGNKQfU"
      },
      "source": [
        "sns.set_style('darkgrid')"
      ],
      "execution_count": 38,
      "outputs": []
    },
    {
      "cell_type": "code",
      "metadata": {
        "id": "2jKFlf0RO79y",
        "colab": {
          "base_uri": "https://localhost:8080/",
          "height": 391
        },
        "outputId": "d550e4ee-7bd8-4d4e-e99e-2d75d76fefbb"
      },
      "source": [
        "plt.figure(figsize=(10,6))\n",
        "sns.lineplot(data=recalls)\n",
        "sns.lineplot(data=precs)\n",
        "sns.lineplot(data=accs)\n",
        "plt.legend(labels=['recall', 'precision', 'accuracy'])\n",
        "\n",
        "# goal: maximize recall\n",
        "# best threshold: 0.4 - 0.5"
      ],
      "execution_count": 39,
      "outputs": [
        {
          "output_type": "execute_result",
          "data": {
            "text/plain": [
              "<matplotlib.legend.Legend at 0x7f23f5837490>"
            ]
          },
          "metadata": {
            "tags": []
          },
          "execution_count": 39
        },
        {
          "output_type": "display_data",
          "data": {
            "image/png": "[encoded data removed]",
            "text/plain": [
              "<Figure size 720x432 with 1 Axes>"
            ]
          },
          "metadata": {
            "tags": []
          }
        }
      ]
    },
    {
      "cell_type": "code",
      "metadata": {
        "id": "WMpojrneEZbx"
      },
      "source": [
        "def get_pred(index, thd): # get predictions function\n",
        "  # best thresholds are 0.5 and 0.4 (want to minimize recall while also having a bit of a balance between accuracy and precision)\n",
        "  predicted_one = preds[index][1][2][1].item()\n",
        "  predicted_value = 0;\n",
        "  if predicted_one > thd:\n",
        "    predicted_value = 1\n",
        "  else:\n",
        "    predicted_value = 0\n",
        "  return predicted_value"
      ],
      "execution_count": 40,
      "outputs": []
    },
    {
      "cell_type": "code",
      "metadata": {
        "colab": {
          "base_uri": "https://localhost:8080/"
        },
        "id": "M-7HgP0_CEsa",
        "outputId": "fac6ae34-e483-42cf-83f4-6618cc75ac6c"
      },
      "source": [
        "get_pred(3,0.4)"
      ],
      "execution_count": 41,
      "outputs": [
        {
          "output_type": "execute_result",
          "data": {
            "text/plain": [
              "1"
            ]
          },
          "metadata": {
            "tags": []
          },
          "execution_count": 41
        }
      ]
    },
    {
      "cell_type": "markdown",
      "metadata": {
        "id": "whwBblN7lJ29"
      },
      "source": [
        "## Creating an Interactive Application"
      ]
    },
    {
      "cell_type": "markdown",
      "metadata": {
        "id": "CL7cRZspugq5"
      },
      "source": [
        "Our model can easily be put to use with ipython widgets. All code from here is from the [Fastbook - Chapter 2 (Production)](https://github.com/fastai/fastbook). \n",
        "\n",
        "\n",
        " "
      ]
    },
    {
      "cell_type": "code",
      "metadata": {
        "id": "UEH5QWuK4Qu7"
      },
      "source": [
        "from ipywidgets import Button, HBox, VBox\n",
        "import ipywidgets as widgets\n",
        "from IPython.display import display"
      ],
      "execution_count": 42,
      "outputs": []
    },
    {
      "cell_type": "code",
      "metadata": {
        "colab": {
          "base_uri": "https://localhost:8080/",
          "height": 61,
          "referenced_widgets": [
            "a79dc48414154a30ad065bab82b70fc0",
            "b577238f75564dcdb8a06618252f2530",
            "a1d926ad2c664e98876cdc69ebfb232c"
          ]
        },
        "id": "7LUwma4087nJ",
        "outputId": "fa2af139-80fb-40ef-fb76-a286d8db32d3"
      },
      "source": [
        "btn_upload = widgets.FileUpload(layout=widgets.Layout(width='%10', height='40px'),\n",
        "    style= {'button_color': 'lightblue'})\n",
        "btn_upload"
      ],
      "execution_count": 43,
      "outputs": [
        {
          "output_type": "display_data",
          "data": {
            "application/vnd.jupyter.widget-view+json": {
              "model_id": "a79dc48414154a30ad065bab82b70fc0",
              "version_minor": 0,
              "version_major": 2
            },
            "text/plain": [
              "FileUpload(value={}, description='Upload', layout=Layout(height='40px', width='%10'), style=ButtonStyle(button…"
            ]
          },
          "metadata": {
            "tags": []
          }
        }
      ]
    },
    {
      "cell_type": "code",
      "metadata": {
        "id": "h-QbwU-ndYdF"
      },
      "source": [
        "btn_upload = SimpleNamespace(data = ['/content/gdrive/My Drive/Colab Notebooks/cancer_detection/test1/ISIC_3609081.jpg'])"
      ],
      "execution_count": 44,
      "outputs": []
    },
    {
      "cell_type": "code",
      "metadata": {
        "id": "CkD9cPx0eWYG"
      },
      "source": [
        "img = PILImage.create(btn_upload.data[-1])"
      ],
      "execution_count": 45,
      "outputs": []
    },
    {
      "cell_type": "code",
      "metadata": {
        "colab": {
          "base_uri": "https://localhost:8080/",
          "height": 102,
          "referenced_widgets": [
            "7a97dcd9d7f1477589114c7d1fc445a3",
            "c9d22a5c404046cd9249ff687d818f32"
          ]
        },
        "id": "_hIKRxcYeY86",
        "outputId": "44023fe4-d61e-46dd-8ae2-2ca3b6eeee7c"
      },
      "source": [
        "out_pl = widgets.Output()\n",
        "out_pl.clear_output()\n",
        "with out_pl: display(img.to_thumb(128,128))\n",
        "out_pl"
      ],
      "execution_count": 46,
      "outputs": [
        {
          "output_type": "display_data",
          "data": {
            "application/vnd.jupyter.widget-view+json": {
              "model_id": "7a97dcd9d7f1477589114c7d1fc445a3",
              "version_minor": 0,
              "version_major": 2
            },
            "text/plain": [
              "Output()"
            ]
          },
          "metadata": {
            "tags": []
          }
        }
      ]
    },
    {
      "cell_type": "code",
      "metadata": {
        "colab": {
          "base_uri": "https://localhost:8080/",
          "height": 17
        },
        "id": "3jdVyLVxhAZ1",
        "outputId": "b60c2365-7d32-422f-eb05-8d2c10875c0b"
      },
      "source": [
        "pred,pred_idx,probs = predictor.predict(img)"
      ],
      "execution_count": 47,
      "outputs": [
        {
          "output_type": "display_data",
          "data": {
            "text/html": [
              ""
            ],
            "text/plain": [
              "<IPython.core.display.HTML object>"
            ]
          },
          "metadata": {
            "tags": []
          }
        }
      ]
    },
    {
      "cell_type": "code",
      "metadata": {
        "colab": {
          "base_uri": "https://localhost:8080/",
          "height": 49,
          "referenced_widgets": [
            "ffa323c2f7e54b269f883d5a97f9bbc4",
            "85b2a1e294dc4630aad097e849fffef9",
            "a8d9b5aff2bc4178bf1a27e29398cfb2"
          ]
        },
        "id": "8wodPSyShDJ1",
        "outputId": "aaecdea4-3815-4452-f682-cadb8a09960d"
      },
      "source": [
        "lbl_pred = widgets.Label()\n",
        "lbl_pred.value = f'Prediction: {pred}; Probability: {probs[pred_idx]:.04f}'\n",
        "lbl_pred"
      ],
      "execution_count": 48,
      "outputs": [
        {
          "output_type": "display_data",
          "data": {
            "application/vnd.jupyter.widget-view+json": {
              "model_id": "ffa323c2f7e54b269f883d5a97f9bbc4",
              "version_minor": 0,
              "version_major": 2
            },
            "text/plain": [
              "Label(value='Prediction: 0; Probability: 0.9893')"
            ]
          },
          "metadata": {
            "tags": []
          }
        }
      ]
    },
    {
      "cell_type": "code",
      "metadata": {
        "colab": {
          "base_uri": "https://localhost:8080/",
          "height": 61,
          "referenced_widgets": [
            "93d58677fd9043d98a9a7df5f29402de",
            "6ef5084d2c4746f2a69619492df6cad5",
            "316ca1084a014f60b06feb9dbe8e659d"
          ]
        },
        "id": "Gg7HB30YhG3U",
        "outputId": "8b386a70-03fc-4c80-cefc-c09e17bc5e3b"
      },
      "source": [
        "btn_run = widgets.Button(description='Classify', layout=widgets.Layout(width='%10', height='40px'),style= {'button_color': 'lightgreen'})\n",
        "btn_run"
      ],
      "execution_count": 49,
      "outputs": [
        {
          "output_type": "display_data",
          "data": {
            "application/vnd.jupyter.widget-view+json": {
              "model_id": "93d58677fd9043d98a9a7df5f29402de",
              "version_minor": 0,
              "version_major": 2
            },
            "text/plain": [
              "Button(description='Classify', layout=Layout(height='40px', width='%10'), style=ButtonStyle(button_color='ligh…"
            ]
          },
          "metadata": {
            "tags": []
          }
        }
      ]
    },
    {
      "cell_type": "code",
      "metadata": {
        "id": "UVCz6cR9hG97"
      },
      "source": [
        "def on_click_classify(change):\n",
        "    img = PILImage.create(btn_upload.data[-1])\n",
        "    out_pl.clear_output()\n",
        "    with out_pl: display(img.to_thumb(128,128))\n",
        "    pred,pred_idx,probs = predictor.predict(img)\n",
        "    lbl_pred.value = f'Prediction: {pred}; Probability: {probs[pred_idx]:.04f}'\n",
        "\n",
        "btn_run.on_click(on_click_classify)"
      ],
      "execution_count": 50,
      "outputs": []
    },
    {
      "cell_type": "code",
      "metadata": {
        "id": "rA-FaNu_hHAC"
      },
      "source": [
        "btn_upload = widgets.FileUpload(layout=widgets.Layout(width='%10', height='40px'),\n",
        "    style= {'button_color': 'lightblue'})"
      ],
      "execution_count": 51,
      "outputs": []
    },
    {
      "cell_type": "code",
      "metadata": {
        "colab": {
          "base_uri": "https://localhost:8080/",
          "height": 254,
          "referenced_widgets": [
            "16026c2377674839ad40776052a22052",
            "24469dc5bd2447af8ae7aabeef804aae",
            "0e0999e90dd84019902056c3e04529be",
            "f09bd888ca97483ba1e2522fdd3de65f",
            "93d58677fd9043d98a9a7df5f29402de",
            "7a97dcd9d7f1477589114c7d1fc445a3",
            "ffa323c2f7e54b269f883d5a97f9bbc4",
            "2ae0039b41ab44a7a8b8ad1fe552add9",
            "73a97b34d4c84b4ab17af614c2dbe907",
            "c34e8642fea0485f91ba0a08928254e1",
            "63d7e3a952704ef096575cad597509af",
            "6ef5084d2c4746f2a69619492df6cad5",
            "316ca1084a014f60b06feb9dbe8e659d",
            "85b2a1e294dc4630aad097e849fffef9",
            "a8d9b5aff2bc4178bf1a27e29398cfb2",
            "c9d22a5c404046cd9249ff687d818f32"
          ]
        },
        "id": "sVqUAdMGiRhx",
        "outputId": "4b498437-5984-4844-d7c4-fa279f6c058e"
      },
      "source": [
        "display_pred = VBox([widgets.Label('Select your image'), \n",
        "      btn_upload, btn_run, out_pl, lbl_pred])\n",
        "display_pred\n",
        "# model predicted benign (this image is from an unused test set)\n",
        "# open notebook with collab to use the widget"
      ],
      "execution_count": 61,
      "outputs": [
        {
          "output_type": "display_data",
          "data": {
            "application/vnd.jupyter.widget-view+json": {
              "model_id": "16026c2377674839ad40776052a22052",
              "version_minor": 0,
              "version_major": 2
            },
            "text/plain": [
              "VBox(children=(Label(value='Select your image'), FileUpload(value={}, description='Upload', layout=Layout(heig…"
            ]
          },
          "metadata": {
            "tags": []
          }
        }
      ]
    },
    {
      "cell_type": "markdown",
      "metadata": {
        "id": "8MmsejIWRJaP"
      },
      "source": [
        "![Screen Shot 2021-07-16 at 2.40.50 PM.png](data:image/png;base64,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)"
      ]
    },
    {
      "cell_type": "code",
      "metadata": {
        "colab": {
          "base_uri": "https://localhost:8080/",
          "height": 1000
        },
        "id": "PSasiiGA0L7U",
        "outputId": "e8abec1d-110b-4e74-b4ca-47c553679f75"
      },
      "source": [
        "!pip install voila\n",
        "!jupyter serverextension enable --sys-prefix voila"
      ],
      "execution_count": null,
      "outputs": [
        {
          "output_type": "stream",
          "text": [
            "Collecting voila\n",
            "\u001b[?25l  Downloading https://files.pythonhosted.org/packages/5d/35/cf7d765edd2b48838ac69ff0435cec594bdd8a44329fb21a86a6d7e4c584/voila-0.2.10-py3-none-any.whl (1.6MB)\n",
            "\u001b[K     |████████████████████████████████| 1.6MB 5.2MB/s \n",
            "\u001b[?25hCollecting jupyter-server<2.0.0,>=0.3.0\n",
            "\u001b[?25l  Downloading https://files.pythonhosted.org/packages/29/b7/7377d007118f7798b21362a6c0a0bf20c93cdc19345105276a862e1263d6/jupyter_server-1.9.0-py3-none-any.whl (389kB)\n",
            "\u001b[K     |████████████████████████████████| 399kB 20.9MB/s \n",
            "\u001b[?25hCollecting jupyter-client<7,>=6.1.3\n",
            "\u001b[?25l  Downloading https://files.pythonhosted.org/packages/77/e8/c3cf72a32a697256608d5fa96360c431adec6e1c6709ba7f13f99ff5ee04/jupyter_client-6.1.12-py3-none-any.whl (112kB)\n",
            "\u001b[K     |████████████████████████████████| 122kB 29.9MB/s \n",
            "\u001b[?25hRequirement already satisfied: nbclient<0.6,>=0.4.0 in /usr/local/lib/python3.7/dist-packages (from voila) (0.5.3)\n",
            "Collecting nbconvert<7,>=6.0.0\n",
            "\u001b[?25l  Downloading https://files.pythonhosted.org/packages/fd/12/7b225ea00a5fe32df30b2c303dcc8c21c8db533ea7c0e38b4ac5a41bd8f0/nbconvert-6.1.0-py3-none-any.whl (551kB)\n",
            "\u001b[K     |████████████████████████████████| 552kB 25.1MB/s \n",
            "\u001b[?25hCollecting websocket-client\n",
            "\u001b[?25l  Downloading https://files.pythonhosted.org/packages/ca/5f/3c211d168b2e9f9342cfb53bcfc26aab0eac63b998015e7af7bcae66119d/websocket_client-1.1.0-py2.py3-none-any.whl (68kB)\n",
            "\u001b[K     |████████████████████████████████| 71kB 8.3MB/s \n",
            "\u001b[?25hRequirement already satisfied: ipython-genutils in /usr/local/lib/python3.7/dist-packages (from jupyter-server<2.0.0,>=0.3.0->voila) (0.2.0)\n",
            "Collecting tornado>=6.1.0\n",
            "\u001b[?25l  Downloading https://files.pythonhosted.org/packages/91/a8/9c5902233fa3c2e6a889cbd164333ddda5009669f494e3fadbeee2c03af5/tornado-6.1-cp37-cp37m-manylinux2010_x86_64.whl (428kB)\n",
            "\u001b[K     |████████████████████████████████| 430kB 31.2MB/s \n",
            "\u001b[?25hCollecting requests-unixsocket\n",
            "  Downloading https://files.pythonhosted.org/packages/d0/63/97662a6f7175c08381447a09f6bc35464075f0ea6549cf6daf2668b51f04/requests_unixsocket-0.2.0-py2.py3-none-any.whl\n",
            "Requirement already satisfied: nbformat in /usr/local/lib/python3.7/dist-packages (from jupyter-server<2.0.0,>=0.3.0->voila) (5.1.3)\n",
            "Requirement already satisfied: jinja2 in /usr/local/lib/python3.7/dist-packages (from jupyter-server<2.0.0,>=0.3.0->voila) (2.11.3)\n",
            "Requirement already satisfied: pyzmq>=17 in /usr/local/lib/python3.7/dist-packages (from jupyter-server<2.0.0,>=0.3.0->voila) (22.1.0)\n",
            "Requirement already satisfied: traitlets>=4.2.1 in /usr/local/lib/python3.7/dist-packages (from jupyter-server<2.0.0,>=0.3.0->voila) (5.0.5)\n",
            "Requirement already satisfied: jupyter-core>=4.6.0 in /usr/local/lib/python3.7/dist-packages (from jupyter-server<2.0.0,>=0.3.0->voila) (4.7.1)\n",
            "Requirement already satisfied: prometheus-client in /usr/local/lib/python3.7/dist-packages (from jupyter-server<2.0.0,>=0.3.0->voila) (0.11.0)\n",
            "Requirement already satisfied: argon2-cffi in /usr/local/lib/python3.7/dist-packages (from jupyter-server<2.0.0,>=0.3.0->voila) (20.1.0)\n",
            "Requirement already satisfied: Send2Trash in /usr/local/lib/python3.7/dist-packages (from jupyter-server<2.0.0,>=0.3.0->voila) (1.7.1)\n",
            "Collecting anyio<4,>=3.1.0\n",
            "\u001b[?25l  Downloading https://files.pythonhosted.org/packages/5a/8c/6712b0aebe9b250736ec5dde99883b143290b49ecc2310eb583577e316aa/anyio-3.2.1-py3-none-any.whl (75kB)\n",
            "\u001b[K     |████████████████████████████████| 81kB 9.0MB/s \n",
            "\u001b[?25hRequirement already satisfied: terminado>=0.8.3 in /usr/local/lib/python3.7/dist-packages (from jupyter-server<2.0.0,>=0.3.0->voila) (0.10.1)\n",
            "Requirement already satisfied: python-dateutil>=2.1 in /usr/local/lib/python3.7/dist-packages (from jupyter-client<7,>=6.1.3->voila) (2.8.1)\n",
            "Requirement already satisfied: nest-asyncio in /usr/local/lib/python3.7/dist-packages (from nbclient<0.6,>=0.4.0->voila) (1.5.1)\n",
            "Requirement already satisfied: async-generator in /usr/local/lib/python3.7/dist-packages (from nbclient<0.6,>=0.4.0->voila) (1.10)\n",
            "Requirement already satisfied: pandocfilters>=1.4.1 in /usr/local/lib/python3.7/dist-packages (from nbconvert<7,>=6.0.0->voila) (1.4.3)\n",
            "Requirement already satisfied: pygments>=2.4.1 in /usr/local/lib/python3.7/dist-packages (from nbconvert<7,>=6.0.0->voila) (2.6.1)\n",
            "Requirement already satisfied: mistune<2,>=0.8.1 in /usr/local/lib/python3.7/dist-packages (from nbconvert<7,>=6.0.0->voila) (0.8.4)\n",
            "Requirement already satisfied: defusedxml in /usr/local/lib/python3.7/dist-packages (from nbconvert<7,>=6.0.0->voila) (0.7.1)\n",
            "Requirement already satisfied: bleach in /usr/local/lib/python3.7/dist-packages (from nbconvert<7,>=6.0.0->voila) (3.3.0)\n",
            "Requirement already satisfied: jupyterlab-pygments in /usr/local/lib/python3.7/dist-packages (from nbconvert<7,>=6.0.0->voila) (0.1.2)\n",
            "Requirement already satisfied: entrypoints>=0.2.2 in /usr/local/lib/python3.7/dist-packages (from nbconvert<7,>=6.0.0->voila) (0.3)\n",
            "Requirement already satisfied: testpath in /usr/local/lib/python3.7/dist-packages (from nbconvert<7,>=6.0.0->voila) (0.5.0)\n",
            "Requirement already satisfied: requests>=1.1 in /usr/local/lib/python3.7/dist-packages (from requests-unixsocket->jupyter-server<2.0.0,>=0.3.0->voila) (2.23.0)\n",
            "Requirement already satisfied: urllib3>=1.8 in /usr/local/lib/python3.7/dist-packages (from requests-unixsocket->jupyter-server<2.0.0,>=0.3.0->voila) (1.24.3)\n",
            "Requirement already satisfied: jsonschema!=2.5.0,>=2.4 in /usr/local/lib/python3.7/dist-packages (from nbformat->jupyter-server<2.0.0,>=0.3.0->voila) (2.6.0)\n",
            "Requirement already satisfied: MarkupSafe>=0.23 in /usr/local/lib/python3.7/dist-packages (from jinja2->jupyter-server<2.0.0,>=0.3.0->voila) (2.0.1)\n",
            "Requirement already satisfied: cffi>=1.0.0 in /usr/local/lib/python3.7/dist-packages (from argon2-cffi->jupyter-server<2.0.0,>=0.3.0->voila) (1.14.6)\n",
            "Requirement already satisfied: six in /usr/local/lib/python3.7/dist-packages (from argon2-cffi->jupyter-server<2.0.0,>=0.3.0->voila) (1.15.0)\n",
            "Collecting sniffio>=1.1\n",
            "  Downloading https://files.pythonhosted.org/packages/52/b0/7b2e028b63d092804b6794595871f936aafa5e9322dcaaad50ebf67445b3/sniffio-1.2.0-py3-none-any.whl\n",
            "Requirement already satisfied: typing-extensions; python_version < \"3.8\" in /usr/local/lib/python3.7/dist-packages (from anyio<4,>=3.1.0->jupyter-server<2.0.0,>=0.3.0->voila) (3.7.4.3)\n",
            "Requirement already satisfied: idna>=2.8 in /usr/local/lib/python3.7/dist-packages (from anyio<4,>=3.1.0->jupyter-server<2.0.0,>=0.3.0->voila) (2.10)\n",
            "Requirement already satisfied: ptyprocess; os_name != \"nt\" in /usr/local/lib/python3.7/dist-packages (from terminado>=0.8.3->jupyter-server<2.0.0,>=0.3.0->voila) (0.7.0)\n",
            "Requirement already satisfied: packaging in /usr/local/lib/python3.7/dist-packages (from bleach->nbconvert<7,>=6.0.0->voila) (21.0)\n",
            "Requirement already satisfied: webencodings in /usr/local/lib/python3.7/dist-packages (from bleach->nbconvert<7,>=6.0.0->voila) (0.5.1)\n",
            "Requirement already satisfied: chardet<4,>=3.0.2 in /usr/local/lib/python3.7/dist-packages (from requests>=1.1->requests-unixsocket->jupyter-server<2.0.0,>=0.3.0->voila) (3.0.4)\n",
            "Requirement already satisfied: certifi>=2017.4.17 in /usr/local/lib/python3.7/dist-packages (from requests>=1.1->requests-unixsocket->jupyter-server<2.0.0,>=0.3.0->voila) (2021.5.30)\n",
            "Requirement already satisfied: pycparser in /usr/local/lib/python3.7/dist-packages (from cffi>=1.0.0->argon2-cffi->jupyter-server<2.0.0,>=0.3.0->voila) (2.20)\n",
            "Requirement already satisfied: pyparsing>=2.0.2 in /usr/local/lib/python3.7/dist-packages (from packaging->bleach->nbconvert<7,>=6.0.0->voila) (2.4.7)\n",
            "\u001b[31mERROR: nbdev 1.1.14 has requirement nbconvert<6, but you'll have nbconvert 6.1.0 which is incompatible.\u001b[0m\n",
            "\u001b[31mERROR: google-colab 1.0.0 has requirement tornado~=5.1.0; python_version >= \"3.0\", but you'll have tornado 6.1 which is incompatible.\u001b[0m\n",
            "Installing collected packages: tornado, jupyter-client, websocket-client, requests-unixsocket, nbconvert, sniffio, anyio, jupyter-server, voila\n",
            "  Found existing installation: tornado 5.1.1\n",
            "    Uninstalling tornado-5.1.1:\n",
            "      Successfully uninstalled tornado-5.1.1\n",
            "  Found existing installation: jupyter-client 5.3.5\n",
            "    Uninstalling jupyter-client-5.3.5:\n",
            "      Successfully uninstalled jupyter-client-5.3.5\n",
            "  Found existing installation: nbconvert 5.6.1\n",
            "    Uninstalling nbconvert-5.6.1:\n",
            "      Successfully uninstalled nbconvert-5.6.1\n",
            "Successfully installed anyio-3.2.1 jupyter-client-6.1.12 jupyter-server-1.9.0 nbconvert-6.1.0 requests-unixsocket-0.2.0 sniffio-1.2.0 tornado-6.1 voila-0.2.10 websocket-client-1.1.0\n"
          ],
          "name": "stdout"
        },
        {
          "output_type": "display_data",
          "data": {
            "application/vnd.colab-display-data+json": {
              "pip_warning": {
                "packages": [
                  "jupyter_client",
                  "nbconvert",
                  "tornado"
                ]
              }
            }
          },
          "metadata": {
            "tags": []
          }
        },
        {
          "output_type": "stream",
          "text": [
            "Enabling: voila\n",
            "- Writing config: /usr/etc/jupyter\n",
            "    - Validating...\n",
            "Error loading server extension voila\n",
            "     \u001b[31m X\u001b[0m is voila importable?\n"
          ],
          "name": "stdout"
        }
      ]
    },
    {
      "cell_type": "code",
      "metadata": {
        "id": "BnavkqoW0MqA"
      },
      "source": [
        ""
      ],
      "execution_count": null,
      "outputs": []
    }
  ]
}