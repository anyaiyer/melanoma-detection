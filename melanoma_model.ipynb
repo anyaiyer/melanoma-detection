{
  "nbformat": 4,
  "nbformat_minor": 0,
  "metadata": {
    "colab": {
      "name": "melanoma_model.ipynb",
      "provenance": [],
      "collapsed_sections": [],
      "authorship_tag": "ABX9TyMFPB2IT/oco/j7QsINePqW",
      "include_colab_link": true
    },
    "kernelspec": {
      "display_name": "Python 3",
      "name": "python3"
    },
    "language_info": {
      "name": "python"
    },
    "widgets": {
      "application/vnd.jupyter.widget-state+json": {
        "0066fd2ba0e04af9b7b1c5f8f940537d": {
          "model_module": "@jupyter-widgets/controls",
          "model_name": "VBoxModel",
          "state": {
            "_view_name": "VBoxView",
            "_dom_classes": [],
            "_model_name": "VBoxModel",
            "_view_module": "@jupyter-widgets/controls",
            "_model_module_version": "1.5.0",
            "_view_count": null,
            "_view_module_version": "1.5.0",
            "box_style": "",
            "layout": "IPY_MODEL_5668184ee0724029a0b7c31bade26bb5",
            "_model_module": "@jupyter-widgets/controls",
            "children": [
              "IPY_MODEL_c6214796baff4733bb8acb6db8a7d16c",
              "IPY_MODEL_b449eb3796aa443dbc74c81e7b71c67b",
              "IPY_MODEL_3aba1a2f931a468d82f883c93324c938",
              "IPY_MODEL_389710dc67be4f40957a09f90d1d6cde",
              "IPY_MODEL_94b217ca392c4c76b41dbb4501e5fede"
            ]
          }
        },
        "5668184ee0724029a0b7c31bade26bb5": {
          "model_module": "@jupyter-widgets/base",
          "model_name": "LayoutModel",
          "state": {
            "_view_name": "LayoutView",
            "grid_template_rows": null,
            "right": null,
            "justify_content": null,
            "_view_module": "@jupyter-widgets/base",
            "overflow": null,
            "_model_module_version": "1.2.0",
            "_view_count": null,
            "flex_flow": null,
            "width": null,
            "min_width": null,
            "border": null,
            "align_items": null,
            "bottom": null,
            "_model_module": "@jupyter-widgets/base",
            "top": null,
            "grid_column": null,
            "overflow_y": null,
            "overflow_x": null,
            "grid_auto_flow": null,
            "grid_area": null,
            "grid_template_columns": null,
            "flex": null,
            "_model_name": "LayoutModel",
            "justify_items": null,
            "grid_row": null,
            "max_height": null,
            "align_content": null,
            "visibility": null,
            "align_self": null,
            "height": null,
            "min_height": null,
            "padding": null,
            "grid_auto_rows": null,
            "grid_gap": null,
            "max_width": null,
            "order": null,
            "_view_module_version": "1.2.0",
            "grid_template_areas": null,
            "object_position": null,
            "object_fit": null,
            "grid_auto_columns": null,
            "margin": null,
            "display": null,
            "left": null
          }
        },
        "c6214796baff4733bb8acb6db8a7d16c": {
          "model_module": "@jupyter-widgets/controls",
          "model_name": "LabelModel",
          "state": {
            "_view_name": "LabelView",
            "style": "IPY_MODEL_f2ac83104dd0445ebfeaba81c518a608",
            "_dom_classes": [],
            "description": "",
            "_model_name": "LabelModel",
            "placeholder": "​",
            "_view_module": "@jupyter-widgets/controls",
            "_model_module_version": "1.5.0",
            "value": "Select your image",
            "_view_count": null,
            "_view_module_version": "1.5.0",
            "description_tooltip": null,
            "_model_module": "@jupyter-widgets/controls",
            "layout": "IPY_MODEL_0e43cdfb981c4ef690417207e7708ee1"
          }
        },
        "b449eb3796aa443dbc74c81e7b71c67b": {
          "model_module": "@jupyter-widgets/controls",
          "model_name": "FileUploadModel",
          "state": {
            "_view_name": "FileUploadView",
            "_counter": 0,
            "style": "IPY_MODEL_da3948711da840538a8f3bc183d4a455",
            "_dom_classes": [],
            "description": "Upload",
            "multiple": false,
            "_model_name": "FileUploadModel",
            "data": [],
            "button_style": "",
            "_view_module": "@jupyter-widgets/controls",
            "_model_module_version": "1.5.0",
            "accept": "",
            "_view_count": null,
            "disabled": false,
            "_view_module_version": "1.5.0",
            "error": "",
            "description_tooltip": null,
            "metadata": [],
            "_model_module": "@jupyter-widgets/controls",
            "layout": "IPY_MODEL_b3bc54dfdced425eb4017c2420e2e9d9",
            "icon": "upload"
          }
        },
        "3aba1a2f931a468d82f883c93324c938": {
          "model_module": "@jupyter-widgets/controls",
          "model_name": "ButtonModel",
          "state": {
            "_view_name": "ButtonView",
            "style": "IPY_MODEL_1ef1e291e9a04cb89ed56cff2436c014",
            "_dom_classes": [],
            "description": "Classify",
            "_model_name": "ButtonModel",
            "button_style": "",
            "_view_module": "@jupyter-widgets/controls",
            "_model_module_version": "1.5.0",
            "tooltip": "",
            "_view_count": null,
            "disabled": false,
            "_view_module_version": "1.5.0",
            "layout": "IPY_MODEL_98d5212a2c954d37ab5a543173dbe1ca",
            "_model_module": "@jupyter-widgets/controls",
            "icon": ""
          }
        },
        "389710dc67be4f40957a09f90d1d6cde": {
          "model_module": "@jupyter-widgets/output",
          "model_name": "OutputModel",
          "state": {
            "_view_name": "OutputView",
            "msg_id": "",
            "_dom_classes": [],
            "_model_name": "OutputModel",
            "outputs": [],
            "_view_module": "@jupyter-widgets/output",
            "_model_module_version": "1.0.0",
            "_view_count": null,
            "_view_module_version": "1.0.0",
            "layout": "IPY_MODEL_4fb960c80d164eefb1cf8b2757e9347a",
            "_model_module": "@jupyter-widgets/output"
          }
        },
        "94b217ca392c4c76b41dbb4501e5fede": {
          "model_module": "@jupyter-widgets/controls",
          "model_name": "LabelModel",
          "state": {
            "_view_name": "LabelView",
            "style": "IPY_MODEL_0f4a93efb48449449a8bb742f41a4f58",
            "_dom_classes": [],
            "description": "",
            "_model_name": "LabelModel",
            "placeholder": "​",
            "_view_module": "@jupyter-widgets/controls",
            "_model_module_version": "1.5.0",
            "value": "Prediction: 0; Probability: 0.9893",
            "_view_count": null,
            "_view_module_version": "1.5.0",
            "description_tooltip": null,
            "_model_module": "@jupyter-widgets/controls",
            "layout": "IPY_MODEL_66d3a24a0ff54ffa8d0f817b479b773b"
          }
        },
        "f2ac83104dd0445ebfeaba81c518a608": {
          "model_module": "@jupyter-widgets/controls",
          "model_name": "DescriptionStyleModel",
          "state": {
            "_view_name": "StyleView",
            "_model_name": "DescriptionStyleModel",
            "description_width": "",
            "_view_module": "@jupyter-widgets/base",
            "_model_module_version": "1.5.0",
            "_view_count": null,
            "_view_module_version": "1.2.0",
            "_model_module": "@jupyter-widgets/controls"
          }
        },
        "0e43cdfb981c4ef690417207e7708ee1": {
          "model_module": "@jupyter-widgets/base",
          "model_name": "LayoutModel",
          "state": {
            "_view_name": "LayoutView",
            "grid_template_rows": null,
            "right": null,
            "justify_content": null,
            "_view_module": "@jupyter-widgets/base",
            "overflow": null,
            "_model_module_version": "1.2.0",
            "_view_count": null,
            "flex_flow": null,
            "width": null,
            "min_width": null,
            "border": null,
            "align_items": null,
            "bottom": null,
            "_model_module": "@jupyter-widgets/base",
            "top": null,
            "grid_column": null,
            "overflow_y": null,
            "overflow_x": null,
            "grid_auto_flow": null,
            "grid_area": null,
            "grid_template_columns": null,
            "flex": null,
            "_model_name": "LayoutModel",
            "justify_items": null,
            "grid_row": null,
            "max_height": null,
            "align_content": null,
            "visibility": null,
            "align_self": null,
            "height": null,
            "min_height": null,
            "padding": null,
            "grid_auto_rows": null,
            "grid_gap": null,
            "max_width": null,
            "order": null,
            "_view_module_version": "1.2.0",
            "grid_template_areas": null,
            "object_position": null,
            "object_fit": null,
            "grid_auto_columns": null,
            "margin": null,
            "display": null,
            "left": null
          }
        },
        "da3948711da840538a8f3bc183d4a455": {
          "model_module": "@jupyter-widgets/controls",
          "model_name": "ButtonStyleModel",
          "state": {
            "_view_name": "StyleView",
            "_model_name": "ButtonStyleModel",
            "_view_module": "@jupyter-widgets/base",
            "_model_module_version": "1.5.0",
            "_view_count": null,
            "button_color": "lightblue",
            "font_weight": "",
            "_view_module_version": "1.2.0",
            "_model_module": "@jupyter-widgets/controls"
          }
        },
        "b3bc54dfdced425eb4017c2420e2e9d9": {
          "model_module": "@jupyter-widgets/base",
          "model_name": "LayoutModel",
          "state": {
            "_view_name": "LayoutView",
            "grid_template_rows": null,
            "right": null,
            "justify_content": null,
            "_view_module": "@jupyter-widgets/base",
            "overflow": null,
            "_model_module_version": "1.2.0",
            "_view_count": null,
            "flex_flow": null,
            "width": "%10",
            "min_width": null,
            "border": null,
            "align_items": null,
            "bottom": null,
            "_model_module": "@jupyter-widgets/base",
            "top": null,
            "grid_column": null,
            "overflow_y": null,
            "overflow_x": null,
            "grid_auto_flow": null,
            "grid_area": null,
            "grid_template_columns": null,
            "flex": null,
            "_model_name": "LayoutModel",
            "justify_items": null,
            "grid_row": null,
            "max_height": null,
            "align_content": null,
            "visibility": null,
            "align_self": null,
            "height": "40px",
            "min_height": null,
            "padding": null,
            "grid_auto_rows": null,
            "grid_gap": null,
            "max_width": null,
            "order": null,
            "_view_module_version": "1.2.0",
            "grid_template_areas": null,
            "object_position": null,
            "object_fit": null,
            "grid_auto_columns": null,
            "margin": null,
            "display": null,
            "left": null
          }
        },
        "1ef1e291e9a04cb89ed56cff2436c014": {
          "model_module": "@jupyter-widgets/controls",
          "model_name": "ButtonStyleModel",
          "state": {
            "_view_name": "StyleView",
            "_model_name": "ButtonStyleModel",
            "_view_module": "@jupyter-widgets/base",
            "_model_module_version": "1.5.0",
            "_view_count": null,
            "button_color": "lightgreen",
            "font_weight": "",
            "_view_module_version": "1.2.0",
            "_model_module": "@jupyter-widgets/controls"
          }
        },
        "98d5212a2c954d37ab5a543173dbe1ca": {
          "model_module": "@jupyter-widgets/base",
          "model_name": "LayoutModel",
          "state": {
            "_view_name": "LayoutView",
            "grid_template_rows": null,
            "right": null,
            "justify_content": null,
            "_view_module": "@jupyter-widgets/base",
            "overflow": null,
            "_model_module_version": "1.2.0",
            "_view_count": null,
            "flex_flow": null,
            "width": "%10",
            "min_width": null,
            "border": null,
            "align_items": null,
            "bottom": null,
            "_model_module": "@jupyter-widgets/base",
            "top": null,
            "grid_column": null,
            "overflow_y": null,
            "overflow_x": null,
            "grid_auto_flow": null,
            "grid_area": null,
            "grid_template_columns": null,
            "flex": null,
            "_model_name": "LayoutModel",
            "justify_items": null,
            "grid_row": null,
            "max_height": null,
            "align_content": null,
            "visibility": null,
            "align_self": null,
            "height": "40px",
            "min_height": null,
            "padding": null,
            "grid_auto_rows": null,
            "grid_gap": null,
            "max_width": null,
            "order": null,
            "_view_module_version": "1.2.0",
            "grid_template_areas": null,
            "object_position": null,
            "object_fit": null,
            "grid_auto_columns": null,
            "margin": null,
            "display": null,
            "left": null
          }
        },
        "0f4a93efb48449449a8bb742f41a4f58": {
          "model_module": "@jupyter-widgets/controls",
          "model_name": "DescriptionStyleModel",
          "state": {
            "_view_name": "StyleView",
            "_model_name": "DescriptionStyleModel",
            "description_width": "",
            "_view_module": "@jupyter-widgets/base",
            "_model_module_version": "1.5.0",
            "_view_count": null,
            "_view_module_version": "1.2.0",
            "_model_module": "@jupyter-widgets/controls"
          }
        },
        "66d3a24a0ff54ffa8d0f817b479b773b": {
          "model_module": "@jupyter-widgets/base",
          "model_name": "LayoutModel",
          "state": {
            "_view_name": "LayoutView",
            "grid_template_rows": null,
            "right": null,
            "justify_content": null,
            "_view_module": "@jupyter-widgets/base",
            "overflow": null,
            "_model_module_version": "1.2.0",
            "_view_count": null,
            "flex_flow": null,
            "width": null,
            "min_width": null,
            "border": null,
            "align_items": null,
            "bottom": null,
            "_model_module": "@jupyter-widgets/base",
            "top": null,
            "grid_column": null,
            "overflow_y": null,
            "overflow_x": null,
            "grid_auto_flow": null,
            "grid_area": null,
            "grid_template_columns": null,
            "flex": null,
            "_model_name": "LayoutModel",
            "justify_items": null,
            "grid_row": null,
            "max_height": null,
            "align_content": null,
            "visibility": null,
            "align_self": null,
            "height": null,
            "min_height": null,
            "padding": null,
            "grid_auto_rows": null,
            "grid_gap": null,
            "max_width": null,
            "order": null,
            "_view_module_version": "1.2.0",
            "grid_template_areas": null,
            "object_position": null,
            "object_fit": null,
            "grid_auto_columns": null,
            "margin": null,
            "display": null,
            "left": null
          }
        },
        "4fb960c80d164eefb1cf8b2757e9347a": {
          "model_module": "@jupyter-widgets/base",
          "model_name": "LayoutModel",
          "state": {
            "_view_name": "LayoutView",
            "grid_template_rows": null,
            "right": null,
            "justify_content": null,
            "_view_module": "@jupyter-widgets/base",
            "overflow": null,
            "_model_module_version": "1.2.0",
            "_view_count": null,
            "flex_flow": null,
            "width": null,
            "min_width": null,
            "border": null,
            "align_items": null,
            "bottom": null,
            "_model_module": "@jupyter-widgets/base",
            "top": null,
            "grid_column": null,
            "overflow_y": null,
            "overflow_x": null,
            "grid_auto_flow": null,
            "grid_area": null,
            "grid_template_columns": null,
            "flex": null,
            "_model_name": "LayoutModel",
            "justify_items": null,
            "grid_row": null,
            "max_height": null,
            "align_content": null,
            "visibility": null,
            "align_self": null,
            "height": null,
            "min_height": null,
            "padding": null,
            "grid_auto_rows": null,
            "grid_gap": null,
            "max_width": null,
            "order": null,
            "_view_module_version": "1.2.0",
            "grid_template_areas": null,
            "object_position": null,
            "object_fit": null,
            "grid_auto_columns": null,
            "margin": null,
            "display": null,
            "left": null
          }
        }
      }
    }
  },
  "cells": [
    {
      "cell_type": "markdown",
      "metadata": {
        "id": "view-in-github",
        "colab_type": "text"
      },
      "source": [
        "<a href=\"https://colab.research.google.com/github/anyaiyer/melanoma-detection/blob/main/melanoma_model.ipynb\" target=\"_parent\"><img src=\"https://colab.research.google.com/assets/colab-badge.svg\" alt=\"Open In Colab\"/></a>"
      ]
    },
    {
      "cell_type": "markdown",
      "metadata": {
        "id": "IEW7ndvFYPnq"
      },
      "source": [
        "## Interactive Application of Melanoma Model\n",
        "\n",
        "Scroll down to use with finished application of this project. Code for building the widgets comes from Fastai fastbook, chapter 2. "
      ]
    },
    {
      "cell_type": "code",
      "metadata": {
        "id": "GVkS_Bdn8BHB",
        "cellView": "form"
      },
      "source": [
        "#@title\n",
        "!pip install -Uqq fastbook\n",
        "import fastbook\n",
        "fastbook.setup_book()"
      ],
      "execution_count": 1,
      "outputs": []
    },
    {
      "cell_type": "code",
      "metadata": {
        "id": "-g4bAwGq8BJi",
        "cellView": "form"
      },
      "source": [
        "#@title\n",
        "from fastai.vision.all import *\n",
        "from fastbook import *\n",
        "\n",
        "matplotlib.rc('image', cmap='Greys')"
      ],
      "execution_count": 2,
      "outputs": []
    },
    {
      "cell_type": "code",
      "metadata": {
        "id": "QET13bZkSk4d",
        "cellView": "form"
      },
      "source": [
        "#@title\n",
        "import warnings\n",
        "warnings.filterwarnings(\"ignore\", category=UserWarning, module=\"torch.nn.functional\")"
      ],
      "execution_count": 3,
      "outputs": []
    },
    {
      "cell_type": "code",
      "metadata": {
        "id": "3LRFTMz_Se_G",
        "cellView": "form"
      },
      "source": [
        "#@title\n",
        "from fastai import *"
      ],
      "execution_count": 4,
      "outputs": []
    },
    {
      "cell_type": "code",
      "metadata": {
        "id": "O_ongYIg8BL4",
        "colab": {
          "base_uri": "https://localhost:8080/"
        },
        "cellView": "form",
        "outputId": "a16017f2-2ab2-4481-e3d1-0172205741bc"
      },
      "source": [
        "#@title\n",
        "from google.colab import drive\n",
        "drive.mount('/content/gdrive')"
      ],
      "execution_count": 5,
      "outputs": [
        {
          "output_type": "stream",
          "text": [
            "Drive already mounted at /content/gdrive; to attempt to forcibly remount, call drive.mount(\"/content/gdrive\", force_remount=True).\n"
          ],
          "name": "stdout"
        }
      ]
    },
    {
      "cell_type": "code",
      "metadata": {
        "id": "I2DIDsaT8BOY",
        "cellView": "form"
      },
      "source": [
        "#@title\n",
        "root_dir = \"/content/gdrive/My Drive/Colab Notebooks/cancer_detection/\""
      ],
      "execution_count": 6,
      "outputs": []
    },
    {
      "cell_type": "code",
      "metadata": {
        "id": "esbYy6ft8BQs",
        "cellView": "form"
      },
      "source": [
        "#@title\n",
        "import pandas as pd"
      ],
      "execution_count": 7,
      "outputs": []
    },
    {
      "cell_type": "code",
      "metadata": {
        "id": "AlA71TYK8Kne",
        "cellView": "form"
      },
      "source": [
        "#@title\n",
        "label_info = pd.read_csv(f\"{root_dir}/train.csv\")"
      ],
      "execution_count": 8,
      "outputs": []
    },
    {
      "cell_type": "code",
      "metadata": {
        "id": "yz1B5hrL8L6t",
        "cellView": "form"
      },
      "source": [
        "#@title\n",
        "def label_func(fname): # function grabs the label from the image name\n",
        "    label =  label_info.loc[label_info['image_name'] == fname.name[:-4]]['target'].item()\n",
        "    return label"
      ],
      "execution_count": 9,
      "outputs": []
    },
    {
      "cell_type": "code",
      "metadata": {
        "id": "l7oCiBWT8Rdx",
        "cellView": "form"
      },
      "source": [
        "#@title\n",
        "dblock = DataBlock(blocks    = (ImageBlock, CategoryBlock), # independent & dependent variables\n",
        "                   get_items = get_image_files, # gets the images\n",
        "                   get_y     = label_func, # gets the labels\n",
        "                   splitter  = RandomSplitter(valid_pct=0.1,seed=42), # 20% used for the validation set\n",
        "                   batch_tfms=aug_transforms(mult=1.0, # data augmentation\n",
        "                                             do_flip=True, \n",
        "                                             flip_vert=True,\n",
        "                                             max_rotate=10.0,\n",
        "                                             min_zoom=1.0,\n",
        "                                             max_zoom=1.1,\n",
        "                                             max_lighting=0.2, \n",
        "                                             max_warp=0.0,\n",
        "                                             p_affine=0.0,\n",
        "                                             p_lighting=0.0,\n",
        "                                             xtra_tfms=None,\n",
        "                                             size=None, \n",
        "                                             mode='bilinear',\n",
        "                                             pad_mode='reflection',\n",
        "                                             align_corners=True,\n",
        "                                             batch=False, min_scale=1.0), \n",
        "                   item_tfms = Resize(224)) # resizing the image"
      ],
      "execution_count": 10,
      "outputs": []
    },
    {
      "cell_type": "code",
      "metadata": {
        "id": "R8QGYDuKj2ld",
        "cellView": "form"
      },
      "source": [
        "#@title\n",
        "path = Path(\"/content/gdrive/My Drive/Colab Notebooks/cancer_detection/train6\") # file path for the image"
      ],
      "execution_count": 11,
      "outputs": []
    },
    {
      "cell_type": "code",
      "metadata": {
        "id": "0SF-Y16g8c0q",
        "cellView": "form"
      },
      "source": [
        "#@title\n",
        "dls = dblock.dataloaders(path)  \n",
        "dls.bs = 32 # batch size"
      ],
      "execution_count": 12,
      "outputs": []
    },
    {
      "cell_type": "code",
      "metadata": {
        "id": "JVcGnvU-7isn",
        "cellView": "form"
      },
      "source": [
        "#@title\n",
        "predictor = Path('/content/gdrive/My Drive/Colab Notebooks/cancer_detection/model_1.pth') # path of model"
      ],
      "execution_count": 13,
      "outputs": []
    },
    {
      "cell_type": "code",
      "metadata": {
        "colab": {
          "base_uri": "https://localhost:8080/"
        },
        "id": "va8DUhYrO9tr",
        "cellView": "form",
        "outputId": "f86d90ff-3259-4eb2-e458-bab61c864dc2"
      },
      "source": [
        "#@title\n",
        "predictor = cnn_learner(dls, resnet50, metrics=metrics)\n",
        "predictor.load(f\"{root_dir}/model_1\") # load model"
      ],
      "execution_count": 14,
      "outputs": [
        {
          "output_type": "execute_result",
          "data": {
            "text/plain": [
              "<fastai.learner.Learner at 0x7f8fc7bb6ad0>"
            ]
          },
          "metadata": {
            "tags": []
          },
          "execution_count": 14
        }
      ]
    },
    {
      "cell_type": "code",
      "metadata": {
        "id": "UEH5QWuK4Qu7",
        "cellView": "form"
      },
      "source": [
        "#@title\n",
        "from ipywidgets import Button, HBox, VBox\n",
        "import ipywidgets as widgets\n",
        "from IPython.display import display"
      ],
      "execution_count": 15,
      "outputs": []
    },
    {
      "cell_type": "code",
      "metadata": {
        "id": "7LUwma4087nJ",
        "cellView": "form"
      },
      "source": [
        "#@title\n",
        "btn_upload = widgets.FileUpload(layout=widgets.Layout(width='%10', height='40px'),\n",
        "    style= {'button_color': 'lightblue'})"
      ],
      "execution_count": 16,
      "outputs": []
    },
    {
      "cell_type": "code",
      "metadata": {
        "cellView": "form",
        "id": "bVAsKvRLSRFH"
      },
      "source": [
        "#@title\n",
        "btn_upload = SimpleNamespace(data = ['/content/gdrive/My Drive/Colab Notebooks/cancer_detection/test1/ISIC_3609081.jpg'])"
      ],
      "execution_count": 18,
      "outputs": []
    },
    {
      "cell_type": "code",
      "metadata": {
        "cellView": "form",
        "id": "qEEVzKD-Ro-U"
      },
      "source": [
        "#@title\n",
        "out_pl = widgets.Output()"
      ],
      "execution_count": 19,
      "outputs": []
    },
    {
      "cell_type": "code",
      "metadata": {
        "cellView": "form",
        "id": "18-LP9JoX7Qj"
      },
      "source": [
        "#@title\n",
        "img = PILImage.create(btn_upload.data[-1])"
      ],
      "execution_count": 21,
      "outputs": []
    },
    {
      "cell_type": "code",
      "metadata": {
        "colab": {
          "base_uri": "https://localhost:8080/",
          "height": 17
        },
        "cellView": "form",
        "id": "dVZ-v1cORsGK",
        "outputId": "5e67b856-da81-4243-effe-4344a6083bd1"
      },
      "source": [
        "#@title\n",
        "pred,pred_idx,probs = predictor.predict(img)"
      ],
      "execution_count": 22,
      "outputs": [
        {
          "output_type": "display_data",
          "data": {
            "text/html": [
              ""
            ],
            "text/plain": [
              "<IPython.core.display.HTML object>"
            ]
          },
          "metadata": {
            "tags": []
          }
        }
      ]
    },
    {
      "cell_type": "code",
      "metadata": {
        "cellView": "form",
        "id": "b2Bax3FVSYqr"
      },
      "source": [
        "#@title\n",
        "lbl_pred = widgets.Label()\n",
        "lbl_pred.value = f'Prediction: {pred}; Probability: {probs[pred_idx]:.04f}'"
      ],
      "execution_count": 23,
      "outputs": []
    },
    {
      "cell_type": "code",
      "metadata": {
        "cellView": "form",
        "id": "inL5vTdhSad8"
      },
      "source": [
        "#@title\n",
        "btn_run = widgets.Button(description='Classify', layout=widgets.Layout(width='%10', height='40px'),style= {'button_color': 'lightgreen'})"
      ],
      "execution_count": 24,
      "outputs": []
    },
    {
      "cell_type": "code",
      "metadata": {
        "id": "UVCz6cR9hG97",
        "cellView": "form"
      },
      "source": [
        "#@title\n",
        "def on_click_classify(change):\n",
        "    img = PILImage.create(btn_upload.data[-1])\n",
        "    out_pl.clear_output()\n",
        "    with out_pl: display(img.to_thumb(128,128))\n",
        "    pred,pred_idx,probs = predictor.predict(img)\n",
        "    lbl_pred.value = f'Prediction: {pred}; Probability: {probs[pred_idx]:.04f}'\n",
        "\n",
        "btn_run.on_click(on_click_classify)"
      ],
      "execution_count": 25,
      "outputs": []
    },
    {
      "cell_type": "code",
      "metadata": {
        "cellView": "form",
        "id": "mudBwJKsSmc6"
      },
      "source": [
        "#@title\n",
        "btn_upload = widgets.FileUpload(layout=widgets.Layout(width='%10', height='40px'),\n",
        "    style= {'button_color': 'lightblue'})"
      ],
      "execution_count": 26,
      "outputs": []
    },
    {
      "cell_type": "code",
      "metadata": {
        "colab": {
          "base_uri": "https://localhost:8080/",
          "height": 169,
          "referenced_widgets": [
            "0066fd2ba0e04af9b7b1c5f8f940537d",
            "5668184ee0724029a0b7c31bade26bb5",
            "c6214796baff4733bb8acb6db8a7d16c",
            "b449eb3796aa443dbc74c81e7b71c67b",
            "3aba1a2f931a468d82f883c93324c938",
            "389710dc67be4f40957a09f90d1d6cde",
            "94b217ca392c4c76b41dbb4501e5fede",
            "f2ac83104dd0445ebfeaba81c518a608",
            "0e43cdfb981c4ef690417207e7708ee1",
            "da3948711da840538a8f3bc183d4a455",
            "b3bc54dfdced425eb4017c2420e2e9d9",
            "1ef1e291e9a04cb89ed56cff2436c014",
            "98d5212a2c954d37ab5a543173dbe1ca",
            "0f4a93efb48449449a8bb742f41a4f58",
            "66d3a24a0ff54ffa8d0f817b479b773b",
            "4fb960c80d164eefb1cf8b2757e9347a"
          ]
        },
        "id": "sVqUAdMGiRhx",
        "cellView": "form",
        "outputId": "386a609c-35cd-4915-e16c-9a7dd5e2410b"
      },
      "source": [
        "#@title\n",
        "display_pred = VBox([widgets.Label('Select your image'), \n",
        "      btn_upload, btn_run, out_pl, lbl_pred])\n",
        "display_pred"
      ],
      "execution_count": 27,
      "outputs": [
        {
          "output_type": "display_data",
          "data": {
            "application/vnd.jupyter.widget-view+json": {
              "model_id": "0066fd2ba0e04af9b7b1c5f8f940537d",
              "version_minor": 0,
              "version_major": 2
            },
            "text/plain": [
              "VBox(children=(Label(value='Select your image'), FileUpload(value={}, description='Upload', layout=Layout(heig…"
            ]
          },
          "metadata": {
            "tags": []
          }
        }
      ]
    }
  ]
}