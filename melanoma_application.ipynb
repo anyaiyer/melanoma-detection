{
  "nbformat": 4,
  "nbformat_minor": 0,
  "metadata": {
    "colab": {
      "name": "melanoma_application.ipynb",
      "provenance": [],
      "collapsed_sections": [],
      "authorship_tag": "ABX9TyPr4nARqBUOhFIFDjjn7eFW",
      "include_colab_link": true
    },
    "kernelspec": {
      "display_name": "Python 3",
      "name": "python3"
    },
    "language_info": {
      "name": "python"
    },
    "widgets": {
      "application/vnd.jupyter.widget-state+json": {
        "beca8d821d7f4eea8259bc4bd992242e": {
          "model_module": "@jupyter-widgets/controls",
          "model_name": "VBoxModel",
          "state": {
            "_view_name": "VBoxView",
            "_dom_classes": [],
            "_model_name": "VBoxModel",
            "_view_module": "@jupyter-widgets/controls",
            "_model_module_version": "1.5.0",
            "_view_count": null,
            "_view_module_version": "1.5.0",
            "box_style": "",
            "layout": "IPY_MODEL_04e0aa9256d649588378eb7082aa5fcd",
            "_model_module": "@jupyter-widgets/controls",
            "children": [
              "IPY_MODEL_7d33e6c50066418c91738f5f97e2237b",
              "IPY_MODEL_8f3ba0855c03482eb36a36f3050cf57e",
              "IPY_MODEL_d9a26fef3f404bf694fe9dd16d811a31",
              "IPY_MODEL_ee9be1f0b1184683bcbd41dcff8656c1",
              "IPY_MODEL_f3098d99186c4dac8711e2680495c6ba"
            ]
          }
        },
        "04e0aa9256d649588378eb7082aa5fcd": {
          "model_module": "@jupyter-widgets/base",
          "model_name": "LayoutModel",
          "state": {
            "_view_name": "LayoutView",
            "grid_template_rows": null,
            "right": null,
            "justify_content": null,
            "_view_module": "@jupyter-widgets/base",
            "overflow": null,
            "_model_module_version": "1.2.0",
            "_view_count": null,
            "flex_flow": null,
            "width": null,
            "min_width": null,
            "border": null,
            "align_items": null,
            "bottom": null,
            "_model_module": "@jupyter-widgets/base",
            "top": null,
            "grid_column": null,
            "overflow_y": null,
            "overflow_x": null,
            "grid_auto_flow": null,
            "grid_area": null,
            "grid_template_columns": null,
            "flex": null,
            "_model_name": "LayoutModel",
            "justify_items": null,
            "grid_row": null,
            "max_height": null,
            "align_content": null,
            "visibility": null,
            "align_self": null,
            "height": null,
            "min_height": null,
            "padding": null,
            "grid_auto_rows": null,
            "grid_gap": null,
            "max_width": null,
            "order": null,
            "_view_module_version": "1.2.0",
            "grid_template_areas": null,
            "object_position": null,
            "object_fit": null,
            "grid_auto_columns": null,
            "margin": null,
            "display": null,
            "left": null
          }
        },
        "7d33e6c50066418c91738f5f97e2237b": {
          "model_module": "@jupyter-widgets/controls",
          "model_name": "LabelModel",
          "state": {
            "_view_name": "LabelView",
            "style": "IPY_MODEL_a2a30d25489145ff9f4c1daec4a771d0",
            "_dom_classes": [],
            "description": "",
            "_model_name": "LabelModel",
            "placeholder": "​",
            "_view_module": "@jupyter-widgets/controls",
            "_model_module_version": "1.5.0",
            "value": "Select your image",
            "_view_count": null,
            "_view_module_version": "1.5.0",
            "description_tooltip": null,
            "_model_module": "@jupyter-widgets/controls",
            "layout": "IPY_MODEL_430d701efa514a0db1ccfbe0240e80e8"
          }
        },
        "8f3ba0855c03482eb36a36f3050cf57e": {
          "model_module": "@jupyter-widgets/controls",
          "model_name": "FileUploadModel",
          "state": {
            "_view_name": "FileUploadView",
            "_counter": 1,
            "style": "IPY_MODEL_181e96dee98748b5a4ee8686f7bdd4b1",
            "_dom_classes": [],
            "description": "Upload",
            "multiple": false,
            "_model_name": "FileUploadModel",
            "data": [
              null
            ],
            "button_style": "",
            "_view_module": "@jupyter-widgets/controls",
            "_model_module_version": "1.5.0",
            "accept": "",
            "_view_count": null,
            "disabled": false,
            "_view_module_version": "1.5.0",
            "error": "",
            "description_tooltip": null,
            "metadata": [
              {
                "name": "ISIC_9987545.jpg",
                "type": "image/jpeg",
                "size": 397603,
                "lastModified": 1590607632000
              }
            ],
            "_model_module": "@jupyter-widgets/controls",
            "layout": "IPY_MODEL_c628a184a8d048b9a03716d062e3b671",
            "icon": "upload"
          }
        },
        "d9a26fef3f404bf694fe9dd16d811a31": {
          "model_module": "@jupyter-widgets/controls",
          "model_name": "ButtonModel",
          "state": {
            "_view_name": "ButtonView",
            "style": "IPY_MODEL_f56322732e884ae5b0e41d35b3da6051",
            "_dom_classes": [],
            "description": "Classify",
            "_model_name": "ButtonModel",
            "button_style": "",
            "_view_module": "@jupyter-widgets/controls",
            "_model_module_version": "1.5.0",
            "tooltip": "",
            "_view_count": null,
            "disabled": false,
            "_view_module_version": "1.5.0",
            "layout": "IPY_MODEL_829b44d48f31472da5f418d93be6fff8",
            "_model_module": "@jupyter-widgets/controls",
            "icon": ""
          }
        },
        "ee9be1f0b1184683bcbd41dcff8656c1": {
          "model_module": "@jupyter-widgets/output",
          "model_name": "OutputModel",
          "state": {
            "_view_name": "OutputView",
            "msg_id": "",
            "_dom_classes": [],
            "_model_name": "OutputModel",
            "outputs": [
              {
                "output_type": "display_data",
                "metadata": {
                  "tags": []
                },
                "image/png": "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\n",
                "text/plain": "<PIL.Image.Image image mode=RGB size=128x96 at 0x7F4B85004190>"
              }
            ],
            "_view_module": "@jupyter-widgets/output",
            "_model_module_version": "1.0.0",
            "_view_count": null,
            "_view_module_version": "1.0.0",
            "layout": "IPY_MODEL_545086dd6e8b4a09a3d968e1fa75ecb5",
            "_model_module": "@jupyter-widgets/output"
          }
        },
        "f3098d99186c4dac8711e2680495c6ba": {
          "model_module": "@jupyter-widgets/controls",
          "model_name": "LabelModel",
          "state": {
            "_view_name": "LabelView",
            "style": "IPY_MODEL_5f67d7b597b347888632235fa172f1c3",
            "_dom_classes": [],
            "description": "",
            "_model_name": "LabelModel",
            "placeholder": "​",
            "_view_module": "@jupyter-widgets/controls",
            "_model_module_version": "1.5.0",
            "value": "Prediction: 0; Probability: 0.9145",
            "_view_count": null,
            "_view_module_version": "1.5.0",
            "description_tooltip": null,
            "_model_module": "@jupyter-widgets/controls",
            "layout": "IPY_MODEL_6fe72be36fab44ab98e804ff43fcc408"
          }
        },
        "a2a30d25489145ff9f4c1daec4a771d0": {
          "model_module": "@jupyter-widgets/controls",
          "model_name": "DescriptionStyleModel",
          "state": {
            "_view_name": "StyleView",
            "_model_name": "DescriptionStyleModel",
            "description_width": "",
            "_view_module": "@jupyter-widgets/base",
            "_model_module_version": "1.5.0",
            "_view_count": null,
            "_view_module_version": "1.2.0",
            "_model_module": "@jupyter-widgets/controls"
          }
        },
        "430d701efa514a0db1ccfbe0240e80e8": {
          "model_module": "@jupyter-widgets/base",
          "model_name": "LayoutModel",
          "state": {
            "_view_name": "LayoutView",
            "grid_template_rows": null,
            "right": null,
            "justify_content": null,
            "_view_module": "@jupyter-widgets/base",
            "overflow": null,
            "_model_module_version": "1.2.0",
            "_view_count": null,
            "flex_flow": null,
            "width": null,
            "min_width": null,
            "border": null,
            "align_items": null,
            "bottom": null,
            "_model_module": "@jupyter-widgets/base",
            "top": null,
            "grid_column": null,
            "overflow_y": null,
            "overflow_x": null,
            "grid_auto_flow": null,
            "grid_area": null,
            "grid_template_columns": null,
            "flex": null,
            "_model_name": "LayoutModel",
            "justify_items": null,
            "grid_row": null,
            "max_height": null,
            "align_content": null,
            "visibility": null,
            "align_self": null,
            "height": null,
            "min_height": null,
            "padding": null,
            "grid_auto_rows": null,
            "grid_gap": null,
            "max_width": null,
            "order": null,
            "_view_module_version": "1.2.0",
            "grid_template_areas": null,
            "object_position": null,
            "object_fit": null,
            "grid_auto_columns": null,
            "margin": null,
            "display": null,
            "left": null
          }
        },
        "181e96dee98748b5a4ee8686f7bdd4b1": {
          "model_module": "@jupyter-widgets/controls",
          "model_name": "ButtonStyleModel",
          "state": {
            "_view_name": "StyleView",
            "_model_name": "ButtonStyleModel",
            "_view_module": "@jupyter-widgets/base",
            "_model_module_version": "1.5.0",
            "_view_count": null,
            "button_color": "lightblue",
            "font_weight": "",
            "_view_module_version": "1.2.0",
            "_model_module": "@jupyter-widgets/controls"
          }
        },
        "c628a184a8d048b9a03716d062e3b671": {
          "model_module": "@jupyter-widgets/base",
          "model_name": "LayoutModel",
          "state": {
            "_view_name": "LayoutView",
            "grid_template_rows": null,
            "right": null,
            "justify_content": null,
            "_view_module": "@jupyter-widgets/base",
            "overflow": null,
            "_model_module_version": "1.2.0",
            "_view_count": null,
            "flex_flow": null,
            "width": "%10",
            "min_width": null,
            "border": null,
            "align_items": null,
            "bottom": null,
            "_model_module": "@jupyter-widgets/base",
            "top": null,
            "grid_column": null,
            "overflow_y": null,
            "overflow_x": null,
            "grid_auto_flow": null,
            "grid_area": null,
            "grid_template_columns": null,
            "flex": null,
            "_model_name": "LayoutModel",
            "justify_items": null,
            "grid_row": null,
            "max_height": null,
            "align_content": null,
            "visibility": null,
            "align_self": null,
            "height": "40px",
            "min_height": null,
            "padding": null,
            "grid_auto_rows": null,
            "grid_gap": null,
            "max_width": null,
            "order": null,
            "_view_module_version": "1.2.0",
            "grid_template_areas": null,
            "object_position": null,
            "object_fit": null,
            "grid_auto_columns": null,
            "margin": null,
            "display": null,
            "left": null
          }
        },
        "f56322732e884ae5b0e41d35b3da6051": {
          "model_module": "@jupyter-widgets/controls",
          "model_name": "ButtonStyleModel",
          "state": {
            "_view_name": "StyleView",
            "_model_name": "ButtonStyleModel",
            "_view_module": "@jupyter-widgets/base",
            "_model_module_version": "1.5.0",
            "_view_count": null,
            "button_color": "lightgreen",
            "font_weight": "",
            "_view_module_version": "1.2.0",
            "_model_module": "@jupyter-widgets/controls"
          }
        },
        "829b44d48f31472da5f418d93be6fff8": {
          "model_module": "@jupyter-widgets/base",
          "model_name": "LayoutModel",
          "state": {
            "_view_name": "LayoutView",
            "grid_template_rows": null,
            "right": null,
            "justify_content": null,
            "_view_module": "@jupyter-widgets/base",
            "overflow": null,
            "_model_module_version": "1.2.0",
            "_view_count": null,
            "flex_flow": null,
            "width": "%10",
            "min_width": null,
            "border": null,
            "align_items": null,
            "bottom": null,
            "_model_module": "@jupyter-widgets/base",
            "top": null,
            "grid_column": null,
            "overflow_y": null,
            "overflow_x": null,
            "grid_auto_flow": null,
            "grid_area": null,
            "grid_template_columns": null,
            "flex": null,
            "_model_name": "LayoutModel",
            "justify_items": null,
            "grid_row": null,
            "max_height": null,
            "align_content": null,
            "visibility": null,
            "align_self": null,
            "height": "40px",
            "min_height": null,
            "padding": null,
            "grid_auto_rows": null,
            "grid_gap": null,
            "max_width": null,
            "order": null,
            "_view_module_version": "1.2.0",
            "grid_template_areas": null,
            "object_position": null,
            "object_fit": null,
            "grid_auto_columns": null,
            "margin": null,
            "display": null,
            "left": null
          }
        },
        "5f67d7b597b347888632235fa172f1c3": {
          "model_module": "@jupyter-widgets/controls",
          "model_name": "DescriptionStyleModel",
          "state": {
            "_view_name": "StyleView",
            "_model_name": "DescriptionStyleModel",
            "description_width": "",
            "_view_module": "@jupyter-widgets/base",
            "_model_module_version": "1.5.0",
            "_view_count": null,
            "_view_module_version": "1.2.0",
            "_model_module": "@jupyter-widgets/controls"
          }
        },
        "6fe72be36fab44ab98e804ff43fcc408": {
          "model_module": "@jupyter-widgets/base",
          "model_name": "LayoutModel",
          "state": {
            "_view_name": "LayoutView",
            "grid_template_rows": null,
            "right": null,
            "justify_content": null,
            "_view_module": "@jupyter-widgets/base",
            "overflow": null,
            "_model_module_version": "1.2.0",
            "_view_count": null,
            "flex_flow": null,
            "width": null,
            "min_width": null,
            "border": null,
            "align_items": null,
            "bottom": null,
            "_model_module": "@jupyter-widgets/base",
            "top": null,
            "grid_column": null,
            "overflow_y": null,
            "overflow_x": null,
            "grid_auto_flow": null,
            "grid_area": null,
            "grid_template_columns": null,
            "flex": null,
            "_model_name": "LayoutModel",
            "justify_items": null,
            "grid_row": null,
            "max_height": null,
            "align_content": null,
            "visibility": null,
            "align_self": null,
            "height": null,
            "min_height": null,
            "padding": null,
            "grid_auto_rows": null,
            "grid_gap": null,
            "max_width": null,
            "order": null,
            "_view_module_version": "1.2.0",
            "grid_template_areas": null,
            "object_position": null,
            "object_fit": null,
            "grid_auto_columns": null,
            "margin": null,
            "display": null,
            "left": null
          }
        },
        "545086dd6e8b4a09a3d968e1fa75ecb5": {
          "model_module": "@jupyter-widgets/base",
          "model_name": "LayoutModel",
          "state": {
            "_view_name": "LayoutView",
            "grid_template_rows": null,
            "right": null,
            "justify_content": null,
            "_view_module": "@jupyter-widgets/base",
            "overflow": null,
            "_model_module_version": "1.2.0",
            "_view_count": null,
            "flex_flow": null,
            "width": null,
            "min_width": null,
            "border": null,
            "align_items": null,
            "bottom": null,
            "_model_module": "@jupyter-widgets/base",
            "top": null,
            "grid_column": null,
            "overflow_y": null,
            "overflow_x": null,
            "grid_auto_flow": null,
            "grid_area": null,
            "grid_template_columns": null,
            "flex": null,
            "_model_name": "LayoutModel",
            "justify_items": null,
            "grid_row": null,
            "max_height": null,
            "align_content": null,
            "visibility": null,
            "align_self": null,
            "height": null,
            "min_height": null,
            "padding": null,
            "grid_auto_rows": null,
            "grid_gap": null,
            "max_width": null,
            "order": null,
            "_view_module_version": "1.2.0",
            "grid_template_areas": null,
            "object_position": null,
            "object_fit": null,
            "grid_auto_columns": null,
            "margin": null,
            "display": null,
            "left": null
          }
        }
      }
    }
  },
  "cells": [
    {
      "cell_type": "markdown",
      "metadata": {
        "id": "view-in-github",
        "colab_type": "text"
      },
      "source": [
        "<a href=\"https://colab.research.google.com/github/anyaiyer/melanoma-detection/blob/main/melanoma_application.ipynb\" target=\"_parent\"><img src=\"https://colab.research.google.com/assets/colab-badge.svg\" alt=\"Open In Colab\"/></a>"
      ]
    },
    {
      "cell_type": "markdown",
      "metadata": {
        "id": "IEW7ndvFYPnq"
      },
      "source": [
        "## Interactive Application of Melanoma Model\n",
        "\n",
        "Scroll down to use the finished application of this project. Code for building the widgets comes from [Fastai fastbook, chapter 2](https://github.com/fastai/fastbook/blob/master/02_production.ipynb). "
      ]
    },
    {
      "cell_type": "code",
      "metadata": {
        "id": "GVkS_Bdn8BHB",
        "cellView": "form"
      },
      "source": [
        "#@title\n",
        "!pip install -Uqq fastbook\n",
        "import fastbook\n",
        "fastbook.setup_book()"
      ],
      "execution_count": 1,
      "outputs": []
    },
    {
      "cell_type": "code",
      "metadata": {
        "id": "-g4bAwGq8BJi"
      },
      "source": [
        "#@title\n",
        "from fastai.vision.all import *\n",
        "from fastbook import *\n",
        "\n",
        "matplotlib.rc('image', cmap='Greys')"
      ],
      "execution_count": 2,
      "outputs": []
    },
    {
      "cell_type": "code",
      "metadata": {
        "id": "3LRFTMz_Se_G"
      },
      "source": [
        "#@title\n",
        "from fastai import *"
      ],
      "execution_count": 3,
      "outputs": []
    },
    {
      "cell_type": "code",
      "metadata": {
        "id": "O_ongYIg8BL4",
        "colab": {
          "base_uri": "https://localhost:8080/"
        },
        "outputId": "05a65dab-d78b-4983-8266-8c7bccc7abc0"
      },
      "source": [
        "#@title\n",
        "from google.colab import drive\n",
        "drive.mount('/content/gdrive')"
      ],
      "execution_count": 4,
      "outputs": [
        {
          "output_type": "stream",
          "text": [
            "Drive already mounted at /content/gdrive; to attempt to forcibly remount, call drive.mount(\"/content/gdrive\", force_remount=True).\n"
          ],
          "name": "stdout"
        }
      ]
    },
    {
      "cell_type": "code",
      "metadata": {
        "id": "I2DIDsaT8BOY"
      },
      "source": [
        "#@title\n",
        "root_dir = \"/content/gdrive/My Drive/Colab Notebooks/cancer_detection/\""
      ],
      "execution_count": 5,
      "outputs": []
    },
    {
      "cell_type": "code",
      "metadata": {
        "id": "esbYy6ft8BQs"
      },
      "source": [
        "#@title\n",
        "import pandas as pd"
      ],
      "execution_count": 6,
      "outputs": []
    },
    {
      "cell_type": "code",
      "metadata": {
        "id": "AlA71TYK8Kne"
      },
      "source": [
        "#@title\n",
        "label_info = pd.read_csv(f\"{root_dir}/train.csv\")"
      ],
      "execution_count": 7,
      "outputs": []
    },
    {
      "cell_type": "code",
      "metadata": {
        "id": "yz1B5hrL8L6t"
      },
      "source": [
        "#@title\n",
        "def label_func(fname): # function grabs the label from the image name\n",
        "    label =  label_info.loc[label_info['image_name'] == fname.name[:-4]]['target'].item()\n",
        "    return label"
      ],
      "execution_count": 8,
      "outputs": []
    },
    {
      "cell_type": "code",
      "metadata": {
        "id": "l7oCiBWT8Rdx"
      },
      "source": [
        "#@title\n",
        "dblock = DataBlock(blocks    = (ImageBlock, CategoryBlock), # independent & dependent variables\n",
        "                   get_items = get_image_files, # gets the images\n",
        "                   get_y     = label_func, # gets the labels\n",
        "                   splitter  = RandomSplitter(valid_pct=0.1,seed=42), # 20% used for the validation set\n",
        "                   batch_tfms=aug_transforms(mult=1.0, # data augmentation\n",
        "                                             do_flip=True, \n",
        "                                             flip_vert=True,\n",
        "                                             max_rotate=10.0,\n",
        "                                             min_zoom=1.0,\n",
        "                                             max_zoom=1.1,\n",
        "                                             max_lighting=0.2, \n",
        "                                             max_warp=0.0,\n",
        "                                             p_affine=0.0,\n",
        "                                             p_lighting=0.0,\n",
        "                                             xtra_tfms=None,\n",
        "                                             size=None, \n",
        "                                             mode='bilinear',\n",
        "                                             pad_mode='reflection',\n",
        "                                             align_corners=True,\n",
        "                                             batch=False, min_scale=1.0), \n",
        "                   item_tfms = Resize(224)) # resizing the image"
      ],
      "execution_count": 9,
      "outputs": []
    },
    {
      "cell_type": "code",
      "metadata": {
        "id": "R8QGYDuKj2ld"
      },
      "source": [
        "#@title\n",
        "path = Path(\"/content/gdrive/My Drive/Colab Notebooks/cancer_detection/train6\") # file path for the image"
      ],
      "execution_count": 10,
      "outputs": []
    },
    {
      "cell_type": "code",
      "metadata": {
        "id": "0SF-Y16g8c0q"
      },
      "source": [
        "#@title\n",
        "dls = dblock.dataloaders(path)  \n",
        "dls.bs = 32 # batch size"
      ],
      "execution_count": 11,
      "outputs": []
    },
    {
      "cell_type": "code",
      "metadata": {
        "id": "JVcGnvU-7isn"
      },
      "source": [
        "#@title\n",
        "predictor = Path('/content/gdrive/My Drive/Colab Notebooks/cancer_detection/model_1.pth') # path of model"
      ],
      "execution_count": 15,
      "outputs": []
    },
    {
      "cell_type": "code",
      "metadata": {
        "colab": {
          "base_uri": "https://localhost:8080/"
        },
        "id": "va8DUhYrO9tr",
        "cellView": "form",
        "outputId": "7102fee4-a2e4-4e71-c318-658208b50652"
      },
      "source": [
        "#@title\n",
        "predictor = cnn_learner(dls, resnet50, metrics=metrics)\n",
        "predictor.load(f\"{root_dir}/model_1\") # load model"
      ],
      "execution_count": 16,
      "outputs": [
        {
          "output_type": "execute_result",
          "data": {
            "text/plain": [
              "<fastai.learner.Learner at 0x7f4b8502f310>"
            ]
          },
          "metadata": {
            "tags": []
          },
          "execution_count": 16
        }
      ]
    },
    {
      "cell_type": "code",
      "metadata": {
        "id": "UEH5QWuK4Qu7"
      },
      "source": [
        "#@title\n",
        "from ipywidgets import Button, HBox, VBox\n",
        "import ipywidgets as widgets\n",
        "from IPython.display import display"
      ],
      "execution_count": 17,
      "outputs": []
    },
    {
      "cell_type": "code",
      "metadata": {
        "id": "7LUwma4087nJ"
      },
      "source": [
        "#@title\n",
        "btn_upload = widgets.FileUpload(layout=widgets.Layout(width='%10', height='40px'),\n",
        "    style= {'button_color': 'lightblue'})"
      ],
      "execution_count": 18,
      "outputs": []
    },
    {
      "cell_type": "code",
      "metadata": {
        "id": "bVAsKvRLSRFH"
      },
      "source": [
        "#@title\n",
        "btn_upload = SimpleNamespace(data = ['/content/gdrive/My Drive/Colab Notebooks/cancer_detection/test1/ISIC_3609081.jpg'])"
      ],
      "execution_count": 19,
      "outputs": []
    },
    {
      "cell_type": "code",
      "metadata": {
        "id": "qEEVzKD-Ro-U"
      },
      "source": [
        "#@title\n",
        "out_pl = widgets.Output()"
      ],
      "execution_count": 20,
      "outputs": []
    },
    {
      "cell_type": "code",
      "metadata": {
        "id": "inL5vTdhSad8",
        "cellView": "form"
      },
      "source": [
        "#@title\n",
        "btn_run = widgets.Button(description='Classify', layout=widgets.Layout(width='%10', height='40px'),style= {'button_color': 'lightgreen'})"
      ],
      "execution_count": 22,
      "outputs": []
    },
    {
      "cell_type": "code",
      "metadata": {
        "id": "UVCz6cR9hG97",
        "cellView": "form"
      },
      "source": [
        "#@title\n",
        "def on_click_classify(change):\n",
        "    img = PILImage.create(btn_upload.data[-1])\n",
        "    out_pl.clear_output()\n",
        "    with out_pl: display(img.to_thumb(128,128))\n",
        "    pred,pred_idx,probs = predictor.predict(img)\n",
        "    lbl_pred.value = f'Prediction: {pred}; Probability: {probs[pred_idx]:.04f}'\n",
        "\n",
        "btn_run.on_click(on_click_classify)"
      ],
      "execution_count": 23,
      "outputs": []
    },
    {
      "cell_type": "code",
      "metadata": {
        "id": "mudBwJKsSmc6"
      },
      "source": [
        "#@title\n",
        "btn_upload = widgets.FileUpload(layout=widgets.Layout(width='%10', height='40px'),\n",
        "    style= {'button_color': 'lightblue'})"
      ],
      "execution_count": 24,
      "outputs": []
    },
    {
      "cell_type": "code",
      "metadata": {
        "colab": {
          "base_uri": "https://localhost:8080/",
          "height": 265,
          "referenced_widgets": [
            "beca8d821d7f4eea8259bc4bd992242e",
            "04e0aa9256d649588378eb7082aa5fcd",
            "7d33e6c50066418c91738f5f97e2237b",
            "8f3ba0855c03482eb36a36f3050cf57e",
            "d9a26fef3f404bf694fe9dd16d811a31",
            "ee9be1f0b1184683bcbd41dcff8656c1",
            "f3098d99186c4dac8711e2680495c6ba",
            "a2a30d25489145ff9f4c1daec4a771d0",
            "430d701efa514a0db1ccfbe0240e80e8",
            "181e96dee98748b5a4ee8686f7bdd4b1",
            "c628a184a8d048b9a03716d062e3b671",
            "f56322732e884ae5b0e41d35b3da6051",
            "829b44d48f31472da5f418d93be6fff8",
            "5f67d7b597b347888632235fa172f1c3",
            "6fe72be36fab44ab98e804ff43fcc408",
            "545086dd6e8b4a09a3d968e1fa75ecb5"
          ]
        },
        "id": "sVqUAdMGiRhx",
        "outputId": "0dd70e34-dd63-493f-9492-b9e21bd7312f"
      },
      "source": [
        "#@title\n",
        "display_pred = VBox([widgets.Label('Select your image'), \n",
        "      btn_upload, btn_run, out_pl, lbl_pred])\n",
        "display_pred"
      ],
      "execution_count": 25,
      "outputs": [
        {
          "output_type": "display_data",
          "data": {
            "application/vnd.jupyter.widget-view+json": {
              "model_id": "beca8d821d7f4eea8259bc4bd992242e",
              "version_minor": 0,
              "version_major": 2
            },
            "text/plain": [
              "VBox(children=(Label(value='Select your image'), FileUpload(value={}, description='Upload', layout=Layout(heig…"
            ]
          },
          "metadata": {
            "tags": []
          }
        },
        {
          "output_type": "display_data",
          "data": {
            "text/html": [
              ""
            ],
            "text/plain": [
              "<IPython.core.display.HTML object>"
            ]
          },
          "metadata": {
            "tags": []
          }
        }
      ]
    }
  ]
}